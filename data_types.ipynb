{
  "metadata": {
    "kernelspec": {
      "name": "python",
      "display_name": "Python (Pyodide)",
      "language": "python"
    },
    "language_info": {
      "codemirror_mode": {
        "name": "python",
        "version": 3
      },
      "file_extension": ".py",
      "mimetype": "text/x-python",
      "name": "python",
      "nbconvert_exporter": "python",
      "pygments_lexer": "ipython3",
      "version": "3.8"
    }
  },
  "nbformat_minor": 4,
  "nbformat": 4,
  "cells": [
    {
      "cell_type": "markdown",
      "source": "## Introduction to Python",
      "metadata": {}
    },
    {
      "cell_type": "markdown",
      "source": "**What is Software?**\n\nSoftware is a collection of instructions that tell a computer what to do. It can be applications like web browsers, games, or operating systems that help run a computer.",
      "metadata": {}
    },
    {
      "cell_type": "markdown",
      "source": "**What is Programming?**\n\nProgramming is the process of writing instructions that a computer can understand and execute. It allows us to create software that performs specific tasks.",
      "metadata": {}
    },
    {
      "cell_type": "markdown",
      "source": "**What is Code?**\n\nCode is the written instructions in a programming language that tells a computer what to do. It is the foundation of all software and applications.",
      "metadata": {}
    },
    {
      "cell_type": "markdown",
      "source": "**What is Syntax?**\n\nSyntax is the set of rules that define how to write code in a programming language. Just like grammar rules in a language, programming languages have syntax that must be followed.",
      "metadata": {}
    },
    {
      "cell_type": "markdown",
      "source": "**What is Python?**\n\nPython is a high-level, interpreted programming language that is widely used for various applications, including web development, data science, artificial intelligence, automation, and more. It is known for its simplicity, readability, and ease of learning, making it a great choice for beginners and experienced developers alike.\n\n🔹 Introduced by: Guido van Rossum in 1991",
      "metadata": {}
    },
    {
      "cell_type": "markdown",
      "source": "### Why Learn Python? 🚀\n✅ **Easy & Readable** – Simple syntax, beginner-friendly.  \n🌍 **Versatile** – Used in web dev, AI, data science, automation & more.  \n👥 **Huge Community** – Tons of support, libraries & frameworks.  \n💻 **Cross-Platform** – Runs on Windows, macOS, Linux.  \n📚 **Powerful Libraries** – Built-in tools for data, AI & web scraping.  \n\nPython makes coding fun & efficient! 🐍🔥",
      "metadata": {}
    },
    {
      "cell_type": "markdown",
      "source": "### Applications of Python 🚀 \n\n🌐 **Web Development** – Build websites using Django & Flask.  \n📊 **Data Science** – Analyze data with Pandas & NumPy.  \n🤖 **AI & Machine Learning** – Power AI models with TensorFlow & Scikit-learn.  \n⚙️ **Automation** – Write scripts to automate tasks.  \n🎮 **Game Development** – Create games with Pygame.  \n🛡️ **Cybersecurity** – Used in ethical hacking & security testing.  \n📡 **IoT (Internet of Things)** – Works with embedded systems & smart devices.  \n\nPython is everywhere! 🌍🔥",
      "metadata": {}
    },
    {
      "cell_type": "markdown",
      "source": "### Installing Python",
      "metadata": {}
    },
    {
      "cell_type": "markdown",
      "source": "##### Steps to Install Python & Set Up VS Code 💻 \n\n1️⃣ **Download Python** from [here](https://www.python.org/downloads/).  \n2️⃣ **Install Python** by following the setup instructions.  \n3️⃣ **Verify Installation** by running:  \n   ```sh\n   python --version   # For Windows  \n   python3 --version  # For macOS/Linux  \n   ```  \n4️⃣ **Install VS Code** from [here](https://code.visualstudio.com/).  \n5️⃣ **Set Up Python in VS Code:**  \n   - Open VS Code.  \n   - Install the **Python extension** from the Extensions tab.  \n   - Open a Python file and select the installed Python interpreter. ",
      "metadata": {}
    },
    {
      "cell_type": "markdown",
      "source": "6️⃣ **Run Python Code in VS Code:**  \n   - Open a `.py` file.  \n   - Click **Run** ▶️ or type `python filename.py` in the terminal.  \n\nYou're all set! 🎉 Happy coding! 🚀",
      "metadata": {}
    },
    {
      "cell_type": "markdown",
      "source": "### Variables and Data Types",
      "metadata": {}
    },
    {
      "cell_type": "markdown",
      "source": "-- Variables:Variables are like containers for storing values.Values in the variables can be changed.\n\n-- Values :In Python, values refer to the actual data stored in variables or used in expressions. They can be numbers, text, or other data types.",
      "metadata": {}
    },
    {
      "cell_type": "code",
      "source": "x = 10        # 10 is a value (integer)\nname = \"Alice\" # \"Alice\" is a value (string)\npi = 3.14      # 3.14 is a value (float)\nis_valid = True # True is a value (boolean)\n\n#Here x,name,pi,is_valid are variables.",
      "metadata": {},
      "outputs": [],
      "execution_count": null
    },
    {
      "cell_type": "markdown",
      "source": "### Data Types",
      "metadata": {}
    },
    {
      "cell_type": "markdown",
      "source": "In programming languages,every value or data has an associated type to it known as data type.",
      "metadata": {}
    },
    {
      "cell_type": "markdown",
      "source": "Some commonly used data types are:\n- String\n- Integer\n- Float\n- Boolean",
      "metadata": {}
    },
    {
      "cell_type": "markdown",
      "source": " This data type determines how the value or data can be used in the program.For ex,mathematical operations can be done on integer and float types of data.",
      "metadata": {}
    },
    {
      "cell_type": "markdown",
      "source": "In Python, data types are classified into two categories:\n\n🔄 **Mutable (Changeable)** – Can be modified after creation.  \n🚫 **Immutable (Unchangeable)** – Cannot be modified after creation.\n\n| Data Type     | Mutable? 🔄/🚫 | Example                      |\n|--------------|--------------|------------------------------|\n| **List**   | 🔄 Yes       | `[1, 2, 3]`                 |\n| **Dictionary** 📖 | 🔄 Yes  | `{\"name\": \"Alice\", \"age\": 25}` |\n| **Set**    | 🔄 Yes       | `{1, 2, 3}`                 |\n| **Tuple**  | 🚫 No       | `(10, 20, 30)`              |\n| **String** 🔤| 🚫 No       | `\"Hello, World!\"`           |\n| **Integer** 🔢 | 🚫 No     | `42`                        |\n| **Float**  | 🚫 No       | `3.14`                      |\n| **Boolean** ✅❌ | 🚫 No   | `True` / `False`            |\n\n### Mutable vs Immutable – What's the Buzz? 🤔\n- **Mutable** data types are like **whiteboards** – you can erase and rewrite! 📝\n- **Immutable** data types are like **permanent markers** – once written, they stay the same! 🖊️",
      "metadata": {}
    },
    {
      "cell_type": "markdown",
      "source": "### Input & Output Basics in Python 💡\n📥 Taking Input from the User\nThe **input()** function is used to take user input as a string.",
      "metadata": {}
    },
    {
      "cell_type": "code",
      "source": "name = input(\"Enter your name: \")\nprint(\"Hello, \" + name + \"!\")",
      "metadata": {},
      "outputs": [],
      "execution_count": null
    },
    {
      "cell_type": "markdown",
      "source": "📝 Note: **input()** always returns a string. Convert it if needed:",
      "metadata": {}
    },
    {
      "cell_type": "code",
      "source": "age = int(input(\"Enter your age: \"))  # Converts input to integer\nprint(\"You are\", age, \"years old!\")",
      "metadata": {},
      "outputs": [],
      "execution_count": null
    },
    {
      "cell_type": "markdown",
      "source": "📤 Displaying Output\n- The **print()** function is used to display output.",
      "metadata": {}
    },
    {
      "cell_type": "code",
      "source": "print(\"Hello, World!\")  # Simple output\nprint(\"Python is fun!\", \"Let's learn together!\")  # Multiple values",
      "metadata": {},
      "outputs": [],
      "execution_count": null
    },
    {
      "cell_type": "markdown",
      "source": "🎨 Formatted Output (f-strings)\n- Use **f-strings** for better formatting:",
      "metadata": {}
    },
    {
      "cell_type": "code",
      "source": "name = \"Alice\"\nage = 25\nprint(f\"My name is {name} and I am {age} years old.\")",
      "metadata": {},
      "outputs": [
        {
          "name": "stdout",
          "output_type": "stream",
          "text": "My name is Alice and I am 25 years old.\n"
        }
      ],
      "execution_count": 6
    },
    {
      "cell_type": "markdown",
      "source": "🔹 Printing Without Newline\n- By default, print() adds a newline (\\n). Use **end=\"\"** to change it:",
      "metadata": {}
    },
    {
      "cell_type": "code",
      "source": "print(\"Hello\", end=\" \")\nprint(\"World!\")  # Output: Hello World!",
      "metadata": {},
      "outputs": [],
      "execution_count": null
    },
    {
      "cell_type": "markdown",
      "source": "🚀 Now you know how to take input & print output in Python! 🎉",
      "metadata": {}
    },
    {
      "cell_type": "markdown",
      "source": "#### Order of Instructions\nPython executes the code line-by-line",
      "metadata": {}
    },
    {
      "cell_type": "code",
      "source": "print(sentence)\nsentence=\"This is a wrong move\" #NameError: name 'sentence' is not defined",
      "metadata": {},
      "outputs": [],
      "execution_count": null
    },
    {
      "cell_type": "markdown",
      "source": "### Type Conversions in Python 🔄\nPython allows converting one data type into another. This is called Type Conversion and is of two types:",
      "metadata": {}
    },
    {
      "cell_type": "markdown",
      "source": "1️. Implicit Type Conversion (Automatic) 🤖\n- ✅ Python automatically converts smaller data types to larger ones when needed.",
      "metadata": {}
    },
    {
      "cell_type": "code",
      "source": "num_int = 10      # Integer\nnum_float = 2.5   # Float\n\nresult = num_int + num_float  # Integer + Float → Float\nprint(result)   # Output: 12.5 (Converted to float automatically)\nprint(type(result))  # Output: <class 'float'>\n",
      "metadata": {},
      "outputs": [],
      "execution_count": null
    },
    {
      "cell_type": "markdown",
      "source": "##### 2. 🎭 Explicit Type Conversion (Type Casting)\n\nWe manually convert data types using built-in functions.\n\n| **Function**  | **Converts To** | **Example**             |\n|--------------|---------------|-------------------------|\n| `int(x)`     | Integer       | `int(3.7) → 3`         |\n| `float(x)`   | Float         | `float(5) → 5.0`       |\n| `str(x)`     | String        | `str(10) → \"10\"`       |\n| `list(x)`    | List          | `list(\"abc\") → ['a', 'b', 'c']` |\n| `tuple(x)`   | Tuple         | `tuple([1,2,3]) → (1,2,3)` |\n| `set(x)`     | Set           | `set([1,2,2,3]) → {1,2,3}` |\n\n",
      "metadata": {}
    },
    {
      "cell_type": "code",
      "source": "num = \"100\"      # String\nnum_int = int(num)  # Convert to Integer\nprint(num_int, type(num_int))  # Output: 100 <class 'int'>\n\npi = 3.14\npi_str = str(pi)  # Convert float to string\nprint(pi_str, type(pi_str))  # Output: '3.14' <class 'str'>\n",
      "metadata": {},
      "outputs": [],
      "execution_count": null
    },
    {
      "cell_type": "markdown",
      "source": "🔹 Common Mistakes & Errors 🚨\n- ❌ Invalid conversions cause errors!",
      "metadata": {}
    },
    {
      "cell_type": "code",
      "source": "print(int(\"Hello\"))  # ❌ ERROR: Cannot convert letters to an integer\nprint(float(\"abc\"))  # ❌ ERROR: Cannot convert letters to float",
      "metadata": {},
      "outputs": [],
      "execution_count": null
    },
    {
      "cell_type": "markdown",
      "source": "🚀 Now you're a pro at Type Conversion in Python! 🔄🔥",
      "metadata": {}
    },
    {
      "cell_type": "markdown",
      "source": "###  Python Operators – The Fun & Crazy Way! 🤪🎉\n\nOperators in Python are like **superheroes** 🦸‍♂️ that help perform operations on variables and values. Let's meet them all in a **fun way!** 🚀  \n\n---\n\n#### 1️⃣ Relational (Comparison) Operators – The Judge 👨‍⚖️  \nThese operators **compare** two values and return **True** or **False**.\n\n| **Operator** | **Meaning**            | **Example**         |\n|-------------|----------------------|------------------|\n| `==`  | Equal to 🤝 | `5 == 5` → ✅ `True` |\n| `!=`  | Not equal to 😤 | `5 != 3` → ✅ `True` |\n| `>`   | Greater than 🚀 | `10 > 5` → ✅ `True` |\n| `<`   | Less than 🐭 | `2 < 8` → ✅ `True` |\n| `>=`  | Greater than or equal to 💪 | `10 >= 10` → ✅ `True` |\n| `<=`  | Less than or equal to 🙃 | `3 <= 5` → ✅ `True` |",
      "metadata": {}
    },
    {
      "cell_type": "code",
      "source": "age = 18\nif age >= 18:\n    print(\"You can enter the party! 🎉\")\nelse:\n    print(\"Go home, kid! 🚪😂\")\n",
      "metadata": {},
      "outputs": [],
      "execution_count": null
    },
    {
      "cell_type": "markdown",
      "source": "#### 2️⃣ Assignment Operators – The Handshake 🤝  \n\n| **Operator** | **Example** | **Equivalent To** |\n|-------------|------------|----------------|\n| `=`   | `x = 5`   | x is now 5 |\n| `+=`  | `x += 3`  | `x = x + 3` |\n| `-=`  | `x -= 2`  | `x = x - 2` |\n| `*=`  | `x *= 4`  | `x = x * 4` |\n| `/=`  | `x /= 2`  | `x = x / 2` |\n| `%=`  | `x %= 3`  | `x = x % 3` |",
      "metadata": {}
    },
    {
      "cell_type": "code",
      "source": "cookies = 10\ncookies += 5  # Ate 5 more cookies 🍪\nprint(\"Cookies left:\", cookies)  # Output: 15",
      "metadata": {},
      "outputs": [],
      "execution_count": null
    },
    {
      "cell_type": "markdown",
      "source": "#### 3️⃣ Logical Operators – The Detectives 🕵️‍♂️  \n\n| **Operator** | **Meaning** | **Example** |\n|-------------|------------|------------|\n| `and`  | Both conditions must be True ✅✅ | `True and False` →  `False` |\n| `or`   | At least one must be True ✅❌ | `True or False` →  `True` |\n| `not`  | Reverse the condition 🙃 | `not True` →  `False` |\n",
      "metadata": {}
    },
    {
      "cell_type": "code",
      "source": "is_raining = True\nhave_umbrella = False\n\nif is_raining and not have_umbrella:\n    print(\"You will get wet! ☔😂\")\nelse:\n    print(\"You're safe! 😎\")",
      "metadata": {},
      "outputs": [],
      "execution_count": null
    },
    {
      "cell_type": "markdown",
      "source": "#### 4️⃣ Arithmetic Operators – The Math Nerds 📏📐  \n\n| **Operator** | **Meaning** | **Example** |\n|-------------|------------|------------|\n| `+`  | Addition ➕ | `3 + 2` → `5` |\n| `-`  | Subtraction ➖ | `10 - 4` → `6` |\n| `*`  | Multiplication ✖️ | `6 * 7` → `42` |\n| `/`  | Division ➗ | `10 / 2` → `5.0` |\n| `%`  | Modulus (Remainder)  | `10 % 3` → `1` |\n| `**` | Exponentiation  | `2 ** 3` → `8` |\n| `//` | Floor Division  | `10 // 3` → `3` |",
      "metadata": {}
    },
    {
      "cell_type": "code",
      "source": "money = 100\npizza_price = 30\n\nprint(\"Pizzas you can buy:\", money // pizza_price)  # Output: 3 🍕",
      "metadata": {},
      "outputs": [],
      "execution_count": null
    },
    {
      "cell_type": "markdown",
      "source": "#### 5️⃣ Bitwise Operators – The Nerd Squad 🤓💾  \n\n| **Operator** | **Meaning** | **Example** |\n|-------------|------------|------------|\n| `&`  | AND  | `5 & 3` → `1` |\n| `\\|`  | OR  | `5 \\| 3` → `7` |\n| `^`  | XOR  | `5 ^ 3` → `6` |\n| `~`  | NOT  | `~5` → `-6` |\n| `<<` | Left Shift  | `5 << 1` → `10` |\n| `>>` | Right Shift  | `5 >> 1` → `2` |\n",
      "metadata": {}
    },
    {
      "cell_type": "code",
      "source": "a = 5  # 101 in binary\nb = 3  # 011 in binary\n\nprint(a & b)  # Output: 1 (Binary: 001)",
      "metadata": {},
      "outputs": [],
      "execution_count": null
    },
    {
      "cell_type": "markdown",
      "source": "#### 6️⃣ Identity Operators – The Detectives of Memory 🔍  \n\n| **Operator** | **Meaning** | **Example** |\n|-------------|------------|------------|\n| `is`  | True if same object ✅ | `x is y` |\n| `is not` | True if different ❌ | `x is not y` |",
      "metadata": {}
    },
    {
      "cell_type": "code",
      "source": "a = [1, 2, 3]\nb = a\nc = [1, 2, 3]\n\nprint(a is b)   # ✅ True (same object)\nprint(a is c)   # ❌ False (different objects)",
      "metadata": {},
      "outputs": [],
      "execution_count": null
    },
    {
      "cell_type": "markdown",
      "source": "#### 7️⃣ Membership Operators – The Spy 🕵️‍♀️  \n\n| **Operator** | **Meaning** | **Example** |\n|-------------|------------|------------|\n| `in`  | True if value exists ✅ | `\"a\" in \"apple\"` → ✅ `True` |\n| `not in` | True if value does NOT exist ❌ | `\"x\" not in \"banana\"` → ✅ `True` |",
      "metadata": {}
    },
    {
      "cell_type": "code",
      "source": "fruits = [\"apple\", \"banana\", \"cherry\"]\nif \"apple\" in fruits:\n    print(\"🍏 Apple found!\")\nelse:\n    print(\"No apples here! 😢\")",
      "metadata": {},
      "outputs": [],
      "execution_count": null
    },
    {
      "cell_type": "markdown",
      "source": "### Conditional Statements in Python – The Drama of Decision Making! \n- Imagine you're the director of a Python movie 🎬, and your characters (the code) need to make smart decisions to move the story forward. This is where conditional statements come in!\n\n- 🥇 Act 1: The Simple if Statement – \"Should I go out?\"\n- An if statement checks a condition—if it's True, the code runs. If it's False, it’s ignored.",
      "metadata": {}
    },
    {
      "cell_type": "code",
      "source": "weather = \"sunny\"\n\nif weather == \"sunny\":  # If the condition is True\n    print(\"Let's go outside! 😎☀️\")  # Action happens!",
      "metadata": {},
      "outputs": [],
      "execution_count": null
    },
    {
      "cell_type": "markdown",
      "source": "📝 Translation: If the weather is sunny, our character goes outside. Otherwise, they do nothing.",
      "metadata": {}
    },
    {
      "cell_type": "markdown",
      "source": "🥈 Act 2: if...else – The Plot Twist! 🎬\n- Sometimes, you need a backup plan. If one condition fails, do something else instead!",
      "metadata": {}
    },
    {
      "cell_type": "code",
      "source": "weather = \"rainy\"\n\nif weather == \"sunny\":\n    print(\"Let's go outside! 😎☀️\")  \nelse:\n    print(\"Staying in with Netflix! 🍿🎥\")  ",
      "metadata": {},
      "outputs": [],
      "execution_count": null
    },
    {
      "cell_type": "markdown",
      "source": "📝 Translation: If it's sunny, we go out. Otherwise, we watch Netflix instead!",
      "metadata": {}
    },
    {
      "cell_type": "markdown",
      "source": "🥉 Act 3: if...elif...else  \n- What if there are multiple choices? ",
      "metadata": {}
    },
    {
      "cell_type": "code",
      "source": "weather = \"cloudy\"\n\nif weather == \"sunny\":\n    print(\"Let's go outside! 😎☀️\")\nelif weather == \"rainy\":\n    print(\"Staying in with Netflix! 🍿🎥\")\nelif weather == \"cloudy\":\n    print(\"Might go for a walk... 🌥️🚶\")\nelse:\n    print(\"Not sure what to do! 🤔\")",
      "metadata": {},
      "outputs": [],
      "execution_count": null
    },
    {
      "cell_type": "markdown",
      "source": "📝 Translation:\n- If sunny → Go outside\n- If rainy → Watch Netflix\n- If cloudy → Go for a walk\n- Otherwise, we’re confused!",
      "metadata": {}
    },
    {
      "cell_type": "markdown",
      "source": "🔥 Act 4: Nested if – The Drama Inside Drama! 🎭\n- Sometimes, decisions have sub-decisions",
      "metadata": {}
    },
    {
      "cell_type": "code",
      "source": "weather = \"rainy\"\nmood = \"happy\"\n\nif weather == \"rainy\":\n    print(\"It's raining! ☔\")\n    if mood == \"happy\":\n        print(\"Dancing in the rain! 💃🌧️\")\n    else:\n        print(\"Sigh... just another gloomy day. 😞\")",
      "metadata": {},
      "outputs": [],
      "execution_count": null
    },
    {
      "cell_type": "markdown",
      "source": "📝 Translation:\n\n- If it's raining:\n- If we're happy, we dance in the rain 💃\n- Otherwise, we stay gloomy 😞",
      "metadata": {}
    },
    {
      "cell_type": "markdown",
      "source": "🎯 Act 5: Short-Hand if – The One-Liner Hero! 🚀\n- What if you want a quick decision without writing multiple lines?",
      "metadata": {}
    },
    {
      "cell_type": "code",
      "source": "weather = \"sunny\"\n\nprint(\"Let's go outside! 😎☀️\") if weather == \"sunny\" else print(\"Netflix time! 🍿\")",
      "metadata": {},
      "outputs": [],
      "execution_count": null
    },
    {
      "cell_type": "markdown",
      "source": "📝 Translation:\n\n- If it's sunny, print \"Let's go outside! 😎☀️\"\n- Otherwise, print \"Netflix time! 🍿\"",
      "metadata": {}
    },
    {
      "cell_type": "markdown",
      "source": "This is called the Ternary Operator – One-line decision-making like a boss! 😎",
      "metadata": {}
    },
    {
      "cell_type": "markdown",
      "source": "### 😂 Fun If-Else Challenge: The Ice Cream Decision! 🍦🍫\n**Question:**\nYou have an ice cream 🍦 in your hand, but uh-oh! It starts melting!\n\n👉 Write a Python program that:\n\n- If the temperature is hot (above 30°C) 🌞 → Eat it quickly! 😋\n- If the temperature is cold (below 15°C) ❄️ → Save it for later! 🧊\n- Otherwise, enjoy it slowly! 🍦😎",
      "metadata": {}
    },
    {
      "cell_type": "markdown",
      "source": "### Loops",
      "metadata": {}
    },
    {
      "cell_type": "markdown",
      "source": "1. The **for Loop** – Going Round & Round!\n- Use when you know how many times to loop!\n\n🎭 Example: Counting Candies 🍬",
      "metadata": {}
    },
    {
      "cell_type": "code",
      "source": "for candy in range(1, 6):  # Loops from 1 to 5\n    print(f\"Eating candy number {candy} 🍬\")",
      "metadata": {},
      "outputs": [],
      "execution_count": null
    },
    {
      "cell_type": "markdown",
      "source": "2. The **while Loop** – Until You’re Done!\n- Use when you don't know how many times to loop!\n\n Example: Watching TV 📺 Until Sleepy",
      "metadata": {}
    },
    {
      "cell_type": "code",
      "source": "sleepy = False\nepisodes = 0\n\nwhile not sleepy:\n    episodes += 1\n    print(f\"Watching episode {episodes} 🎬\")\n    if episodes == 3:  # After 3 episodes, you get sleepy!\n        sleepy = True\n\nprint(\"Too sleepy! Time to sleep 😴\")",
      "metadata": {},
      "outputs": [],
      "execution_count": null
    },
    {
      "cell_type": "markdown",
      "source": "### Loop Control Statements",
      "metadata": {}
    },
    {
      "cell_type": "markdown",
      "source": "The **break Statement** – When You Want to Escape!\n- Stops the loop immediately!\n\n🎭 Example: Leaving a Boring Party 🎉➡️🚪",
      "metadata": {}
    },
    {
      "cell_type": "code",
      "source": "for minute in range(1, 6):  \n    print(f\"At the party for {minute} minutes 🕺🎶\")\n    if minute == 3:  # At minute 3, you decide to leave!\n        print(\"Boring! Leaving the party... 🚪\")\n        break",
      "metadata": {},
      "outputs": [],
      "execution_count": null
    },
    {
      "cell_type": "markdown",
      "source": "The **continue Statement** – Skip & Move On!\n- Skips one loop iteration and moves to the next.\n\n Example: Skipping a Bad Song in a Playlist 🎵🚫",
      "metadata": {}
    },
    {
      "cell_type": "code",
      "source": "songs = [\"Song 1\", \"Annoying Song\", \"Song 3\", \"Song 4\"]\n\nfor song in songs:\n    if song == \"Annoying Song\":\n        print(\"Skipping the annoying song! 🚫🎵\")\n        continue\n    print(f\"Listening to {song} 🎧\")",
      "metadata": {},
      "outputs": [],
      "execution_count": null
    },
    {
      "cell_type": "markdown",
      "source": "**Summary**\n- Loops make Python repeat actions until a condition is met.\n\n- for loop → When you know how many times to loop 🎡\n- while loop → When you don’t know how many times 🔄\n- break → Stops the loop immediately 🚪\n- continue → Skips an iteration and moves on ⏩",
      "metadata": {}
    },
    {
      "cell_type": "markdown",
      "source": "### 🎉 Challenge Time!\nCan you write a Python program that:\n👉 Asks the user for their favorite number, and prints \"Wow! Nice choice!\" that many times? 😆\n\nTry it out! 🚀",
      "metadata": {}
    },
    {
      "cell_type": "markdown",
      "source": "#### why does indexing start from 0?\n\n     -  Address = Base Address + Index * Size of the data type",
      "metadata": {}
    },
    {
      "cell_type": "markdown",
      "source": "## String ",
      "metadata": {}
    },
    {
      "cell_type": "markdown",
      "source": "A string (str) is a sequence of characters enclosed in quotes.\n\nImmutable (can't be changed after creation) ",
      "metadata": {}
    },
    {
      "cell_type": "code",
      "source": "\n# Basic Operations\nstr1 = \"hello\"\nstr2 = \"world\"\nconcatenated = str1 + str2  # Concatenation\nrepeated = str1 * 3        # Repetition\nlength = len(str1)         # Length\nchar = str1[0]            # Indexing\nslice = str1[1:4]         # Slicing\n# Common String Methods\ntext = \"  Hello, World  \"\ntext.strip()      # Remove leading/trailing whitespace\ntext.lower()      # Convert to lowercase\ntext.upper()      # Convert to uppercase\ntext.split(',')   # Split string into list\ntext.replace('o', 'x')  # Replace characters\ntext.find('o')    # Find first occurrence , returns index\ntext.count('l')   # Count occurrences\n','.join(['a','b'])  # Join strings\ntext.startswith('H')  # Check prefix\ntext.endswith('d')   # Check suffix\n#case conversion methods\nstr3=\"Hello world\"\nstr3.capitalize() #Converts the first character of a string to uppercase and the rest to lowercase.\nstr3.title() #Converts the first letter of each word to uppercase.\nstr3.swapcase() #Swaps uppercase to lowercase and lowercase to uppercase.\n#classification methods\nstr4=\"python\"\nstr4.isalpha() #Returns True if all characters in the string are alphabetic (A-Z, a-z) else False\nstr5=\"12.34\"\nstr5.isdecimal() #Returns True if the string contains only decimal digits (0-9) else False\nstr4.islower() #Returns True if all characters in the string are lowercase else False\nstr4.isupper() #Returns True if all characters in the string are uppercase else False\nstr4.isalnum() # Returns True if the string contains only letters and numbers (A-Z, a-z, 0-9) else False\n#other methods\nstr6 = \"Python is fun, Python is powerful\"\nstr6.index(\"fun\") #Finds the first occurrence of a substring and returns its index Raises ValueError if the substring is not found.\nstr6.rindex(\"is\") #Finds the last occurrence of a substring and returns its index Raises ValueError if the substring is not found\nstr6.rfind(\"Java\") #Similar to rindex(), but returns -1 if the substring is not found (instead of raising an error).\n\nch='x'\nord(ch) #gives unicode value of the character\nchr(74) #gives the character with unicode value\n",
      "metadata": {},
      "outputs": [
        {
          "data": {
            "text/plain": [
              "False"
            ]
          },
          "execution_count": 3,
          "metadata": {},
          "output_type": "execute_result"
        }
      ],
      "execution_count": 3
    },
    {
      "cell_type": "code",
      "source": "str1=\"4478\"\nprint(str1.isdigit()) #Returns True if all the characters are digits.Otherwise False.\nprint(str1.isalpha()) #Returns True if all characters are alphabets.\nprint(str1.isdecimal()) #Returns True if all the characters are decimals.\nprint(str1.islower())  #Returns True if all the characters are in lowercase\nprint(str1.isupper()) #Returns True if all the characters are in uppercase\nprint(str1.isalnum()) #Returns True if the string is alphanumeric\n\n#Case conversion methods\n\nstr2=\"python\"\nprint(str2.capitalize()) #Converts first letter to uppercase and others to lowercase\nstr3=\"the title\"\nprint(str3.title())  #converts first letter of every word in a sentence to uppercase\nprint(str3.swapcase()) #converts lower to upper and vice versa\nprint(str3.rindex(\"t\")) #returns index at the last occurence of specified string",
      "metadata": {},
      "outputs": [],
      "execution_count": null
    },
    {
      "cell_type": "code",
      "source": "text  = 'hello world '\nprint(text)",
      "metadata": {},
      "outputs": [
        {
          "name": "stdout",
          "output_type": "stream",
          "text": "hello world \n"
        }
      ],
      "execution_count": 4
    },
    {
      "cell_type": "markdown",
      "source": "## List ",
      "metadata": {}
    },
    {
      "cell_type": "markdown",
      "source": "A list is an ordered, mutable collection of items.\n\nYou can add, remove, or modify elements! ",
      "metadata": {}
    },
    {
      "cell_type": "code",
      "source": "\nlst = [1, 2, 3 , 6, 7, 8, 9, 10]\n\n# Modification Methods\nlst.append(4)     # Add single element\nlst.extend([5,6]) # Add multiple elements\nlst.insert(0, 0)  # Insert at index\nlst.remove(1)     # Remove first occurrence\nlst.pop()         # Remove and return last element\nlst.pop(0)        # Remove and return element at index\nlst.clear()       # Remove all elements\nlst1 = [1, 2, 3 , 6, 7, 8, 9, 10]\n# Information Methods\nlst1.index(2)      # Find index of element\nlst1.count(2)      # Count occurrences\nlst1.sort()        # Sort in-place\nlst1.reverse()     # Reverse in-place\n\n# Operations\nlen(lst1)          # Length\nlst1 + [4,5]       # Concatenation\nlst1 * 2           # Repetition\n2 in lst1          # Membership testing ",
      "metadata": {},
      "outputs": [
        {
          "data": {
            "text/plain": [
              "True"
            ]
          },
          "execution_count": 59,
          "metadata": {},
          "output_type": "execute_result"
        }
      ],
      "execution_count": 59
    },
    {
      "cell_type": "code",
      "source": "lst2 = [1, 2, 3, 4, 5] *2 \nprint(lst2)\nlst2.count(4)",
      "metadata": {},
      "outputs": [
        {
          "name": "stdout",
          "output_type": "stream",
          "text": "[1, 2, 3, 4, 5, 1, 2, 3, 4, 5]\n"
        },
        {
          "data": {
            "text/plain": [
              "2"
            ]
          },
          "execution_count": 132,
          "metadata": {},
          "output_type": "execute_result"
        }
      ],
      "execution_count": 132
    },
    {
      "cell_type": "code",
      "source": "lst = [1, 2, 4]\nprint(lst)\nlst.pop()\nprint(lst)\n",
      "metadata": {},
      "outputs": [
        {
          "name": "stdout",
          "output_type": "stream",
          "text": "[1, 2, 4]\n,[1, 2]\n"
        }
      ],
      "execution_count": 124
    },
    {
      "cell_type": "markdown",
      "source": "### Tuple ",
      "metadata": {}
    },
    {
      "cell_type": "markdown",
      "source": "A tuple is an ordered, immutable collection of items.\n\nFaster than lists but can't be modified! ",
      "metadata": {}
    },
    {
      "cell_type": "code",
      "source": "tup = (1, 2, 3)\ntup_1=(1,) #To create a tuple with single element\n\n# Information Methods (Limited due to immutability)\ntup.count(2)      # Count occurrences\ntup.index(2)      # Find index\n\n# Operations\nlen(tup)          # Length\nprint(tup + (4,5))       # Concatenation\nprint(tup * 2)           # Repetition\nprint(2 in tup)          # Membership testing",
      "metadata": {},
      "outputs": [
        {
          "name": "stdout",
          "output_type": "stream",
          "text": "(1, 2, 3, 4, 5)\n,(1, 2, 3, 1, 2, 3)\n,True\n"
        }
      ],
      "execution_count": null
    },
    {
      "cell_type": "markdown",
      "source": "## Set\nA set is a collection of **unique** and **unordered** elements.It is used to store distinct items and perform operations like union, intersection, and difference.\n\n\n### Set Properties and Attributes:\n ##### Sets Are Unordered\n- Sets do not maintain any specific order.\n- The pop() method removes an arbitrary element because of this unordered nature.\n##### Sets Only Contain Unique Elements\n- Duplicates are automatically removed in a set. So, if you try to add a duplicate value, it will simply be ignored.\n##### Sets Are Mutable\n- You can add and remove elements after the set is created, but the elements themselves must be **immutable** (e.g., you cannot add a list or dictionary to a set, but you can add a tuple).",
      "metadata": {}
    },
    {
      "cell_type": "code",
      "source": "#creating a set using{}\ns = {1, 2, 3}\nprint(s)\nprint(type(s))\ns1 = {} #It will consider as Dictionary\nss = set() #It will consider as Set\nprint(type(s1))\nprint(type(ss))\n\n# Creating set Using set() function\nanother_set = set([1, 2, 3, 4])\n\n#Duplicate values are automatially deleted\nmy_set = {1, 2, 2, 3, 4}\nprint(my_set)  # Output: {1, 2, 3, 4}\n\n\n# Modification Methods\ns.add(4)          # Add element\ns.remove(1)       # Remove element (raises error if not found)\ns.discard(1)      # Remove element (no error if not found)\nelement=s.pop()           # Remove a random element and return arbitrary element\nprint(element)\nprint(s)\ns.clear()         # Remove all elements\n\n# Set Operations\nprint(\"Set Operations\")\ns1 = {1, 2, 3}\nprint(s1)\nprint(type(s1))\ns2 = {3, 4, 5}\ns1.union(s2)      # Union\nprint(s1 |s2)     # Union → {1, 2, 3, 4, 5}\n\ns1.intersection(s2)  # Intersection\nprint(s1 & s2)       # Intersection → {3}\n\ns1.difference(s2)    # Difference\nprint(s1 - s2)  # Difference → {1, 2}\n\ns1.symmetric_difference(s2)  # Symmetric difference \nprint(s1 ^ s2)  # Symmetric Difference → {1, 2, 4, 5}\n\nprint(s1.issubset(s2))      # True if all elements of s1 are in s2\nprint(s1.issuperset(s2))    # True if all elements of s2 are in s1\n\n# Operations\nlen(s)            # Length\n2 in s1            # Membership testing",
      "metadata": {},
      "outputs": [
        {
          "name": "stdout",
          "output_type": "stream",
          "text": "{1, 2, 3}\n,<class 'set'>\n,<class 'set'>\n,<class 'set'>\n,<class 'set'>\n"
        },
        {
          "data": {
            "text/plain": [
              "False"
            ]
          },
          "execution_count": 135,
          "metadata": {},
          "output_type": "execute_result"
        }
      ],
      "execution_count": 135
    },
    {
      "cell_type": "code",
      "source": "my_set = {1, 2, 3, 4, 5}\nmy_set.pop()",
      "metadata": {},
      "outputs": [
        {
          "data": {
            "text/plain": [
              "1"
            ]
          },
          "execution_count": 155,
          "metadata": {},
          "output_type": "execute_result"
        }
      ],
      "execution_count": 155
    },
    {
      "cell_type": "code",
      "source": "my_set.pop()\nmy_set.add(6)\nprint(my_set) \nmy_set.add(7)\nprint(my_set)",
      "metadata": {},
      "outputs": [
        {
          "name": "stdout",
          "output_type": "stream",
          "text": "{6}\n,{6, 7}\n"
        }
      ],
      "execution_count": 160
    },
    {
      "cell_type": "code",
      "source": "\nmy_set.update({2, 0, 5, 8, 'basara',\"Basara\"})\nprint(my_set)",
      "metadata": {},
      "outputs": [
        {
          "name": "stdout",
          "output_type": "stream",
          "text": "{0, 2, 5, 6, 7, 8, 'basara', 'Basara'}\n"
        }
      ],
      "execution_count": 166
    },
    {
      "cell_type": "code",
      "source": "",
      "metadata": {},
      "outputs": [],
      "execution_count": null
    },
    {
      "cell_type": "code",
      "source": "my_set.pop()",
      "metadata": {},
      "outputs": [
        {
          "data": {
            "text/plain": [
              "3"
            ]
          },
          "execution_count": 153,
          "metadata": {},
          "output_type": "execute_result"
        }
      ],
      "execution_count": 153
    },
    {
      "cell_type": "markdown",
      "source": "### Dictionary ",
      "metadata": {}
    },
    {
      "cell_type": "markdown",
      "source": "A dictionary stores key-value pairs – like a phonebook! 📞\n\nKeys must be unique 🗝️\n\nMutable (you can add/remove values) ✅",
      "metadata": {}
    },
    {
      "cell_type": "code",
      "source": "d = {'a': 1, 'b': 2}\n\n# Modification Methods\nd['c'] = 3        # Add/update key-value\nd.update({'d': 4})  # Add/update multiple\nd.pop('a')        # Remove and return value\nd.popitem()       # Remove and return last item\nd.clear()         # Remove all items\n\n# Access Methods\nd.get('a')        # Get value (with optional default)\nd.keys()          # Get all keys\nd.values()        # Get all values\nd.items()         # Get all key-value pairs\nd.setdefault('a', 1)  # Get value, set if missing\n\n# Operations\nlen(d)            # Length\n'a' in d          # Key membership testing\ndel d['a']        # Delete key-value pair\n\nprint(d)\nd = {'a': 1, 'b': 2}\nd.setdefault('d', 1)\nd.setdefault('m', 10)\nprint(d)",
      "metadata": {},
      "outputs": [
        {
          "name": "stdout",
          "output_type": "stream",
          "text": "{}\n,{'a': 1, 'b': 2, 'd': 1, 'm': 10}\n"
        }
      ],
      "execution_count": 79
    },
    {
      "cell_type": "code",
      "source": "employee = {\"name \" : \"John\", \"age\": 30, \"department\": \"HR\", 'salary': 50000, 'location': 'New York', 'email': 'john@example.com'}\nprint(employee)",
      "metadata": {},
      "outputs": [
        {
          "name": "stdout",
          "output_type": "stream",
          "text": "{'name ': 'John', 'age': 30, 'department': 'HR', 'salary': 50000, 'location': 'New York', 'email': 'john@example.com'}\n"
        }
      ],
      "execution_count": 136
    },
    {
      "cell_type": "code",
      "source": "employee.keys()",
      "metadata": {},
      "outputs": [
        {
          "data": {
            "text/plain": [
              "dict_keys(['name ', 'age', 'department', 'salary', 'location', 'email'])"
            ]
          },
          "execution_count": 137,
          "metadata": {},
          "output_type": "execute_result"
        }
      ],
      "execution_count": 137
    },
    {
      "cell_type": "code",
      "source": "employee.values()",
      "metadata": {},
      "outputs": [
        {
          "data": {
            "text/plain": [
              "dict_values(['John', 30, 'HR', 50000, 'New York', 'john@example.com'])"
            ]
          },
          "execution_count": 138,
          "metadata": {},
          "output_type": "execute_result"
        }
      ],
      "execution_count": 138
    },
    {
      "cell_type": "code",
      "source": "employee.keys()",
      "metadata": {},
      "outputs": [
        {
          "data": {
            "text/plain": [
              "dict_keys(['name ', 'age', 'department', 'salary', 'location', 'email'])"
            ]
          },
          "execution_count": 140,
          "metadata": {},
          "output_type": "execute_result"
        }
      ],
      "execution_count": 140
    },
    {
      "cell_type": "code",
      "source": "employee.setdefault('is_alive' ,True)",
      "metadata": {},
      "outputs": [
        {
          "data": {
            "text/plain": [
              "True"
            ]
          },
          "execution_count": 147,
          "metadata": {},
          "output_type": "execute_result"
        }
      ],
      "execution_count": 147
    },
    {
      "cell_type": "code",
      "source": "employee.get('car', 'next year kontadu')",
      "metadata": {},
      "outputs": [
        {
          "data": {
            "text/plain": [
              "'next year kontadu'"
            ]
          },
          "execution_count": 150,
          "metadata": {},
          "output_type": "execute_result"
        }
      ],
      "execution_count": 150
    },
    {
      "cell_type": "code",
      "source": "",
      "metadata": {},
      "outputs": [],
      "execution_count": null
    },
    {
      "cell_type": "code",
      "source": "employee.get('cat',)",
      "metadata": {},
      "outputs": [
        {
          "data": {
            "text/plain": [
              "dict_values(['John', 30, 'HR', 50000, 'New York', 'john@example.com'])"
            ]
          },
          "execution_count": 146,
          "metadata": {},
          "output_type": "execute_result"
        }
      ],
      "execution_count": 146
    },
    {
      "cell_type": "code",
      "source": "my_dict = {\"a\": 1, \"c\": 3, \"b\": 2} \ndict_sorted = sorted(my_dict.items())\nprint(dict_sorted)\n",
      "metadata": {},
      "outputs": [
        {
          "name": "stdout",
          "output_type": "stream",
          "text": "[('a', 1), ('b', 2), ('c', 3)]\n"
        }
      ],
      "execution_count": 91
    },
    {
      "cell_type": "code",
      "source": "# sort and sorted \nmy_list = [1, 2, 3, 4, 5]\nprint(my_list.sort()) # sort doesn't return anything , just modifies the list, memory efficient ( large ), works on only lists\n\n# sorted creates a new sorted list , doesn't modify the original list\nmy_tuple = (1, 2, 3, 4, 5)\nprint(sorted(my_tuple))\n # sorted returns a new sorted list ,\n # doesn't modify the tuple , \n # sorted alwyas returns a list\n # it works on all iterables and returns a list\nmy_set = {1, 2, 3, 4, 5}\nprint(sorted(my_set))\n\nmy_dict = {'a': 1, 'b': 2, 'c': 3}\nprint(sorted(my_dict))\n\nmy_string = \"hello\"\nprint(sorted(my_string))\n",
      "metadata": {},
      "outputs": [
        {
          "name": "stdout",
          "output_type": "stream",
          "text": "None\n,[1, 2, 3, 4, 5]\n,[1, 2, 3, 4, 5]\n,['a', 'b', 'c']\n,['e', 'h', 'l', 'l', 'o']\n"
        }
      ],
      "execution_count": 92
    },
    {
      "cell_type": "code",
      "source": "movies = ('spiderman', 'batman', 'superman', 'ironman', 'thor')\n# print(movies.sort())\nprint(sorted(movies))\n\n\n\n",
      "metadata": {},
      "outputs": [
        {
          "name": "stdout",
          "output_type": "stream",
          "text": "['batman', 'ironman', 'spiderman', 'superman', 'thor']\n"
        }
      ],
      "execution_count": 175
    },
    {
      "cell_type": "markdown",
      "source": "### 🚀 LevelUp : Dive Into the Challenge!",
      "metadata": {}
    },
    {
      "cell_type": "code",
      "source": "# stings practice questions  \n# Q1: Write a program to reverse a string without using the reverse function\ninput_str = \"Python Programming\"\n\n# Q2: Given a string, count the number of vowels and consonants\ntext = \"Hello World\"\n\n# Q3: Write a program to check if two strings are anagrams\nstr1 = \"listen\"\nstr2 = \"silent\"\n\n# list practice questions \n# Q1: Remove duplicates from a list while preserving order\nnumbers = [1, 3, 3, 3, 6, 2, 3, 5]\n\n# Q2: Find the secnd largest number in a list withut using sort()\nnums = [10, 5, 8, 12, 3, 7, 5]\n\n# Q3: Rotate a list by k positions\narr = [1, 2, 3, 4, 5]\nk = 2  # Output should be [4, 5, 1, 2, 3] \n\n# Tuple practice questions \n# Q1: Convert a list of tuples into a dictionary\npairs = [(\"a\", 1), (\"b\", 2), (\"c\", 3)]\n\n# Q2: Find all pairs in a tuple list where sum is k\ntuple_list = [(1,2), (3,4), (5,6), (7,8)]\nk = 7\n\n# Q3: Swap elements in tuple of tuples\ntuple_of_tuples = ((1,2), (3,4), (5,6))\n\n# set practice questions \n# Q1: Find common elements between multiple lists using sets\nlist1 = [1, 2, 3, 4, 5]\nlist2 = [4, 5, 6, 7, 8]\nlist3 = [5, 6, 7, 8, 9]\n\n# Q2: Remove all vowels from a sting using sets\ntext = \"Hello World\"\n\n# Q3: Find symmetric difference between two lists\nlist1 = [1, 2, 3, 4, 5]\nlist2 = [4, 5, 6, 7, 8] \n\n# dictionary practice questions \n# Q1: Group items by their first letter\nwords = ['apple', 'ant', 'banana', 'bat', 'cat']\n\n# Q2: Merge two dictionaries with summing common values\ndict1 = {'a': 1, 'b': 2, 'c': 3}\ndict2 = {'b': 3, 'c': 4, 'd': 5}\n\n# Q3: Fid the most frequent character in a string using dictionary\ntext = \"programming\"",
      "metadata": {},
      "outputs": [],
      "execution_count": null
    },
    {
      "cell_type": "markdown",
      "source": "### Loop Control Statements ",
      "metadata": {}
    },
    {
      "cell_type": "code",
      "source": "# Break - Exit the loop entirely\nfor i in range(5):\n    if i == 3:\n        break    # Exit when i equals 3\n\n# Continue - Skip to next iteration\nfor i in range(5):\n    if i == 3:\n        continue # Skip when i equals 3\n\n# Pass - Do nothing (placeholder)\nfor i in range(5):\n    if i == 3:\n        pass    # Placeholder for future code ",
      "metadata": {},
      "outputs": [],
      "execution_count": null
    },
    {
      "cell_type": "code",
      "source": "points = [(1, 2), (3, 4)] # thinks like this are cooordinates ",
      "metadata": {},
      "outputs": [
        {
          "name": "stdout",
          "output_type": "stream",
          "text": "X: 1, Y: 2\n,X: 3, Y: 4\n"
        }
      ],
      "execution_count": 109
    },
    {
      "cell_type": "markdown",
      "source": "### Zip ",
      "metadata": {}
    },
    {
      "cell_type": "code",
      "source": "# Zip multiple iterables\nnames = ['Alice', 'Bob']\nages = [25, 30]\nfor name, age in zip(names, ages):\n    print(f\"{name} is {age} years old\")\n\n# Filter with list comprehension\nnumbers = [1, 2, 3, 4, 5]\nevens = [x for x in numbers if x % 2 == 0]\n\n# Nested comprehensions\nmatrix = [[i+j for j in range(3)] for i in range(3)]\n\n# Multiple conditions\nfor num in numbers:\n    if num > 0:\n        if num % 2 == 0:\n            print(f\"{num} is positive and even\")\n        else:\n            print(f\"{num} is positive and odd\")",
      "metadata": {},
      "outputs": [],
      "execution_count": null
    },
    {
      "cell_type": "code",
      "source": "sentence =  [\"rahuyl  is cool and hfiie\" , \"dfalkahuyl  is cool and hfiie\" , 'dhlakdfjdfd df df'] \nfor i in sentence:\n    def title_case(line=i):\n        return line[0].title() + line[1:]\n    print(title_case(i))",
      "metadata": {},
      "outputs": [
        {
          "name": "stdout",
          "output_type": "stream",
          "text": "Rahuyl  is cool and hfiie\n,Dfalkahuyl  is cool and hfiie\n,Dhlakdfjdfd df df\n"
        }
      ],
      "execution_count": 93
    },
    {
      "cell_type": "code",
      "source": "sete = \"rahuyl  is cool and hfiie\" \nsete.title()",
      "metadata": {},
      "outputs": [
        {
          "data": {
            "text/plain": [
              "'Rahuyl  Is Cool And Hfiie'"
            ]
          },
          "execution_count": 94,
          "metadata": {},
          "output_type": "execute_result"
        }
      ],
      "execution_count": 94
    },
    {
      "cell_type": "code",
      "source": "",
      "metadata": {},
      "outputs": [],
      "execution_count": null
    }
  ]
}