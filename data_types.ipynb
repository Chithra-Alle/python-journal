{
 "cells": [
  {
   "cell_type": "markdown",
   "metadata": {},
   "source": [
    "#### why does indexing start from 0?\n",
    "\n",
    "     -  Address = Base Address + Index * Size of the data type"
   ]
  },
  {
   "cell_type": "markdown",
   "metadata": {},
   "source": [
    "## Introduction to Python:\n",
    "\n",
    "Python is a high-level, interpreted and object-oriented programming language known for its simplicity and readability.\n",
    "It was created by Guido van Rossum and released in 1991.\n",
    "\n",
    "\n",
    "\n",
    "\n",
    "\n",
    "\n",
    "\n",
    "\n",
    "\n",
    "\n"
   ]
  },
  {
   "cell_type": "markdown",
   "metadata": {},
   "source": [
    "#### Why Learn Python?\n",
    "- Easy to Learn – Python has a simple syntax similar to English.\n",
    "- Interpreted Language – No need for compilation; run directly in the interpreter.\n",
    "- Versatile – Used in web development, data science, AI, automation, and more.\n"
   ]
  },
  {
   "cell_type": "markdown",
   "metadata": {},
   "source": [
    "#### Features of Python:\n",
    "- Simple & Readable Syntax – Easy to write and understand.\n",
    "- Dynamically Typed – No need to declare variable types.\n",
    "- Interpreted Language – Code is executed line by line.\n",
    "- Cross-Platform – Runs on Windows, Mac, Linux, etc.\n",
    "- Huge Standard Library – Includes modules for math, file handling, networking, etc.\n",
    "- Object-Oriented – Supports classes and objects.\n",
    "- Extensive Libraries – Powerful libraries like NumPy, Pandas, Django, TensorFlow, etc.\n",
    "\n",
    "\n"
   ]
  },
  {
   "cell_type": "markdown",
   "metadata": {},
   "source": [
    "## Installing Python & Setting Up VS Code  \n",
    "\n",
    "### Install Python   \n",
    "\n",
    "- ##### Step 1: Download Python\n",
    "  - Visit Python’s official website.  \n",
    "  - Click on **Download Python (Latest Version)**.  \n",
    "  - Run the downloaded `.exe` file.  \n",
    "\n",
    "- ##### Step 2: Install Python\n",
    "  - In the installer, check the box **\"Add Python to PATH\"**.  \n",
    "  - Click **Install Now** and wait for the installation to complete.  \n",
    "\n",
    "- ##### Step 3: Verify Installation\n",
    "  - Open **Command Prompt (cmd)** and type:  \n",
    "    ```sh\n",
    "    python --version\n",
    "    ```\n",
    "### 🖥️ Setting Up VS Code  \n",
    "\n",
    "#### Step 1: Install VS Code\n",
    "- Download **VS Code** from [code.visualstudio.com](https://code.visualstudio.com/).  \n",
    "- Install it like any other software.  \n",
    "\n",
    "#### Step 2: Install Python Extension in VS Code  \n",
    "- Open **VS Code**.  \n",
    "- Press `Ctrl + Shift + X` to open the **Extensions Marketplace**.  \n",
    "- Search for **\"Python\"** (by Microsoft).  \n",
    "- Click **Install**.  \n",
    "\n",
    "#### Step 3: Configure Python Interpreter in VS Code \n",
    "- Open **VS Code**.  \n",
    "- Press `Ctrl + Shift + P` to open the **Command Palette**.  \n",
    "- Search for **\"Python: Select Interpreter\"**.  \n",
    "- Select the latest **Python version**.  \n",
    "\n",
    "\n",
    "\n"
   ]
  },
  {
   "cell_type": "markdown",
   "metadata": {},
   "source": [
    "### variables and datatypes\n",
    "- variable:A variable is a name that stores data in memory.\n",
    "- In Python, you don’t need to declare a type, just assign a value\n",
    "- datatype:It defines the kind of value a variable can store in Python  eg: int ,float,string,boolean etc\n",
    "##### datatypes are of two types mutable and immutable \n",
    "#### mutable-Can be modified after creation.\n",
    "   - Lists → list\n",
    "   - Dictionaries → dict\n",
    "   - Sets → set\n",
    "   - Byte Arrays → bytearray\n",
    "#### immutable-cannot be changed after creation.\n",
    "   - Numbers → int, float, complex\n",
    "   - Strings → str\n",
    "   - Tuples → tuple\n",
    "   - Frozen sets → frozenset\n",
    "   - Booleans → bool\n"
   ]
  },
  {
   "cell_type": "markdown",
   "metadata": {},
   "source": [
    "\n",
    "## 🔹 Operators in Python  \n",
    "\n",
    "Operators are **symbols** that perform operations on variables and values. Python supports different types of operators:\n",
    "\n",
    "---\n",
    "\n",
    "### 1️⃣ Arithmetic Operators  \n",
    "Used for mathematical operations.\n",
    "\n",
    "| Operator | Description | Example |\n",
    "|----------|------------|---------|\n",
    "| `+` | Addition | `5 + 3 = 8` |\n",
    "| `-` | Subtraction | `10 - 4 = 6` |\n",
    "| `*` | Multiplication | `6 * 2 = 12` |\n",
    "| `/` | Division | `15 / 3 = 5.0` |\n",
    "| `//` | Floor Division | `10 // 3 = 3` (Removes decimal part) |\n",
    "| `%` | Modulus | `10 % 3 = 1` (Remainder) |\n",
    "| `**` | Exponentiation | `2 ** 3 = 8` (Power) |\n",
    "\n",
    "### 🛠 Example:\n",
    "\n"
   ]
  },
  {
   "cell_type": "code",
   "execution_count": 8,
   "metadata": {},
   "outputs": [
    {
     "name": "stdout",
     "output_type": "stream",
     "text": [
      "13\n",
      "7\n",
      "30\n",
      "3.3333333333333335\n",
      "3\n",
      "1\n",
      "1000\n"
     ]
    }
   ],
   "source": [
    "a = 10\n",
    "b = 3\n",
    "print(a + b)  # 13\n",
    "print(a - b)  # 7\n",
    "print(a * b)  # 30\n",
    "print(a / b)  # 3.333\n",
    "print(a // b) # 3\n",
    "print(a % b)  # 1\n",
    "print(a ** b) # 1000"
   ]
  },
  {
   "cell_type": "markdown",
   "metadata": {},
   "source": [
    "### 2️⃣ Comparison (Relational) Operators\n",
    "Used to compare values and return True or False.\n",
    "| Operator | Description | Example |\n",
    "|----------|------------|---------|\n",
    "| `==` | Equal to | `5 == 5`(True) | \n",
    "| `!=` | Not equal to | `5 != 3`(True) |\t\t\n",
    "| `>` | Greater than | `10 > 5` ( True)|\t\t \n",
    "| `<` | Less than | `4 < 8` (True) |\t\t \n",
    "| `>=` | Greater than or equal to | `6 >= 6` (True) |\t\n",
    "| `<=` | Less than or equal to | `2 <= 3 ` (True) | \t\n",
    "\n",
    "### 🛠 Example:\n",
    "\n",
    "\n"
   ]
  },
  {
   "cell_type": "code",
   "execution_count": 9,
   "metadata": {},
   "outputs": [
    {
     "name": "stdout",
     "output_type": "stream",
     "text": [
      "False\n",
      "True\n",
      "True\n",
      "False\n",
      "True\n",
      "True\n"
     ]
    }
   ],
   "source": [
    "x = 10\n",
    "y = 5\n",
    "print(x == y)  # False\n",
    "print(x != y)  # True\n",
    "print(x > y)   # True\n",
    "print(x < y)   # False\n",
    "print(x >= 10) # True\n",
    "print(y <= 5)  # True\n"
   ]
  },
  {
   "cell_type": "markdown",
   "metadata": {},
   "source": [
    "## 3️⃣ Logical Operators  \n",
    "Used to combine multiple conditions and return `True` or `False`.  \n",
    "\n",
    "| Operator | Description | Example |\n",
    "|----------|------------|---------|\n",
    "| `and` | Returns `True` if **both** conditions are `True` | `(10 > 5 and 8 < 12) → True` |\n",
    "| `or` | Returns `True` if **at least one** condition is `True` | `(10 > 5 or 8 > 12) → True` |\n",
    "| `not` | Reverses the result (negation) | `not(10 > 5) → False` |\n",
    "\n",
    "### 🛠 Example:\n"
   ]
  },
  {
   "cell_type": "code",
   "execution_count": 10,
   "metadata": {},
   "outputs": [
    {
     "name": "stdout",
     "output_type": "stream",
     "text": [
      "True\n",
      "False\n",
      "False\n"
     ]
    }
   ],
   "source": [
    "x = 10\n",
    "print(x > 5 and x < 15)  # True\n",
    "print(x > 15 or x < 5)   # False\n",
    "print(not(x > 5))        # False\n"
   ]
  },
  {
   "cell_type": "markdown",
   "metadata": {},
   "source": [
    "## 4️⃣ Assignment Operators  \n",
    "Used to assign values to variables and modify them.  \n",
    "\n",
    "| Operator | Example | Equivalent To | Description |\n",
    "|----------|---------|---------------|-------------|\n",
    "| `=` | `x = 10` | `x = 10` | Assigns `10` to `x` |\n",
    "| `+=` | `x += 5` | `x = x + 5` | Adds and assigns the value |\n",
    "| `-=` | `x -= 2` | `x = x - 2` | Subtracts and assigns the value |\n",
    "| `*=` | `x *= 3` | `x = x * 3` | Multiplies and assigns the value |\n",
    "| `/=` | `x /= 2` | `x = x / 2` | Divides and assigns the value |\n",
    "| `//=` | `x //= 3` | `x = x // 3` | Floor divides and assigns the value |\n",
    "| `%=` | `x %= 2` | `x = x % 2` | Modulus and assigns the remainder |\n",
    "| `**=` | `x **= 3` | `x = x ** 3` | Exponentiates and assigns the value |\n",
    "\n",
    "### 🛠 Example:"
   ]
  },
  {
   "cell_type": "code",
   "execution_count": 11,
   "metadata": {},
   "outputs": [
    {
     "name": "stdout",
     "output_type": "stream",
     "text": [
      "15\n",
      "30\n",
      "10\n"
     ]
    }
   ],
   "source": [
    "x = 10\n",
    "x += 5  # x = x + 5\n",
    "print(x)  # 15\n",
    "\n",
    "x *= 2  # x = x * 2\n",
    "print(x)  # 30\n",
    "\n",
    "x //= 3  # x = x // 3\n",
    "print(x)  # 10\n"
   ]
  },
  {
   "cell_type": "markdown",
   "metadata": {},
   "source": [
    "## 5️⃣ Bitwise Operators  \n",
    "Used to perform operations on individual bits of binary numbers.  \n",
    "\n",
    "| Operator | Description | Example (`x = 5 (0101)`, `y = 3 (0011)`) |\n",
    "|----------|------------|--------------------------------|\n",
    "| `&` | AND – Sets each bit to `1` if **both** bits are `1` | `x & y → 1 (0001)` |\n",
    "| `|` | OR – Sets each bit to `1` if **at least one** bit is `1` | `x | y → 7 (0111)` |\n",
    "| `^` | XOR – Sets each bit to `1` if **only one** of the bits is `1` | `x ^ y → 6 (0110)` |\n",
    "| `~` | NOT – Inverts all bits (bitwise complement) | `~x → -6` |\n",
    "| `<<` | Left Shift – Shifts bits **left** and fills with `0`s | `x << 1 → 10 (1010)` |\n",
    "| `>>` | Right Shift – Shifts bits **right** and removes bits | `x >> 1 → 2 (0010)` |\n",
    "\n",
    "### 🛠 Example:"
   ]
  },
  {
   "cell_type": "code",
   "execution_count": 12,
   "metadata": {},
   "outputs": [
    {
     "name": "stdout",
     "output_type": "stream",
     "text": [
      "1\n",
      "7\n",
      "6\n",
      "-6\n",
      "10\n",
      "2\n"
     ]
    }
   ],
   "source": [
    "x = 5  # 0101\n",
    "y = 3  # 0011\n",
    "print(x & y)  # 1  (0001)\n",
    "print(x | y)  # 7  (0111)\n",
    "print(x ^ y)  # 6  (0110)\n",
    "print(~x)     # -6 (Negative binary representation)\n",
    "print(x << 1) # 10 (Left shift)\n",
    "print(x >> 1) # 2  (Right shift)\n"
   ]
  },
  {
   "cell_type": "markdown",
   "metadata": {},
   "source": [
    "## 6️⃣ Identity Operators  \n",
    "Used to compare memory locations of two objects.  \n",
    "\n",
    "| Operator | Description | Example |\n",
    "|----------|------------|---------|\n",
    "| `is` | Returns `True` if both variables **refer to the same object** | `x is y` |\n",
    "| `is not` | Returns `True` if both variables **do not refer to the same object** | `x is not y` |\n",
    "\n",
    "### 🛠 Example:"
   ]
  },
  {
   "cell_type": "code",
   "execution_count": 13,
   "metadata": {},
   "outputs": [
    {
     "name": "stdout",
     "output_type": "stream",
     "text": [
      "True\n",
      "False\n",
      "True\n"
     ]
    }
   ],
   "source": [
    "a = [1, 2, 3]\n",
    "b = a  # Same reference\n",
    "c = [1, 2, 3]  # Different object\n",
    "\n",
    "print(a is b)  # True\n",
    "print(a is c)  # False\n",
    "print(a is not c)  # True\n"
   ]
  },
  {
   "cell_type": "markdown",
   "metadata": {},
   "source": [
    "## 7️⃣ Membership Operators  \n",
    "Used to check whether a value is **present in a sequence** (such as a list, tuple, string, etc.).  \n",
    "\n",
    "| Operator | Description | Example |\n",
    "|----------|------------|---------|\n",
    "| `in` | Returns `True` if the value exists in the sequence | `'a' in 'apple' → True` |\n",
    "| `not in` | Returns `True` if the value **does not** exist in the sequence | `'z' not in 'apple' → True` |\n",
    "\n",
    "### 🛠 Example:"
   ]
  },
  {
   "cell_type": "code",
   "execution_count": 14,
   "metadata": {},
   "outputs": [
    {
     "name": "stdout",
     "output_type": "stream",
     "text": [
      "True\n",
      "True\n"
     ]
    }
   ],
   "source": [
    "fruits = [\"apple\", \"banana\", \"cherry\"]\n",
    "print(\"apple\" in fruits)  # True\n",
    "print(\"grape\" not in fruits)  # True\n"
   ]
  },
  {
   "cell_type": "markdown",
   "metadata": {},
   "source": [
    "### 📝 Comments in Python  \n",
    "\n",
    "##### **Comments** are used to add explanations or notes in the code. They help in code readability and debugging but are ignored during execution.  \n",
    "\n",
    "\n",
    "#### 🔹 1️⃣ Single-Line Comments  \n",
    "\n",
    "A **single-line comment** starts with `#` and continues till the end of the line.  \n",
    "#### 🔹 2️⃣ Multi-Line Comments  \n",
    "Python does **not** have a specific syntax for multi-line comments, but you can achieve them in two ways:  \n",
    "\n",
    "##### Using Multiple `#`  \n",
    "You can write multiple `#` symbols on consecutive lines.  \n",
    "\n",
    "##### using ''' ''' or \"\"\"\n",
    "#### 🛠 Example:  \n",
    "\n"
   ]
  },
  {
   "cell_type": "code",
   "execution_count": 1,
   "metadata": {},
   "outputs": [
    {
     "name": "stdout",
     "output_type": "stream",
     "text": [
      "Hello, World!\n",
      "Python is awesome!\n",
      "Python is fun!\n",
      "Let's code!\n"
     ]
    }
   ],
   "source": [
    "# This is a single-line comment\n",
    "print(\"Hello, World!\")  # This prints a message\n",
    "\n",
    "\n",
    "# This is a \n",
    "# multi-line comment\n",
    "print(\"Python is awesome!\")\n",
    "\n",
    "'''\n",
    "This is a multi-line comment.\n",
    "It spans multiple lines.\n",
    "'''\n",
    "print(\"Python is fun!\")\n",
    "\n",
    "\"\"\"\n",
    "This is also a multi-line comment.\n",
    "Python ignores this during execution.\n",
    "\"\"\"\n",
    "print(\"Let's code!\")\n"
   ]
  },
  {
   "cell_type": "markdown",
   "metadata": {},
   "source": [
    "#### user defined input\n"
   ]
  },
  {
   "cell_type": "code",
   "execution_count": null,
   "metadata": {},
   "outputs": [],
   "source": [
    "a=input()#by default takes input as string\n",
    "b=int(input()) #takes input as int type\n",
    "c,d=map(int,input().split(\" \")) #space separated input"
   ]
  },
  {
   "cell_type": "markdown",
   "metadata": {},
   "source": [
    "## String \n",
    "\n",
    "#### A string is a sequence of characters enclosed in single ('), double (\"), or triple (''' or \"\"\") quotes."
   ]
  },
  {
   "cell_type": "code",
   "execution_count": null,
   "metadata": {},
   "outputs": [],
   "source": [
    "#immutable\n",
    "# Basic Operations\n",
    "#str_inp=input(\"enter input:\")#user defined input by default input() function reads as string\n",
    "str1 = \"hello\"\n",
    "str2 = \"world\"\n",
    "concatenated = str1 + str2  # Concatenation\n",
    "print(\"concatenated string:\",concatenated)\n",
    "repeated = str1 * 3        # Repetition\n",
    "print(repeated)\n",
    "length = len(str1)         # Length\n",
    "print(length)\n",
    "char = str1[0]            # Indexing\n",
    "slice = str1[1:4]         # Slicing\n",
    "# Common String Methods\n",
    "text = \"  Hello, World  \"\n",
    "rev_text=text[::-1]\n",
    "print(rev_text)\n",
    "text.strip()      # Remove leading/trailing whitespace\n",
    "text.lower()      # Convert to lowercase\n",
    "text.upper()      # Convert to uppercase\n",
    "text.split(',')   # Split string into list\n",
    "text.replace('o', 'x')  # Replace characters\n",
    "text.find('o')    #Finds first occurrence index (`-1` if not found)\n",
    "text.rfind('o')#Finds last occurrence index (`-1` if not found)\n",
    "text.index(\"l\")#Like `find()`, but raises an error if not found\n",
    "conut_occ=text.count('l')   # Count occurrences\n",
    "print(conut_occ)\n",
    "news=','.join(['a','b'])  # Join strings\n",
    "print(news)\n",
    "text.startswith('H')  # Check prefix returns true or false\n",
    "text.endswith('d')   # Check suffix return true or false\n",
    "\n",
    "#membership operator\n",
    "s = \"Python\" \n",
    "print(\"P\" in s)    # True\n",
    "print(\"Java\" not in s)  # True\n",
    "\n",
    "#string formatting \n",
    "# using format()\n",
    "name = \"Alice\"\n",
    "age = 25\n",
    "print(\"My name is {} and I am {} years old.\".format(name, age))#the {}'s is replaced with name,age respectively\n",
    "#using f-strings\n",
    "print(f\"My name is {name} and I am {age} years old.\")\n",
    "\n",
    "#escape characters\n",
    "print(\"Hello\\nWorld\")  # New Line\n",
    "print(\"Hello\\tWorld\")  # Tab Space\n",
    "print('It\\'s Python')  # Escape Single Quote if we use print('It's Python') without escape character we get an error\n",
    "print(\"It\\\"s Python\")   # Escape double Quote\n",
    "print(\"It\\\\ s Python\")   # Escape slash\n",
    "#Raw Strings (Ignore Escape Sequences)\n",
    "print(r\"C:\\Users\\NewFolder\")  # Output: C:\\Users\\NewFolder\n",
    "\n",
    "#multi-line string\n",
    "text = \"\"\"This is \n",
    "a multiline\n",
    "string.\"\"\"\n",
    "print(text)\n",
    "\n",
    "\n",
    "\n",
    "\n",
    "\n",
    "\n",
    "\n"
   ]
  },
  {
   "cell_type": "code",
   "execution_count": null,
   "metadata": {},
   "outputs": [],
   "source": [
    "# String Validation Methods\n",
    "# 1️⃣ isalnum()- returns True if all characters are letters or digits (No spaces/special chars)\n",
    "print(\"Hello123\".isalnum())  # True\n",
    "print(\"Hello 123\".isalnum())  # False (contains space)\n",
    "print(\"Hello@123\".isalnum())  # False (contains special character)\n",
    "# 2️⃣ isalpha() → True if all characters are letters (No digits/spaces/special chars)\n",
    "print(\"Hello\".isalpha())  # True\n",
    "print(\"Hello123\".isalpha())  # False (contains numbers)\n",
    "print(\"Hello!\".isalpha())  # False (contains special character)\n",
    "# 3️⃣ isdigit() → True if all characters are digits (No letters/spaces/special chars)\n",
    "print(\"123\".isdigit())  # True\n",
    "print(\"123a\".isdigit())  # False (contains a letter)\n",
    "print(\"123 \".isdigit())  # False (contains a space)\n",
    "\n",
    "# 4️⃣ islower() → True if all characters are lowercase (ignores non-letter characters)\n",
    "print(\"hello\".islower())  # True\n",
    "print(\"hello123\".islower())  # True (numbers are ignored)\n",
    "print(\"Hello\".islower())  # False (contains uppercase letter)\n",
    "\n",
    "# 5️⃣ isupper() → True if all characters are uppercase (ignores non-letter characters)\n",
    "print(\"HELLO\".isupper())  # True\n",
    "print(\"HELLO123\".isupper())  # True (numbers are ignored)\n",
    "print(\"Hello\".isupper())  # False (contains lowercase letter)\n",
    "\n",
    "# 6️⃣ isspace() → True if all characters are whitespace (spaces, tabs, newlines)\n",
    "print(\"   \".isspace())  # True (spaces only)\n",
    "print(\"\\t\".isspace())  # True (tab is whitespace)\n",
    "print(\"Hello World\".isspace())  # False (contains non-space characters)\n",
    "\n",
    "# 7️⃣ istitle() → True if each word starts with an uppercase letter\n",
    "print(\"Hello World\".istitle())  # True\n",
    "print(\"Hello world\".istitle())  # False (second word is lowercase)\n",
    "print(\"HELLO WORLD\".istitle())  # False (all uppercase)"
   ]
  },
  {
   "cell_type": "code",
   "execution_count": 5,
   "metadata": {},
   "outputs": [
    {
     "name": "stdout",
     "output_type": "stream",
     "text": [
      "Python\n",
      "Hello world\n",
      "Hello World\n",
      "Python Programming\n",
      "hELLO\n",
      "pYtHoN\n",
      "hello\n",
      "Python\n",
      "hello\n",
      "Python\n"
     ]
    }
   ],
   "source": [
    "# String Transformation Methods Examples\n",
    "\n",
    "# 1️⃣capitalize() → Capitalizes the first letter of the string\n",
    "print(\"python\".capitalize())  # \"Python\"\n",
    "print(\"hello world\".capitalize())  # \"Hello world\" (only first letter changes)\n",
    "# 2️⃣ title() → Capitalizes the first letter of each word\n",
    "print(\"hello world\".title())  # \"Hello World\"\n",
    "print(\"python programming\".title())  # \"Python Programming\"\n",
    "\n",
    "# 3️⃣ swapcase() → Swaps uppercase letters to lowercase and vice versa\n",
    "print(\"Hello\".swapcase())  # \"hELLO\"\n",
    "print(\"PyThOn\".swapcase())  # \"pYtHoN\"\n",
    "# 5️⃣ lstrip() → Removes leading (left) whitespace\n",
    "print(\"  hello\".lstrip())  # \"hello\"\n",
    "print(\"\\tPython\".lstrip())  # \"Python\" (removes tab at the start)\n",
    "\n",
    "# 6️⃣ rstrip() → Removes trailing (right) whitespace\n",
    "print(\"hello  \".rstrip())  # \"hello\"\n",
    "print(\"Python\\t\".rstrip())  # \"Python\" (removes tab at the end)\n"
   ]
  },
  {
   "cell_type": "code",
   "execution_count": null,
   "metadata": {},
   "outputs": [],
   "source": [
    "# String Splitting & Joining Methods Examples\n",
    "\n",
    "# 1️⃣ split(delimiter) → Splits a string into a list based on a delimiter\n",
    "print(\"a,b,c\".split(\",\"))  # ['a', 'b', 'c']\n",
    "print(\"apple orange banana\".split(\" \"))  # ['apple', 'orange', 'banana']\n",
    "\n",
    "# 2️⃣ rsplit(delimiter, maxsplit) → Splits from the right, at most `maxsplit` times\n",
    "print(\"a-b-c\".rsplit(\"-\", 1))  # ['a-b', 'c']\n",
    "print(\"one#two#three#four\".rsplit(\"#\", 2))  # ['one#two', 'three', 'four']\n",
    "\n",
    "# 3️⃣ splitlines() → Splits a string by line breaks (\\n)\n",
    "print(\"Hello\\nWorld\".splitlines())  # ['Hello', 'World']\n",
    "print(\"Line1\\nLine2\\nLine3\".splitlines())  # ['Line1', 'Line2', 'Line3']\n",
    "\n",
    "# 4️⃣ join(iterable) → Joins elements of an iterable into a string using a separator\n",
    "print(\",\".join(['a', 'b', 'c']))  # \"a,b,c\"\n",
    "print(\" - \".join([\"Python\", \"Java\", \"C++\"]))  # \"Python - Java - C++\"\n",
    "print(\"\\n\".join([\"Line1\", \"Line2\", \"Line3\"]))  # Each element on a new line\n"
   ]
  },
  {
   "cell_type": "markdown",
   "metadata": {},
   "source": [
    "## List \n",
    "A **list** is a built-in **data structure** in Python that allows storing multiple items in a single variable. Lists are **ordered, mutable (modifiable), and allow duplicate values**.  \n",
    "##### You can create a list using **square brackets `[]`**.  \n",
    "##### list can have different datatype values"
   ]
  },
  {
   "cell_type": "code",
   "execution_count": null,
   "metadata": {},
   "outputs": [
    {
     "name": "stdout",
     "output_type": "stream",
     "text": [
      "[8, 7, 6, 3, 2, 1]\n",
      "6\n",
      "10\n",
      "40\n"
     ]
    }
   ],
   "source": [
    "\n",
    "lst = [1, 2, 3 , 6, 7, 8, 9, 10]\n",
    "\n",
    "# Modification Methods\n",
    "lst.append(4)     # Add single element (append add single element at the end)\n",
    "lst[2]=5          # modifying value at index\n",
    "lst.extend([5,6]) # Add multiple elements\n",
    "lst.insert(0, 0)  # Insert at index\n",
    "lst.remove(1)     # Remove first occurrence of element\n",
    "lst.pop()         # Remove and return last element\n",
    "lst.pop(0)        # Remove and return element at index\n",
    "lst.clear()       # Remove all elements\n",
    "lst1 = [1, 2, 3 , 6, 7, 8, 9, 10]\n",
    "# Information Methods\n",
    "lst1.index(2)      # Find index of element\n",
    "lst1.count(2)      # Count occurrences\n",
    "lst1.sort()        # Sort in-place\n",
    "lst1.reverse()     # Reverse in-place\n",
    "list2=lst1[2:]     #slicing\n",
    "print(list2)\n",
    "# Operations\n",
    "len(lst1)          # Length\n",
    "lst1 + [4,5]       # Concatenation\n",
    "lst1 * 2           # Repetition\n",
    "2 in lst1          # Membership testing \n",
    "\n",
    "#to delete multiple elements\n",
    "del lst1[5:]\n",
    "\n",
    "#built-in functions\n",
    "print(min(lst1))\n",
    "print(max(lst1))\n",
    "print(sum(lst1))\n"
   ]
  },
  {
   "cell_type": "code",
   "execution_count": null,
   "metadata": {},
   "outputs": [
    {
     "name": "stdout",
     "output_type": "stream",
     "text": [
      "[1, 2, 3, 4, 5, 1, 2, 3, 4, 5]\n"
     ]
    },
    {
     "data": {
      "text/plain": [
       "2"
      ]
     },
     "execution_count": 132,
     "metadata": {},
     "output_type": "execute_result"
    }
   ],
   "source": [
    "#iterating over list-You can iterate over a list using a for loop.\n",
    "fruits = [\"apple\", \"banana\", \"cherry\"]\n",
    "\n",
    "for fruit in fruits:\n",
    "    print(fruit)\n",
    "#List Comprehension-A compact way to create lists using a single line of code.\n",
    "# Generate a list of squares\n",
    "squares = [x**2 for x in range(1, 6)]\n",
    "print(squares)  # [1, 4, 9, 16, 25]\n",
    "\n",
    "# Get only even numbers\n",
    "even_numbers = [x for x in range(10) if x % 2 == 0]\n",
    "print(even_numbers)  # [0, 2, 4, 6, 8]\n"
   ]
  },
  {
   "cell_type": "markdown",
   "metadata": {},
   "source": [
    "### Tuple \n",
    "A **Tuple** is an **immutable** (unchangeable) and **ordered** collection in Python, used to store multiple items in a single variable.\n",
    "Tuples are defined using **parentheses `()`**."
   ]
  },
  {
   "cell_type": "code",
   "execution_count": 11,
   "metadata": {},
   "outputs": [
    {
     "name": "stdout",
     "output_type": "stream",
     "text": [
      "(10, 'Python', 3.14, True)\n",
      "3.14\n",
      "(1, 2, 3, 4, 5)\n",
      "(1, 2, 3, 1, 2, 3)\n",
      "True\n",
      "Alice\n",
      "25\n",
      "Developer\n"
     ]
    }
   ],
   "source": [
    "# Creating tuples\n",
    "empty_tuple = ()  # Empty tuple\n",
    "single_tuple = (10,)  # Tuple with one element (**comma needed)\n",
    "numbers = (1, 2, 3, 4, 5)  # Tuple of numbers\n",
    "mixed_tuple = (10, \"Python\", 3.14, True)  # Tuple with different data types\n",
    "nested_tuple = (1, (2, 3), [4, 5])  # Tuple containing a tuple and a list\n",
    "\n",
    "print(mixed_tuple)  # Output: (10, 'Python', 3.14, True)\n",
    "print(mixed_tuple[-2]) #last second element\n",
    "tup = (1, 2, 3)\n",
    "\n",
    "# Information Methods (Limited due to immutability)\n",
    "tup.count(2)      # Count occurrences\n",
    "tup.index(2)      # Find index\n",
    "\n",
    "# Operations\n",
    "len(tup)          # Length\n",
    "print(tup + (4,5))       # Concatenation\n",
    "print(tup * 2)           # Repetition\n",
    "print(2 in tup)          # Membership testing\n",
    "\n",
    "#Tuple Unpacking-You can assign tuple elements to multiple variables.\n",
    "\n",
    "person = (\"Alice\", 25, \"Developer\")\n",
    "name, age, job = person  # Unpacking tuple\n",
    "print(name)  # Output: Alice\n",
    "print(age)  # Output: 25\n",
    "print(job)  # Output: Developer\n"
   ]
  },
  {
   "cell_type": "markdown",
   "metadata": {},
   "source": [
    "### set\n",
    "A **Set** is an **unordered**, **mutable** collection of unique elements in Python.  \n",
    "Unlike lists and tuples, sets **do not allow duplicate values** and do **not support indexing**.\n",
    "Sets are defined using **curly braces `{}`** or the `set()` function."
   ]
  },
  {
   "cell_type": "code",
   "execution_count": null,
   "metadata": {},
   "outputs": [
    {
     "name": "stdout",
     "output_type": "stream",
     "text": [
      "{1, 2, 3}\n",
      "<class 'set'>\n",
      "<class 'set'>\n",
      "<class 'set'>\n",
      "<class 'set'>\n"
     ]
    },
    {
     "data": {
      "text/plain": [
       "False"
      ]
     },
     "execution_count": 12,
     "metadata": {},
     "output_type": "execute_result"
    }
   ],
   "source": [
    "empty_set = set() \n",
    "empty_set.add(4)\n",
    "s = {1, 2, 3}\n",
    "print(s)\n",
    "print(type(s))\n",
    "ss = {}\n",
    "ss = set()\n",
    "print(type(ss))\n",
    "print(type(ss))\n",
    "# Modification Methods\n",
    "s.add(4)          # Add element\n",
    "s.update([5, 6])\n",
    "s.remove(1)       # Remove element (raises error if not found)\n",
    "s.discard(1)      # Remove element (no error if not found)\n",
    "s.pop()           # Remove and return arbitrary element\n",
    "s.clear()         # Remove all elements\n",
    "\n",
    "# Set Operations\n",
    "s1 = {1, 2, 3}\n",
    "print(type(s1))\n",
    "s2 = {3, 4, 5}\n",
    "s1.union(s2)      # Union\n",
    "s1.intersection(s2)  # Intersection\n",
    "s1.difference(s2)    # Difference\n",
    "s1.symmetric_difference(s2)  # Symmetric difference \n",
    "s1.issubset(s2)      # Check if subset\n",
    "s1.issuperset(s2)    # Check if superset\n",
    "\n",
    "# Operations\n",
    "len(s)            # Length\n",
    "2 in s            # Membership testing"
   ]
  },
  {
   "cell_type": "code",
   "execution_count": 13,
   "metadata": {},
   "outputs": [
    {
     "data": {
      "text/plain": [
       "1"
      ]
     },
     "execution_count": 13,
     "metadata": {},
     "output_type": "execute_result"
    }
   ],
   "source": [
    "my_set = {1, 2, 3, 4, 5}\n",
    "my_set.pop()"
   ]
  },
  {
   "cell_type": "code",
   "execution_count": 14,
   "metadata": {},
   "outputs": [
    {
     "name": "stdout",
     "output_type": "stream",
     "text": [
      "{3, 4, 5, 6}\n",
      "{3, 4, 5, 6, 7}\n"
     ]
    }
   ],
   "source": [
    "my_set.pop()\n",
    "my_set.add(6)\n",
    "print(my_set) \n",
    "my_set.add(7)\n",
    "print(my_set)"
   ]
  },
  {
   "cell_type": "code",
   "execution_count": 15,
   "metadata": {},
   "outputs": [
    {
     "name": "stdout",
     "output_type": "stream",
     "text": [
      "{0, 'basara', 3, 4, 5, 6, 7, 2, 8, 'Basara'}\n"
     ]
    }
   ],
   "source": [
    "\n",
    "my_set.update({2, 0, 5, 8, 'basara',\"Basara\"})\n",
    "print(my_set)"
   ]
  },
  {
   "cell_type": "code",
   "execution_count": null,
   "metadata": {},
   "outputs": [],
   "source": []
  },
  {
   "cell_type": "code",
   "execution_count": 16,
   "metadata": {},
   "outputs": [
    {
     "data": {
      "text/plain": [
       "3"
      ]
     },
     "execution_count": 16,
     "metadata": {},
     "output_type": "execute_result"
    }
   ],
   "source": [
    "my_set.pop()"
   ]
  },
  {
   "cell_type": "markdown",
   "metadata": {},
   "source": [
    "### Dictionary  \n",
    "\n",
    "A **Dictionary** (`dict`) is an **unordered**, **mutable**, and **key-value** based data structure.  \n",
    "Each key in a dictionary must be **unique** and **immutable** (e.g., strings, numbers, or tuples).  \n",
    "\n",
    "\n",
    "\n",
    "\n",
    "Dictionaries are defined using **curly braces `{}`** with `key: value` pairs or using the `dict()` constructor.\n"
   ]
  },
  {
   "cell_type": "code",
   "execution_count": null,
   "metadata": {},
   "outputs": [
    {
     "name": "stdout",
     "output_type": "stream",
     "text": [
      "{}\n",
      "{'a': 1, 'b': 2, 'd': 1, 'm': 10}\n"
     ]
    }
   ],
   "source": [
    "d = {'a': 1, 'b': 2}\n",
    "\n",
    "# Modification Methods\n",
    "d['c'] = 3        # Add/update key-value\n",
    "d.update({'d': 4})  # Add/update multiple\n",
    "d.pop('a')        # Remove and return value\n",
    "d.popitem()       # Remove and return last item\n",
    "d.clear()         # Remove all items\n",
    "\n",
    "# Access Methods\n",
    "d.get('a')        # Get value (with optional default)\n",
    "d.get(c,\"Not Found\") #get value if key not exists return \"Not Found\" \n",
    "d.keys()          # Get all keys\n",
    "d.values()        # Get all values\n",
    "d.items()         # Get all key-value pairs\n",
    "d.setdefault('a', 1)  # Get value, set if missing\n",
    "\n",
    "# Operations\n",
    "len(d)            # Length\n",
    "'a' in d          # Key membership testing\n",
    "del d['a']        # Delete key-value pair\n",
    "\n",
    "print(d)\n",
    "d = {'a': 1, 'b': 2}\n",
    "d.setdefault('d', 1)\n",
    "d.setdefault('m', 10)\n",
    "print(d)\n",
    "\n",
    "#to combine two list into a dictionary\n",
    "key=[1,2,3]\n",
    "value=[\"A\",\"B\",\"c\"]\n",
    "data=dict(zip(key,value))\n",
    "print(data)"
   ]
  },
  {
   "cell_type": "code",
   "execution_count": null,
   "metadata": {},
   "outputs": [
    {
     "name": "stdout",
     "output_type": "stream",
     "text": [
      "{'name ': 'John', 'age': 30, 'department': 'HR', 'salary': 50000, 'location': 'New York', 'email': 'john@example.com'}\n"
     ]
    }
   ],
   "source": [
    "employee = {\"name \" : \"John\", \"age\": 30, \"department\": \"HR\", 'salary': 50000, 'location': 'New York', 'email': 'john@example.com'}\n",
    "print(employee)"
   ]
  },
  {
   "cell_type": "code",
   "execution_count": null,
   "metadata": {},
   "outputs": [
    {
     "data": {
      "text/plain": [
       "dict_keys(['name ', 'age', 'department', 'salary', 'location', 'email'])"
      ]
     },
     "execution_count": 137,
     "metadata": {},
     "output_type": "execute_result"
    }
   ],
   "source": [
    "employee.keys()"
   ]
  },
  {
   "cell_type": "code",
   "execution_count": null,
   "metadata": {},
   "outputs": [
    {
     "data": {
      "text/plain": [
       "dict_values(['John', 30, 'HR', 50000, 'New York', 'john@example.com'])"
      ]
     },
     "execution_count": 138,
     "metadata": {},
     "output_type": "execute_result"
    }
   ],
   "source": [
    "employee.values()"
   ]
  },
  {
   "cell_type": "code",
   "execution_count": null,
   "metadata": {},
   "outputs": [
    {
     "data": {
      "text/plain": [
       "dict_keys(['name ', 'age', 'department', 'salary', 'location', 'email'])"
      ]
     },
     "execution_count": 140,
     "metadata": {},
     "output_type": "execute_result"
    }
   ],
   "source": [
    "employee.keys()"
   ]
  },
  {
   "cell_type": "code",
   "execution_count": null,
   "metadata": {},
   "outputs": [
    {
     "data": {
      "text/plain": [
       "True"
      ]
     },
     "execution_count": 147,
     "metadata": {},
     "output_type": "execute_result"
    }
   ],
   "source": [
    "employee.setdefault('is_alive' ,True)"
   ]
  },
  {
   "cell_type": "code",
   "execution_count": null,
   "metadata": {},
   "outputs": [
    {
     "data": {
      "text/plain": [
       "'next year kontadu'"
      ]
     },
     "execution_count": 150,
     "metadata": {},
     "output_type": "execute_result"
    }
   ],
   "source": [
    "employee.get('car', 'next year kontadu')"
   ]
  },
  {
   "cell_type": "code",
   "execution_count": null,
   "metadata": {},
   "outputs": [],
   "source": []
  },
  {
   "cell_type": "code",
   "execution_count": null,
   "metadata": {},
   "outputs": [
    {
     "data": {
      "text/plain": [
       "dict_values(['John', 30, 'HR', 50000, 'New York', 'john@example.com'])"
      ]
     },
     "execution_count": 146,
     "metadata": {},
     "output_type": "execute_result"
    }
   ],
   "source": [
    "employee.get('cat',)"
   ]
  },
  {
   "cell_type": "code",
   "execution_count": null,
   "metadata": {},
   "outputs": [
    {
     "name": "stdout",
     "output_type": "stream",
     "text": [
      "[('a', 1), ('b', 2), ('c', 3)]\n"
     ]
    }
   ],
   "source": [
    "my_dict = {\"a\": 1, \"c\": 3, \"b\": 2} \n",
    "dict_sorted = sorted(my_dict.items())\n",
    "print(dict_sorted)\n"
   ]
  },
  {
   "cell_type": "code",
   "execution_count": null,
   "metadata": {},
   "outputs": [
    {
     "name": "stdout",
     "output_type": "stream",
     "text": [
      "None\n",
      "[1, 2, 3, 4, 5]\n",
      "[1, 2, 3, 4, 5]\n",
      "['a', 'b', 'c']\n",
      "['e', 'h', 'l', 'l', 'o']\n"
     ]
    }
   ],
   "source": [
    "# sort and sorted \n",
    "my_list = [1, 2, 3, 4, 5]\n",
    "print(my_list.sort()) # sort doesn't return anything , just modifies the list, memory efficient ( large ), works on only lists\n",
    "\n",
    "# sorted creates a new sorted list , doesn't modify the original list\n",
    "my_tuple = (1, 2, 3, 4, 5)\n",
    "print(sorted(my_tuple))\n",
    " # sorted returns a new sorted list ,\n",
    " # doesn't modify the tuple , \n",
    " # sorted alwyas returns a list\n",
    " # it works on all iterables and returns a list\n",
    "my_set = {1, 2, 3, 4, 5}\n",
    "print(sorted(my_set))\n",
    "\n",
    "my_dict = {'a': 1, 'b': 2, 'c': 3}\n",
    "print(sorted(my_dict))\n",
    "\n",
    "my_string = \"hello\"\n",
    "print(sorted(my_string))\n"
   ]
  },
  {
   "cell_type": "code",
   "execution_count": null,
   "metadata": {},
   "outputs": [
    {
     "name": "stdout",
     "output_type": "stream",
     "text": [
      "['batman', 'ironman', 'spiderman', 'superman', 'thor']\n"
     ]
    }
   ],
   "source": [
    "movies = ('spiderman', 'batman', 'superman', 'ironman', 'thor')\n",
    "# print(movies.sort())\n",
    "print(sorted(movies))\n",
    "\n",
    "\n",
    "\n"
   ]
  },
  {
   "cell_type": "markdown",
   "metadata": {},
   "source": [
    "### 🚀 LevelUp : Dive Into the Challenge!"
   ]
  },
  {
   "cell_type": "code",
   "execution_count": null,
   "metadata": {},
   "outputs": [],
   "source": [
    "# stings practice questions  \n",
    "# Q1: Write a program to reverse a string without using the reverse function\n",
    "input_str = \"Python Programming\"\n",
    "\n",
    "# Q2: Given a string, count the number of vowels and consonants\n",
    "text = \"Hello World\"\n",
    "\n",
    "# Q3: Write a program to check if two strings are anagrams\n",
    "str1 = \"listen\"\n",
    "str2 = \"silent\"\n",
    "\n",
    "# list practice questions \n",
    "# Q1: Remove duplicates from a list while preserving order\n",
    "numbers = [1, 3, 3, 3, 6, 2, 3, 5]\n",
    "\n",
    "# Q2: Find the secnd largest number in a list withut using sort()\n",
    "nums = [10, 5, 8, 12, 3, 7, 5]\n",
    "\n",
    "# Q3: Rotate a list by k positions\n",
    "arr = [1, 2, 3, 4, 5]\n",
    "k = 2  # Output should be [4, 5, 1, 2, 3] \n",
    "\n",
    "# Tuple practice questions \n",
    "# Q1: Convert a list of tuples into a dictionary\n",
    "pairs = [(\"a\", 1), (\"b\", 2), (\"c\", 3)]\n",
    "\n",
    "# Q2: Find all pairs in a tuple list where sum is k\n",
    "tuple_list = [(1,2), (3,4), (5,6), (7,8)]\n",
    "k = 7\n",
    "\n",
    "# Q3: Swap elements in tuple of tuples\n",
    "tuple_of_tuples = ((1,2), (3,4), (5,6))\n",
    "\n",
    "# set practice questions \n",
    "# Q1: Find common elements between multiple lists using sets\n",
    "list1 = [1, 2, 3, 4, 5]\n",
    "list2 = [4, 5, 6, 7, 8]\n",
    "list3 = [5, 6, 7, 8, 9]\n",
    "\n",
    "# Q2: Remove all vowels from a sting using sets\n",
    "text = \"Hello World\"\n",
    "\n",
    "# Q3: Find symmetric difference between two lists\n",
    "list1 = [1, 2, 3, 4, 5]\n",
    "list2 = [4, 5, 6, 7, 8] \n",
    "\n",
    "# dictionary practice questions \n",
    "# Q1: Group items by their first letter\n",
    "words = ['apple', 'ant', 'banana', 'bat', 'cat']\n",
    "\n",
    "# Q2: Merge two dictionaries with summing common values\n",
    "dict1 = {'a': 1, 'b': 2, 'c': 3}\n",
    "dict2 = {'b': 3, 'c': 4, 'd': 5}\n",
    "\n",
    "# Q3: Fid the most frequent character in a string using dictionary\n",
    "text = \"programming\""
   ]
  },
  {
   "cell_type": "markdown",
   "metadata": {},
   "source": [
    "### Comparision Operators "
   ]
  },
  {
   "cell_type": "code",
   "execution_count": null,
   "metadata": {},
   "outputs": [],
   "source": [
    "x = 5\n",
    "y = 10\n",
    "\n",
    "# Comparison operators\n",
    "x == y    # Equal to\n",
    "x != y    # Not equal to\n",
    "x > y     # Greater than\n",
    "x < y     # Less than\n",
    "x >= y    # Greater than or equal to\n",
    "x <= y    # Less than or equal to\n",
    "\n",
    "# Logical operators\n",
    "and    # Both conditions must be True\n",
    "or     # At least one condition must be True\n",
    "not    # Inverts the condition\n",
    "\n",
    "# Identity operators\n",
    "is     # Object identity comparison\n",
    "is not # Negative object identity\n",
    "\n",
    "# Membership operators\n",
    "in     # Check if value exists in sequence\n",
    "not in # Check if value doesn't exist in sequence"
   ]
  },
  {
   "cell_type": "code",
   "execution_count": null,
   "metadata": {},
   "outputs": [
    {
     "name": "stdout",
     "output_type": "stream",
     "text": [
      "True\n",
      "a is b\n",
      "a is b\n"
     ]
    }
   ],
   "source": [
    "a  = 'hello' \n",
    "b = 'hello'\n",
    "print(a == b) \n",
    "if a is b:\n",
    "    print(\"a is b\")\n",
    "else:\n",
    "    print(\"a is not b\")\n",
    "\n",
    "if a is not b:\n",
    "    print(\"a is not b\")\n",
    "else:\n",
    "    print(\"a is b\")"
   ]
  },
  {
   "cell_type": "markdown",
   "metadata": {},
   "source": [
    "### if else Statements \n"
   ]
  },
  {
   "cell_type": "code",
   "execution_count": null,
   "metadata": {},
   "outputs": [],
   "source": [
    "# Basic if-else structure\n",
    "condition = True\n",
    "if condition:\n",
    "    # Code executed if condition is True\n",
    "else:\n",
    "    # Code executed if condition is False\n",
    "\n",
    "# Multiple conditions using elif\n",
    "if condition1:\n",
    "    # Executed if condition1 is True\n",
    "elif condition2:\n",
    "    # Executed if condition1 is False and condition2 is True\n",
    "else:\n",
    "    # Executed if all conditions are False\n",
    "\n",
    "# Nested if statements\n",
    "if outer_condition:\n",
    "    if inner_condition: # type: ignore\n",
    "        # Executed when both conditions are True\n",
    "    else:\n",
    "        # Executed when outer True, inner False"
   ]
  },
  {
   "cell_type": "markdown",
   "metadata": {},
   "source": [
    "### 🔄 For Loop \n",
    "\n",
    "A **for loop** is used to iterate over sequences such as **lists, tuples, dictionaries, strings**, and even **ranges**.  \n",
    "It executes a block of code **repeatedly** for **each element** in the sequence.\n",
    "\n",
    "\n",
    "### 🛠 Example:"
   ]
  },
  {
   "cell_type": "code",
   "execution_count": null,
   "metadata": {},
   "outputs": [
    {
     "name": "stdout",
     "output_type": "stream",
     "text": [
      "0 1 2 3 4 5 6 7 8 9 \n",
      "1 2 3 4 5 "
     ]
    }
   ],
   "source": [
    "for i in range(10):\n",
    "    print(i, end=\" \")\n",
    "print()# end in print is used to print in same line\n",
    "my_list = [1, 2, 3, 4, 5]\n",
    "for i in range(len(my_list)):\n",
    "    print(my_list[i], end=\" \")\n",
    "    "
   ]
  },
  {
   "cell_type": "code",
   "execution_count": null,
   "metadata": {},
   "outputs": [],
   "source": [
    "# Basic for loop\n",
    "sequence = [1, 2, 3, 4, 5]\n",
    "for item in sequence:\n",
    "    print(item)\n",
    "\n",
    "# Range-based for loop\n",
    "for i in range(5):    # 0 to 4\n",
    "    print(i)\n",
    "\n",
    "for i in range(2, 5): # 2 to 4\n",
    "    print(i)\n",
    "\n",
    "for i in range(0, 10, 2): # 0 to 9 with step 2\n",
    "    print(i)\n",
    "\n",
    "# Enumerate for index and value\n",
    "for index, value in enumerate(sequence):\n",
    "    print(f\"Index {index}: {value}\")"
   ]
  },
  {
   "cell_type": "markdown",
   "metadata": {},
   "source": [
    "#### 🔄 While Loop \n",
    "\n",
    "A **while loop** is used to repeatedly execute a block of code **as long as a condition is `True`**.\n"
   ]
  },
  {
   "cell_type": "code",
   "execution_count": null,
   "metadata": {},
   "outputs": [],
   "source": [
    "# Basic while loop\n",
    "while condition:\n",
    "    # Code block\n",
    "    # Make sure condition eventually becomes False\n",
    "\n",
    "# While loop with counter\n",
    "count = 0\n",
    "while count < 5:\n",
    "    print(count)\n",
    "    count += 1\n",
    "\n",
    "# Infinite loop with break\n",
    "while True:\n",
    "    if exit_condition:\n",
    "        break"
   ]
  },
  {
   "cell_type": "markdown",
   "metadata": {},
   "source": [
    "### Loop Control Statements "
   ]
  },
  {
   "cell_type": "code",
   "execution_count": null,
   "metadata": {},
   "outputs": [],
   "source": [
    "# Break - Exit the loop entirely\n",
    "for i in range(5):\n",
    "    if i == 3:\n",
    "        break    # Exit when i equals 3\n",
    "\n",
    "# Continue - Skip to next iteration\n",
    "for i in range(5):\n",
    "    if i == 3:\n",
    "        continue # Skip when i equals 3\n",
    "\n",
    "# Pass - Do nothing (placeholder)\n",
    "for i in range(5):\n",
    "    if i == 3:\n",
    "        pass    # Placeholder for future code "
   ]
  },
  {
   "cell_type": "code",
   "execution_count": null,
   "metadata": {},
   "outputs": [
    {
     "name": "stdout",
     "output_type": "stream",
     "text": [
      "X: 1, Y: 2\n",
      "X: 3, Y: 4\n"
     ]
    }
   ],
   "source": [
    "points = [(1, 2), (3, 4)] # thinks like this are cooordinates "
   ]
  },
  {
   "cell_type": "markdown",
   "metadata": {},
   "source": [
    "### Zip "
   ]
  },
  {
   "cell_type": "code",
   "execution_count": null,
   "metadata": {},
   "outputs": [],
   "source": [
    "# Zip multiple iterables\n",
    "names = ['Alice', 'Bob']\n",
    "ages = [25, 30]\n",
    "for name, age in zip(names, ages):\n",
    "    print(f\"{name} is {age} years old\")\n",
    "\n",
    "# Filter with list comprehension\n",
    "numbers = [1, 2, 3, 4, 5]\n",
    "evens = [x for x in numbers if x % 2 == 0]\n",
    "\n",
    "# Nested comprehensions\n",
    "matrix = [[i+j for j in range(3)] for i in range(3)]\n",
    "\n",
    "# Multiple conditions\n",
    "for num in numbers:\n",
    "    if num > 0:\n",
    "        if num % 2 == 0:\n",
    "            print(f\"{num} is positive and even\")\n",
    "        else:\n",
    "            print(f\"{num} is positive and odd\")"
   ]
  },
  {
   "cell_type": "code",
   "execution_count": null,
   "metadata": {},
   "outputs": [
    {
     "name": "stdout",
     "output_type": "stream",
     "text": [
      "Rahuyl  is cool and hfiie\n",
      "Dfalkahuyl  is cool and hfiie\n",
      "Dhlakdfjdfd df df\n"
     ]
    }
   ],
   "source": [
    "sentence =  [\"rahuyl  is cool and hfiie\" , \"dfalkahuyl  is cool and hfiie\" , 'dhlakdfjdfd df df'] \n",
    "for i in sentence:\n",
    "    def title_case(line=i):\n",
    "        return line[0].title() + line[1:]\n",
    "    print(title_case(i))"
   ]
  },
  {
   "cell_type": "code",
   "execution_count": null,
   "metadata": {},
   "outputs": [
    {
     "data": {
      "text/plain": [
       "'Rahuyl  Is Cool And Hfiie'"
      ]
     },
     "execution_count": 94,
     "metadata": {},
     "output_type": "execute_result"
    }
   ],
   "source": [
    "sete = \"rahuyl  is cool and hfiie\" \n",
    "sete.title()"
   ]
  },
  {
   "cell_type": "code",
   "execution_count": null,
   "metadata": {},
   "outputs": [],
   "source": []
  }
 ],
 "metadata": {
  "kernelspec": {
   "display_name": "Python 3",
   "language": "python",
   "name": "python3"
  },
  "language_info": {
   "codemirror_mode": {
    "name": "ipython",
    "version": 3
   },
   "file_extension": ".py",
   "mimetype": "text/x-python",
   "name": "python",
   "nbconvert_exporter": "python",
   "pygments_lexer": "ipython3",
   "version": "3.11.9"
  }
 },
 "nbformat": 4,
 "nbformat_minor": 2
}
