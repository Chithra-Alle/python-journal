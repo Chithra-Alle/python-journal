{
 "cells": [
  {
   "cell_type": "markdown",
   "metadata": {},
   "source": [
    "## Introduction to Python"
   ]
  },
  {
   "cell_type": "markdown",
   "metadata": {},
   "source": [
    "**What is Software?**\n",
    "\n",
    "Software is a collection of instructions that tell a computer what to do. It can be applications like web browsers, games, or operating systems that help run a computer."
   ]
  },
  {
   "cell_type": "markdown",
   "metadata": {},
   "source": [
    "**What is Programming?**\n",
    "\n",
    "Programming is the process of writing instructions that a computer can understand and execute. It allows us to create software that performs specific tasks."
   ]
  },
  {
   "cell_type": "markdown",
   "metadata": {},
   "source": [
    "**What is Code?**\n",
    "\n",
    "Code is the written instructions in a programming language that tells a computer what to do. It is the foundation of all software and applications."
   ]
  },
  {
   "cell_type": "markdown",
   "metadata": {},
   "source": [
    "**What is Syntax?**\n",
    "\n",
    "Syntax is the set of rules that define how to write code in a programming language. Just like grammar rules in a language, programming languages have syntax that must be followed."
   ]
  },
  {
   "cell_type": "markdown",
   "metadata": {},
   "source": [
    "**What is Python?**\n",
    "\n",
    "Python is a high-level, interpreted programming language that is widely used for various applications, including web development, data science, artificial intelligence, automation, and more. It is known for its simplicity, readability, and ease of learning, making it a great choice for beginners and experienced developers alike.\n",
    "\n",
    "🔹 Introduced by: Guido van Rossum in 1991"
   ]
  },
  {
   "cell_type": "markdown",
   "metadata": {},
   "source": [
    "### Why Learn Python? 🚀\n",
    "✅ **Easy & Readable** – Simple syntax, beginner-friendly.  \n",
    "🌍 **Versatile** – Used in web dev, AI, data science, automation & more.  \n",
    "👥 **Huge Community** – Tons of support, libraries & frameworks.  \n",
    "💻 **Cross-Platform** – Runs on Windows, macOS, Linux.  \n",
    "📚 **Powerful Libraries** – Built-in tools for data, AI & web scraping.  \n",
    "\n",
    "Python makes coding fun & efficient! 🐍🔥"
   ]
  },
  {
   "cell_type": "markdown",
   "metadata": {},
   "source": [
    "### Applications of Python 🚀 \n",
    "\n",
    "🌐 **Web Development** – Build websites using Django & Flask.  \n",
    "📊 **Data Science** – Analyze data with Pandas & NumPy.  \n",
    "🤖 **AI & Machine Learning** – Power AI models with TensorFlow & Scikit-learn.  \n",
    "⚙️ **Automation** – Write scripts to automate tasks.  \n",
    "🎮 **Game Development** – Create games with Pygame.  \n",
    "🛡️ **Cybersecurity** – Used in ethical hacking & security testing.  \n",
    "📡 **IoT (Internet of Things)** – Works with embedded systems & smart devices.  \n",
    "\n",
    "Python is everywhere! 🌍🔥"
   ]
  },
  {
   "cell_type": "markdown",
   "metadata": {},
   "source": [
    "### Installing Python"
   ]
  },
  {
   "cell_type": "markdown",
   "metadata": {},
   "source": [
    "##### Steps to Install Python & Set Up VS Code 💻 \n",
    "\n",
    "1️⃣ **Download Python** from [here](https://www.python.org/downloads/).  \n",
    "2️⃣ **Install Python** by following the setup instructions.  \n",
    "3️⃣ **Verify Installation** by running:  \n",
    "   ```sh\n",
    "   python --version   # For Windows  \n",
    "   python3 --version  # For macOS/Linux  \n",
    "   ```  \n",
    "4️⃣ **Install VS Code** from [here](https://code.visualstudio.com/).  \n",
    "5️⃣ **Set Up Python in VS Code:**  \n",
    "   - Open VS Code.  \n",
    "   - Install the **Python extension** from the Extensions tab.  \n",
    "   - Open a Python file and select the installed Python interpreter. "
   ]
  },
  {
   "cell_type": "markdown",
   "metadata": {},
   "source": [
    "6️⃣ **Run Python Code in VS Code:**  \n",
    "   - Open a `.py` file.  \n",
    "   - Click **Run** ▶️ or type `python filename.py` in the terminal.  \n",
    "\n",
    "You're all set! 🎉 Happy coding! 🚀"
   ]
  },
  {
   "cell_type": "markdown",
   "metadata": {},
   "source": [
    "### Variables and Data Types"
   ]
  },
  {
   "cell_type": "markdown",
   "metadata": {},
   "source": [
    "-- Variables:Variables are like containers for storing values.Values in the variables can be changed.\n",
    "\n",
    "-- Values :In Python, values refer to the actual data stored in variables or used in expressions. They can be numbers, text, or other data types."
   ]
  },
  {
   "cell_type": "code",
   "execution_count": null,
   "metadata": {},
   "outputs": [],
   "source": [
    "x = 10        # 10 is a value (integer)\n",
    "name = \"Alice\" # \"Alice\" is a value (string)\n",
    "pi = 3.14      # 3.14 is a value (float)\n",
    "is_valid = True # True is a value (boolean)\n",
    "\n",
    "#Here x,name,pi,is_valid are variables."
   ]
  },
  {
   "cell_type": "markdown",
   "metadata": {},
   "source": [
    "🎯 Mastering Python Variables🚀\n",
    "\n",
    "Think of variables as nicknames for data in Python. But just like in real life, you need to follow some rules when naming them! Let's break it down with some cool insights.\n",
    "\n",
    "🏆 The Golden Rules of Variable Naming\n",
    "\n",
    "✅ 1. Use Letters, Numbers & Underscores Only!\n",
    "\n",
    "    Variables can have letters, numbers, and underscores (_).\n",
    "    BUT they can't start with a number!"
   ]
  },
  {
   "cell_type": "code",
   "execution_count": 2,
   "metadata": {},
   "outputs": [],
   "source": [
    "#Example:\n",
    "age_21 = 21  # ✅ Correct!\n",
    "_username = \"Pythonista\"  # ✅ Correct!\n",
    "2fast2furious = \"Oops!\"  # ❌ Error! Can't start with a number."
   ]
  },
  {
   "cell_type": "markdown",
   "metadata": {},
   "source": [
    "✅ 2. No Spaces, Use Underscores Instead!\n",
    "\n",
    "    Python doesn’t like spaces in variable names.\n",
    "    Use underscores (_) instead of spaces to make names readable."
   ]
  },
  {
   "cell_type": "code",
   "execution_count": 7,
   "metadata": {},
   "outputs": [],
   "source": [
    "#Example:\n",
    "full_name = \"first_name last_name\"  # ✅ Correct!\n",
    "full name = \"Error!\"  # ❌ Nope! Spaces aren’t allowed."
   ]
  },
  {
   "cell_type": "markdown",
   "metadata": {},
   "source": [
    "✅ 3. Don’t Steal Python’s Special Words!\n",
    "\n",
    "    Python has reserved words like print, for, while, etc.\n",
    "    Using them as variable names confuses Python!"
   ]
  },
  {
   "cell_type": "code",
   "execution_count": 25,
   "metadata": {},
   "outputs": [],
   "source": [
    "#Example:\n",
    "\n",
    "print = \"Hello, World!\"  # ❌ Oops! print is a built-in function.\n",
    "my_print = \"Hello, World!\"  # ✅ Much better!\n",
    "del print"
   ]
  },
  {
   "cell_type": "markdown",
   "metadata": {},
   "source": [
    "✅ 4. Keep It Short, But Make It Clear!\n",
    "\n",
    "    Be descriptive but concise."
   ]
  },
  {
   "cell_type": "code",
   "execution_count": 14,
   "metadata": {},
   "outputs": [],
   "source": [
    "#Example:\n",
    "\n",
    "x = \"John\"  # ❌ Too short! What does 'x' mean?\n",
    "person_name = \"John\"  # ✅ Better!\n",
    "student_name = \"Alice\"  # ✅ Clear and meaningful!"
   ]
  },
  {
   "cell_type": "markdown",
   "metadata": {},
   "source": [
    "✅ 5. Python Cares About CAPITAL and small letters!\n",
    "\n",
    "    Name and name are different in Python!"
   ]
  },
  {
   "cell_type": "code",
   "execution_count": 29,
   "metadata": {},
   "outputs": [
    {
     "name": "stdout",
     "output_type": "stream",
     "text": [
      "name1\n",
      "name2\n"
     ]
    }
   ],
   "source": [
    "name= \"name1\"\n",
    "Name= \"name2\"\n",
    "print(name)  # Outputs: name\n",
    "print(Name)  # Outputs: NAME"
   ]
  },
  {
   "cell_type": "markdown",
   "metadata": {},
   "source": [
    "🎉 Wrap-Up: Be a Variable Pro!\n",
    "\n",
    "Now you know how to name variables like a Python expert! 🚀 Follow these rules, and your code will be clean, readable, and bug-free.\n",
    "\n",
    "Ready to play around with variables? Try creating your own! 🐍💡"
   ]
  },
  {
   "cell_type": "markdown",
   "metadata": {},
   "source": [
    "### Data Types"
   ]
  },
  {
   "cell_type": "markdown",
   "metadata": {},
   "source": [
    "In programming languages,every value or data has an associated type to it known as data type."
   ]
  },
  {
   "cell_type": "markdown",
   "metadata": {},
   "source": [
    "Some commonly used data types are:\n",
    "- String\n",
    "- Integer\n",
    "- Float\n",
    "- Boolean"
   ]
  },
  {
   "cell_type": "markdown",
   "metadata": {},
   "source": [
    " This data type determines how the value or data can be used in the program.For ex,mathematical operations can be done on integer and float types of data."
   ]
  },
  {
   "cell_type": "markdown",
   "metadata": {},
   "source": [
    "In Python, data types are classified into two categories:\n",
    "\n",
    "🔄 **Mutable (Changeable)** – Can be modified after creation.  \n",
    "🚫 **Immutable (Unchangeable)** – Cannot be modified after creation.\n",
    "\n",
    "| Data Type     | Mutable? 🔄/🚫 | Example                      |\n",
    "|--------------|--------------|------------------------------|\n",
    "| **List**   | 🔄 Yes       | `[1, 2, 3]`                 |\n",
    "| **Dictionary** 📖 | 🔄 Yes  | `{\"name\": \"Alice\", \"age\": 25}` |\n",
    "| **Set**    | 🔄 Yes       | `{1, 2, 3}`                 |\n",
    "| **Tuple**  | 🚫 No       | `(10, 20, 30)`              |\n",
    "| **String** 🔤| 🚫 No       | `\"Hello, World!\"`           |\n",
    "| **Integer** 🔢 | 🚫 No     | `42`                        |\n",
    "| **Float**  | 🚫 No       | `3.14`                      |\n",
    "| **Boolean** ✅❌ | 🚫 No   | `True` / `False`            |\n",
    "\n",
    "### Mutable vs Immutable – What's the Buzz? 🤔\n",
    "- **Mutable** data types are like **whiteboards** – you can erase and rewrite! 📝\n",
    "- **Immutable** data types are like **permanent markers** – once written, they stay the same! 🖊️"
   ]
  },
  {
   "cell_type": "markdown",
   "metadata": {},
   "source": [
    "### Input & Output Basics in Python 💡\n",
    "📥 Taking Input from the User\n",
    "The **input()** function is used to take user input as a string."
   ]
  },
  {
   "cell_type": "code",
   "execution_count": null,
   "metadata": {},
   "outputs": [],
   "source": [
    "name = input(\"Enter your name: \")\n",
    "print(\"Hello, \" + name + \"!\")"
   ]
  },
  {
   "cell_type": "markdown",
   "metadata": {},
   "source": [
    "📝 Note: **input()** always returns a string. Convert it if needed:"
   ]
  },
  {
   "cell_type": "code",
   "execution_count": null,
   "metadata": {},
   "outputs": [],
   "source": [
    "age = int(input(\"Enter your age: \"))  # Converts input to integer\n",
    "print(\"You are\", age, \"years old!\")"
   ]
  },
  {
   "cell_type": "markdown",
   "metadata": {},
   "source": [
    "📤 Displaying Output\n",
    "- The **print()** function is used to display output."
   ]
  },
  {
   "cell_type": "code",
   "execution_count": null,
   "metadata": {},
   "outputs": [],
   "source": [
    "print(\"Hello, World!\")  # Simple output\n",
    "print(\"Python is fun!\", \"Let's learn together!\")  # Multiple values"
   ]
  },
  {
   "cell_type": "markdown",
   "metadata": {},
   "source": [
    "🎨 Formatted Output (f-strings)\n",
    "- Use **f-strings** for better formatting:"
   ]
  },
  {
   "cell_type": "code",
   "execution_count": 6,
   "metadata": {},
   "outputs": [
    {
     "name": "stdout",
     "output_type": "stream",
     "text": [
      "My name is Alice and I am 25 years old.\n"
     ]
    }
   ],
   "source": [
    "name = \"Alice\"\n",
    "age = 25\n",
    "print(f\"My name is {name} and I am {age} years old.\")"
   ]
  },
  {
   "cell_type": "markdown",
   "metadata": {},
   "source": [
    "🔹 Printing Without Newline\n",
    "- By default, print() adds a newline (\\n). Use **end=\"\"** to change it:"
   ]
  },
  {
   "cell_type": "code",
   "execution_count": null,
   "metadata": {},
   "outputs": [],
   "source": [
    "print(\"Hello\", end=\" \")\n",
    "print(\"World!\")  # Output: Hello World!"
   ]
  },
  {
   "cell_type": "markdown",
   "metadata": {},
   "source": [
    "🚀 Now you know how to take input & print output in Python! 🎉"
   ]
  },
  {
   "cell_type": "markdown",
   "metadata": {},
   "source": [
    "#### Order of Instructions\n",
    "Python executes the code line-by-line"
   ]
  },
  {
   "cell_type": "code",
   "execution_count": null,
   "metadata": {},
   "outputs": [],
   "source": [
    "print(sentence)\n",
    "sentence=\"This is a wrong move\" #NameError: name 'sentence' is not defined"
   ]
  },
  {
   "cell_type": "markdown",
   "metadata": {},
   "source": [
    "### Type Conversions in Python 🔄\n",
    "Python allows converting one data type into another. This is called Type Conversion and is of two types:"
   ]
  },
  {
   "cell_type": "markdown",
   "metadata": {},
   "source": [
    "1️. Implicit Type Conversion (Automatic) 🤖\n",
    "- ✅ Python automatically converts smaller data types to larger ones when needed."
   ]
  },
  {
   "cell_type": "code",
   "execution_count": null,
   "metadata": {},
   "outputs": [],
   "source": [
    "num_int = 10      # Integer\n",
    "num_float = 2.5   # Float\n",
    "\n",
    "result = num_int + num_float  # Integer + Float → Float\n",
    "print(result)   # Output: 12.5 (Converted to float automatically)\n",
    "print(type(result))  # Output: <class 'float'>\n"
   ]
  },
  {
   "cell_type": "markdown",
   "metadata": {},
   "source": [
    "##### 2. 🎭 Explicit Type Conversion (Type Casting)\n",
    "\n",
    "We manually convert data types using built-in functions.\n",
    "\n",
    "| **Function**  | **Converts To** | **Example**             |\n",
    "|--------------|---------------|-------------------------|\n",
    "| `int(x)`     | Integer       | `int(3.7) → 3`         |\n",
    "| `float(x)`   | Float         | `float(5) → 5.0`       |\n",
    "| `str(x)`     | String        | `str(10) → \"10\"`       |\n",
    "| `list(x)`    | List          | `list(\"abc\") → ['a', 'b', 'c']` |\n",
    "| `tuple(x)`   | Tuple         | `tuple([1,2,3]) → (1,2,3)` |\n",
    "| `set(x)`     | Set           | `set([1,2,2,3]) → {1,2,3}` |\n",
    "\n"
   ]
  },
  {
   "cell_type": "code",
   "execution_count": null,
   "metadata": {},
   "outputs": [],
   "source": [
    "num = \"100\"      # String\n",
    "num_int = int(num)  # Convert to Integer\n",
    "print(num_int, type(num_int))  # Output: 100 <class 'int'>\n",
    "\n",
    "pi = 3.14\n",
    "pi_str = str(pi)  # Convert float to string\n",
    "print(pi_str, type(pi_str))  # Output: '3.14' <class 'str'>\n"
   ]
  },
  {
   "cell_type": "markdown",
   "metadata": {},
   "source": [
    "Boolean Conversion Weirdness\n"
   ]
  },
  {
   "cell_type": "code",
   "execution_count": null,
   "metadata": {},
   "outputs": [],
   "source": [
    "print(bool(\"False\"))  # Output: True (Any non-empty string is True)\n",
    "print(bool(\"\"))       # Output: False (Empty string is False)\n",
    "print(bool([]))       # Output: False (Empty list is False)\n",
    "print(bool([0]))      # Output: True (Non-empty list is True)\n",
    "print(bool(0))        # Output: False\n",
    "print(bool(-1))       # Output: True (Any non-zero number is True)\n",
    "\n",
    "# Why? Non-empty collections are True, even if they contain 0."
   ]
  },
  {
   "cell_type": "markdown",
   "metadata": {},
   "source": [
    "🔹 Common Mistakes & Errors 🚨\n",
    "- ❌ Invalid conversions cause errors!"
   ]
  },
  {
   "cell_type": "code",
   "execution_count": null,
   "metadata": {},
   "outputs": [],
   "source": [
    "print(int(\"Hello\"))  # ❌ ERROR: Cannot convert letters to an integer\n",
    "print(float(\"abc\"))  # ❌ ERROR: Cannot convert letters to float"
   ]
  },
  {
   "cell_type": "markdown",
   "metadata": {},
   "source": [
    "🚀 Now you're a pro at Type Conversion in Python! 🔄🔥"
   ]
  },
  {
   "cell_type": "markdown",
   "metadata": {},
   "source": [
    "###  Python Operators – The Fun & Crazy Way! 🤪🎉\n",
    "\n",
    "Operators in Python are like **superheroes** 🦸‍♂️ that help perform operations on variables and values. Let's meet them all in a **fun way!** 🚀  \n",
    "\n",
    "---\n",
    "\n",
    "#### 1️⃣ Relational (Comparison) Operators – The Judge 👨‍⚖️  \n",
    "These operators **compare** two values and return **True** or **False**.\n",
    "\n",
    "| **Operator** | **Meaning**            | **Example**         |\n",
    "|-------------|----------------------|------------------|\n",
    "| `==`  | Equal to 🤝 | `5 == 5` → ✅ `True` |\n",
    "| `!=`  | Not equal to 😤 | `5 != 3` → ✅ `True` |\n",
    "| `>`   | Greater than 🚀 | `10 > 5` → ✅ `True` |\n",
    "| `<`   | Less than 🐭 | `2 < 8` → ✅ `True` |\n",
    "| `>=`  | Greater than or equal to 💪 | `10 >= 10` → ✅ `True` |\n",
    "| `<=`  | Less than or equal to 🙃 | `3 <= 5` → ✅ `True` |"
   ]
  },
  {
   "cell_type": "code",
   "execution_count": null,
   "metadata": {},
   "outputs": [],
   "source": [
    "age = 18\n",
    "if age >= 18:\n",
    "    print(\"You can enter the party! 🎉\")\n",
    "else:\n",
    "    print(\"Go home, kid! 🚪😂\")\n"
   ]
  },
  {
   "cell_type": "markdown",
   "metadata": {},
   "source": [
    "#### 2️⃣ Assignment Operators – The Handshake 🤝  \n",
    "\n",
    "| **Operator** | **Example** | **Equivalent To** |\n",
    "|-------------|------------|----------------|\n",
    "| `=`   | `x = 5`   | x is now 5 |\n",
    "| `+=`  | `x += 3`  | `x = x + 3` |\n",
    "| `-=`  | `x -= 2`  | `x = x - 2` |\n",
    "| `*=`  | `x *= 4`  | `x = x * 4` |\n",
    "| `/=`  | `x /= 2`  | `x = x / 2` |\n",
    "| `%=`  | `x %= 3`  | `x = x % 3` |"
   ]
  },
  {
   "cell_type": "code",
   "execution_count": null,
   "metadata": {},
   "outputs": [],
   "source": [
    "cookies = 10\n",
    "cookies += 5  # Ate 5 more cookies 🍪\n",
    "print(\"Cookies left:\", cookies)  # Output: 15"
   ]
  },
  {
   "cell_type": "markdown",
   "metadata": {},
   "source": [
    "#### 3️⃣ Logical Operators – The Detectives 🕵️‍♂️  \n",
    "\n",
    "| **Operator** | **Meaning** | **Example** |\n",
    "|-------------|------------|------------|\n",
    "| `and`  | Both conditions must be True ✅✅ | `True and False` →  `False` |\n",
    "| `or`   | At least one must be True ✅❌ | `True or False` →  `True` |\n",
    "| `not`  | Reverse the condition 🙃 | `not True` →  `False` |\n"
   ]
  },
  {
   "cell_type": "code",
   "execution_count": null,
   "metadata": {},
   "outputs": [],
   "source": [
    "is_raining = True\n",
    "have_umbrella = False\n",
    "\n",
    "if is_raining and not have_umbrella:\n",
    "    print(\"You will get wet! ☔😂\")\n",
    "else:\n",
    "    print(\"You're safe! 😎\")"
   ]
  },
  {
   "cell_type": "markdown",
   "metadata": {},
   "source": [
    "#### 4️⃣ Arithmetic Operators – The Math Nerds 📏📐  \n",
    "\n",
    "| **Operator** | **Meaning** | **Example** |\n",
    "|-------------|------------|------------|\n",
    "| `+`  | Addition ➕ | `3 + 2` → `5` |\n",
    "| `-`  | Subtraction ➖ | `10 - 4` → `6` |\n",
    "| `*`  | Multiplication ✖️ | `6 * 7` → `42` |\n",
    "| `/`  | Division ➗ | `10 / 2` → `5.0` |\n",
    "| `%`  | Modulus (Remainder)  | `10 % 3` → `1` |\n",
    "| `**` | Exponentiation  | `2 ** 3` → `8` |\n",
    "| `//` | Floor Division  | `10 // 3` → `3` |"
   ]
  },
  {
   "cell_type": "code",
   "execution_count": null,
   "metadata": {},
   "outputs": [],
   "source": [
    "money = 100\n",
    "pizza_price = 30\n",
    "\n",
    "print(\"Pizzas you can buy:\", money // pizza_price)  # Output: 3 🍕"
   ]
  },
  {
   "cell_type": "markdown",
   "metadata": {},
   "source": [
    "#### 5️⃣ Bitwise Operators – The Nerd Squad 🤓💾  \n",
    "\n",
    "| **Operator** | **Meaning** | **Example** |\n",
    "|-------------|------------|------------|\n",
    "| `&`  | AND  | `5 & 3` → `1` |\n",
    "| `\\|`  | OR  | `5 \\| 3` → `7` |\n",
    "| `^`  | XOR  | `5 ^ 3` → `6` |\n",
    "| `~`  | NOT  | `~5` → `-6` |\n",
    "| `<<` | Left Shift  | `5 << 1` → `10` |\n",
    "| `>>` | Right Shift  | `5 >> 1` → `2` |\n"
   ]
  },
  {
   "cell_type": "code",
   "execution_count": null,
   "metadata": {},
   "outputs": [],
   "source": [
    "a = 5  # 101 in binary\n",
    "b = 3  # 011 in binary\n",
    "\n",
    "print(a & b)  # Output: 1 (Binary: 001)"
   ]
  },
  {
   "cell_type": "markdown",
   "metadata": {},
   "source": [
    "#### 6️⃣ Identity Operators – The Detectives of Memory 🔍  \n",
    "\n",
    "| **Operator** | **Meaning** | **Example** |\n",
    "|-------------|------------|------------|\n",
    "| `is`  | True if same object ✅ | `x is y` |\n",
    "| `is not` | True if different ❌ | `x is not y` |"
   ]
  },
  {
   "cell_type": "code",
   "execution_count": null,
   "metadata": {},
   "outputs": [],
   "source": [
    "a = [1, 2, 3]\n",
    "b = a\n",
    "c = [1, 2, 3]\n",
    "\n",
    "print(a is b)   # ✅ True (same object)\n",
    "print(a is c)   # ❌ False (different objects)"
   ]
  },
  {
   "cell_type": "markdown",
   "metadata": {},
   "source": [
    "#### 7️⃣ Membership Operators – The Spy 🕵️‍♀️  \n",
    "\n",
    "| **Operator** | **Meaning** | **Example** |\n",
    "|-------------|------------|------------|\n",
    "| `in`  | True if value exists ✅ | `\"a\" in \"apple\"` → ✅ `True` |\n",
    "| `not in` | True if value does NOT exist ❌ | `\"x\" not in \"banana\"` → ✅ `True` |"
   ]
  },
  {
   "cell_type": "code",
   "execution_count": null,
   "metadata": {},
   "outputs": [],
   "source": [
    "fruits = [\"apple\", \"banana\", \"cherry\"]\n",
    "if \"apple\" in fruits:\n",
    "    print(\"🍏 Apple found!\")\n",
    "else:\n",
    "    print(\"No apples here! 😢\")"
   ]
  },
  {
   "cell_type": "markdown",
   "metadata": {},
   "source": [
    "### Conditional Statements in Python – The Drama of Decision Making! \n",
    "- Imagine you're the director of a Python movie 🎬, and your characters (the code) need to make smart decisions to move the story forward. This is where conditional statements come in!\n",
    "\n",
    "- 🥇 Act 1: The Simple if Statement – \"Should I go out?\"\n",
    "- An if statement checks a condition—if it's True, the code runs. If it's False, it’s ignored."
   ]
  },
  {
   "cell_type": "code",
   "execution_count": null,
   "metadata": {},
   "outputs": [],
   "source": [
    "weather = \"sunny\"\n",
    "\n",
    "if weather == \"sunny\":  # If the condition is True\n",
    "    print(\"Let's go outside! 😎☀️\")  # Action happens!"
   ]
  },
  {
   "cell_type": "markdown",
   "metadata": {},
   "source": [
    "📝 Translation: If the weather is sunny, our character goes outside. Otherwise, they do nothing."
   ]
  },
  {
   "cell_type": "markdown",
   "metadata": {},
   "source": [
    "🥈 Act 2: if...else – The Plot Twist! 🎬\n",
    "- Sometimes, you need a backup plan. If one condition fails, do something else instead!"
   ]
  },
  {
   "cell_type": "code",
   "execution_count": null,
   "metadata": {},
   "outputs": [],
   "source": [
    "weather = \"rainy\"\n",
    "\n",
    "if weather == \"sunny\":\n",
    "    print(\"Let's go outside! 😎☀️\")  \n",
    "else:\n",
    "    print(\"Staying in with Netflix! 🍿🎥\")  "
   ]
  },
  {
   "cell_type": "markdown",
   "metadata": {},
   "source": [
    "📝 Translation: If it's sunny, we go out. Otherwise, we watch Netflix instead!"
   ]
  },
  {
   "cell_type": "markdown",
   "metadata": {},
   "source": [
    "🥉 Act 3: if...elif...else  \n",
    "- What if there are multiple choices? "
   ]
  },
  {
   "cell_type": "code",
   "execution_count": null,
   "metadata": {},
   "outputs": [],
   "source": [
    "weather = \"cloudy\"\n",
    "\n",
    "if weather == \"sunny\":\n",
    "    print(\"Let's go outside! 😎☀️\")\n",
    "elif weather == \"rainy\":\n",
    "    print(\"Staying in with Netflix! 🍿🎥\")\n",
    "elif weather == \"cloudy\":\n",
    "    print(\"Might go for a walk... 🌥️🚶\")\n",
    "else:\n",
    "    print(\"Not sure what to do! 🤔\")"
   ]
  },
  {
   "cell_type": "markdown",
   "metadata": {},
   "source": [
    "📝 Translation:\n",
    "- If sunny → Go outside\n",
    "- If rainy → Watch Netflix\n",
    "- If cloudy → Go for a walk\n",
    "- Otherwise, we’re confused!"
   ]
  },
  {
   "cell_type": "markdown",
   "metadata": {},
   "source": [
    "🔥 Act 4: Nested if – The Drama Inside Drama! 🎭\n",
    "- Sometimes, decisions have sub-decisions"
   ]
  },
  {
   "cell_type": "code",
   "execution_count": null,
   "metadata": {},
   "outputs": [],
   "source": [
    "weather = \"rainy\"\n",
    "mood = \"happy\"\n",
    "\n",
    "if weather == \"rainy\":\n",
    "    print(\"It's raining! ☔\")\n",
    "    if mood == \"happy\":\n",
    "        print(\"Dancing in the rain! 💃🌧️\")\n",
    "    else:\n",
    "        print(\"Sigh... just another gloomy day. 😞\")"
   ]
  },
  {
   "cell_type": "markdown",
   "metadata": {},
   "source": [
    "📝 Translation:\n",
    "\n",
    "- If it's raining:\n",
    "- If we're happy, we dance in the rain 💃\n",
    "- Otherwise, we stay gloomy 😞"
   ]
  },
  {
   "cell_type": "markdown",
   "metadata": {},
   "source": [
    "🎯 Act 5: Short-Hand if – The One-Liner Hero! 🚀\n",
    "- What if you want a quick decision without writing multiple lines?"
   ]
  },
  {
   "cell_type": "code",
   "execution_count": null,
   "metadata": {},
   "outputs": [],
   "source": [
    "weather = \"sunny\"\n",
    "\n",
    "print(\"Let's go outside! 😎☀️\") if weather == \"sunny\" else print(\"Netflix time! 🍿\")"
   ]
  },
  {
   "cell_type": "markdown",
   "metadata": {},
   "source": [
    "📝 Translation:\n",
    "\n",
    "- If it's sunny, print \"Let's go outside! 😎☀️\"\n",
    "- Otherwise, print \"Netflix time! 🍿\""
   ]
  },
  {
   "cell_type": "markdown",
   "metadata": {},
   "source": [
    "This is called the Ternary Operator – One-line decision-making like a boss! 😎"
   ]
  },
  {
   "cell_type": "markdown",
   "metadata": {},
   "source": [
    "### 😂 Fun If-Else Challenge: The Ice Cream Decision! 🍦🍫\n",
    "**Question:**\n",
    "You have an ice cream 🍦 in your hand, but uh-oh! It starts melting!\n",
    "\n",
    "👉 Write a Python program that:\n",
    "\n",
    "- If the temperature is hot (above 30°C) 🌞 → Eat it quickly! 😋\n",
    "- If the temperature is cold (below 15°C) ❄️ → Save it for later! 🧊\n",
    "- Otherwise, enjoy it slowly! 🍦😎"
   ]
  },
  {
   "cell_type": "markdown",
   "metadata": {},
   "source": [
    "### Loops"
   ]
  },
  {
   "cell_type": "code",
   "execution_count": null,
   "metadata": {},
   "outputs": [],
   "source": []
  },
  {
   "cell_type": "markdown",
   "metadata": {},
   "source": [
    "1. The **for Loop** – Going Round & Round!\n",
    "- Use when you know how many times to loop!\n",
    "\n",
    "🎭 Example: Counting Candies 🍬"
   ]
  },
  {
   "cell_type": "code",
   "execution_count": null,
   "metadata": {},
   "outputs": [],
   "source": [
    "for candy in range(1, 6):  # Loops from 1 to 5\n",
    "    print(f\"Eating candy number {candy} 🍬\")"
   ]
  },
  {
   "cell_type": "markdown",
   "metadata": {},
   "source": [
    "2. The **while Loop** – Until You’re Done!\n",
    "- Use when you don't know how many times to loop!\n",
    "\n",
    " Example: Watching TV 📺 Until Sleepy"
   ]
  },
  {
   "cell_type": "code",
   "execution_count": null,
   "metadata": {},
   "outputs": [],
   "source": [
    "sleepy = False\n",
    "episodes = 0\n",
    "\n",
    "while not sleepy:\n",
    "    episodes += 1\n",
    "    print(f\"Watching episode {episodes} 🎬\")\n",
    "    if episodes == 3:  # After 3 episodes, you get sleepy!\n",
    "        sleepy = True\n",
    "\n",
    "print(\"Too sleepy! Time to sleep 😴\")"
   ]
  },
  {
   "cell_type": "markdown",
   "metadata": {},
   "source": [
    "### Loop Control Statements"
   ]
  },
  {
   "cell_type": "markdown",
   "metadata": {},
   "source": [
    "The **break Statement** – When You Want to Escape!\n",
    "- Stops the loop immediately!\n",
    "\n",
    "🎭 Example: Leaving a Boring Party 🎉➡️🚪"
   ]
  },
  {
   "cell_type": "code",
   "execution_count": null,
   "metadata": {},
   "outputs": [],
   "source": [
    "for minute in range(1, 6):  \n",
    "    print(f\"At the party for {minute} minutes 🕺🎶\")\n",
    "    if minute == 3:  # At minute 3, you decide to leave!\n",
    "        print(\"Boring! Leaving the party... 🚪\")\n",
    "        break"
   ]
  },
  {
   "cell_type": "markdown",
   "metadata": {},
   "source": [
    "The **continue Statement** – Skip & Move On!\n",
    "- Skips one loop iteration and moves to the next.\n",
    "\n",
    " Example: Skipping a Bad Song in a Playlist 🎵🚫"
   ]
  },
  {
   "cell_type": "code",
   "execution_count": null,
   "metadata": {},
   "outputs": [],
   "source": [
    "songs = [\"Song 1\", \"Annoying Song\", \"Song 3\", \"Song 4\"]\n",
    "\n",
    "for song in songs:\n",
    "    if song == \"Annoying Song\":\n",
    "        print(\"Skipping the annoying song! 🚫🎵\")\n",
    "        continue\n",
    "    print(f\"Listening to {song} 🎧\")"
   ]
  },
  {
   "cell_type": "markdown",
   "metadata": {},
   "source": [
    "**Summary**\n",
    "- Loops make Python repeat actions until a condition is met.\n",
    "\n",
    "- for loop → When you know how many times to loop 🎡\n",
    "- while loop → When you don’t know how many times 🔄\n",
    "- break → Stops the loop immediately 🚪\n",
    "- continue → Skips an iteration and moves on ⏩"
   ]
  },
  {
   "cell_type": "markdown",
   "metadata": {},
   "source": [
    "### 🎉 Challenge Time!\n",
    "Can you write a Python program that:\n",
    "👉 Asks the user for their favorite number, and prints \"Wow! Nice choice!\" that many times? 😆\n",
    "\n",
    "Try it out! 🚀"
   ]
  },
  {
   "cell_type": "markdown",
   "metadata": {},
   "source": [
    "#### why does indexing start from 0?\n",
    "\n",
    "     -  Address = Base Address + Index * Size of the data type"
   ]
  },
  {
   "cell_type": "markdown",
   "metadata": {},
   "source": [
    "## String "
   ]
  },
  {
   "cell_type": "markdown",
   "metadata": {},
   "source": [
    "A string (str) is a sequence of characters enclosed in quotes.\n",
    "\n",
    "Immutable (can't be changed after creation) "
   ]
  },
  {
   "cell_type": "code",
   "execution_count": 3,
   "metadata": {},
   "outputs": [
    {
     "data": {
      "text/plain": [
       "False"
      ]
     },
     "execution_count": 3,
     "metadata": {},
     "output_type": "execute_result"
    }
   ],
   "source": [
    "\n",
    "# Basic Operations\n",
    "str1 = \"hello\"\n",
    "str2 = \"world\"\n",
    "concatenated = str1 + str2  # Concatenation\n",
    "repeated = str1 * 3        # Repetition\n",
    "length = len(str1)         # Length\n",
    "char = str1[0]            # Indexing\n",
    "slice = str1[1:4]         # Slicing\n",
    "# Common String Methods\n",
    "text = \"  Hello, World  \"\n",
    "text.strip()      # Remove leading/trailing whitespace\n",
    "text.lower()      # Convert to lowercase\n",
    "text.upper()      # Convert to uppercase\n",
    "text.split(',')   # Split string into list\n",
    "text.replace('o', 'x')  # Replace characters\n",
    "text.find('o')    # Find first occurrence , returns index\n",
    "text.count('l')   # Count occurrences\n",
    "','.join(['a','b'])  # Join strings\n",
    "text.startswith('H')  # Check prefix\n",
    "text.endswith('d')   # Check suffix\n",
    "#case conversion methods\n",
    "str3=\"Hello world\"\n",
    "str3.capitalize() #Converts the first character of a string to uppercase and the rest to lowercase.\n",
    "str3.title() #Converts the first letter of each word to uppercase.\n",
    "str3.swapcase() #Swaps uppercase to lowercase and lowercase to uppercase.\n",
    "#classification methods\n",
    "str4=\"python\"\n",
    "str4.isalpha() #Returns True if all characters in the string are alphabetic (A-Z, a-z) else False\n",
    "str5=\"12.34\"\n",
    "str5.isdecimal() #Returns True if the string contains only decimal digits (0-9) else False\n",
    "str4.islower() #Returns True if all characters in the string are lowercase else False\n",
    "str4.isupper() #Returns True if all characters in the string are uppercase else False\n",
    "str4.isalnum() # Returns True if the string contains only letters and numbers (A-Z, a-z, 0-9) else False\n",
    "#other methods\n",
    "str6 = \"Python is fun, Python is powerful\"\n",
    "str6.index(\"fun\") #Finds the first occurrence of a substring and returns its index Raises ValueError if the substring is not found.\n",
    "str6.rindex(\"is\") #Finds the last occurrence of a substring and returns its index Raises ValueError if the substring is not found\n",
    "str6.rfind(\"Java\") #Similar to rindex(), but returns -1 if the substring is not found (instead of raising an error).\n",
    "\n",
    "ch='x'\n",
    "ord(ch) #gives unicode value of the character\n",
    "chr(74) #gives the character with unicode value\n"
   ]
  },
  {
   "cell_type": "code",
   "execution_count": null,
   "metadata": {},
   "outputs": [],
   "source": [
    "str1=\"4478\"\n",
    "print(str1.isdigit()) #Returns True if all the characters are digits.Otherwise False.\n",
    "print(str1.isalpha()) #Returns True if all characters are alphabets.\n",
    "print(str1.isdecimal()) #Returns True if all the characters are decimals.\n",
    "print(str1.islower())  #Returns True if all the characters are in lowercase\n",
    "print(str1.isupper()) #Returns True if all the characters are in uppercase\n",
    "print(str1.isalnum()) #Returns True if the string is alphanumeric\n",
    "\n",
    "#Case conversion methods\n",
    "\n",
    "str2=\"python\"\n",
    "print(str2.capitalize()) #Converts first letter to uppercase and others to lowercase\n",
    "str3=\"the title\"\n",
    "print(str3.title())  #converts first letter of every word in a sentence to uppercase\n",
    "print(str3.swapcase()) #converts lower to upper and vice versa\n",
    "print(str3.rindex(\"t\")) #returns index at the last occurence of specified string"
   ]
  },
  {
   "cell_type": "code",
   "execution_count": 4,
   "metadata": {},
   "outputs": [
    {
     "name": "stdout",
     "output_type": "stream",
     "text": [
      "hello world \n"
     ]
    }
   ],
   "source": [
    "text  = 'hello world '\n",
    "print(text)"
   ]
  },
  {
   "cell_type": "markdown",
   "metadata": {},
   "source": [
    "## List "
   ]
  },
  {
   "cell_type": "markdown",
   "metadata": {},
   "source": [
    "A list is an ordered, mutable collection of items.\n",
    "\n",
    "You can add, remove, or modify elements! "
   ]
  },
  {
   "cell_type": "code",
   "execution_count": 1,
   "metadata": {},
   "outputs": [],
   "source": [
    "#list:A list in Python is an ordered, mutable (modifiable) collection that can hold elements of different types\n",
    "\n",
    "#Python lists are versatile, mutable, and support powerful operations.\n",
    "\n",
    "# Mastering them will make your coding efficient and flexible"
   ]
  },
  {
   "cell_type": "code",
   "execution_count": 2,
   "metadata": {},
   "outputs": [
    {
     "name": "stdout",
     "output_type": "stream",
     "text": [
      "[1, 2, 3, 4, 5]\n"
     ]
    }
   ],
   "source": [
    "# creating of list\n",
    "# Empty list\n",
    "my_list = []\n",
    "\n",
    "# List with elements\n",
    "numbers = [1, 2, 3, 4, 5]\n",
    "mixed_list = [10, \"Hello\", 3.14, True]\n",
    "nested_list = [[1, 2], [3, 4], [5, 6]]\n",
    "\n",
    "print(numbers)  # Output: [1, 2, 3, 4, 5]\n",
    "\n",
    "# Accessing Elements\n",
    "numbers = [10, 20, 30, 40, 50]\n",
    "\n",
    "print(numbers[0])   # First element: 10\n",
    "print(numbers[-1])  # Last element: 50"
   ]
  },
  {
   "cell_type": "code",
   "execution_count": 124,
   "metadata": {},
   "outputs": [
    {
     "name": "stdout",
     "output_type": "stream",
     "text": [
      "[1, 2, 4]\n",
      "[1, 2]\n"
     ]
    }
   ],
   "source": [
    "#slicing\n",
    "print(numbers[1:4])   # Elements from index 1 to 3 -> [20, 30, 40]\n",
    "print(numbers[:3])    # First 3 elements -> [10, 20, 30]\n",
    "print(numbers[::2])   # Every second element -> [10, 30, 50]\n",
    "print(numbers[::-1])  # Reverse list -> [50, 40, 30, 20, 10]\n",
    "# Modifying of list\n",
    "numbers[1] = 25\n",
    "print(numbers)  # [10, 25, 30, 40, 50]"
   ]
  },
  {
   "cell_type": "code",
   "execution_count": null,
   "metadata": {},
   "outputs": [],
   "source": [
    "# Adding elements\n",
    "\n",
    "\n",
    "# Append (add to end)\n",
    "numbers.append(60)\n",
    "\n",
    "# Insert at a specific position\n",
    "numbers.insert(2, 99)\n",
    "\n",
    "# Extend (merge lists)\n",
    "numbers.extend([70, 80])\n",
    "\n",
    "print(numbers)  # [10, 25, 99, 30, 40, 50, 60, 70, 80]\n",
    "\n"
   ]
  },
  {
   "cell_type": "code",
   "execution_count": null,
   "metadata": {},
   "outputs": [],
   "source": [
    "#removing of elements\n",
    "\n",
    "\n",
    "# Remove specific value\n",
    "numbers.remove(99)\n",
    "\n",
    "# Pop (remove by index, default last)\n",
    "numbers.pop()\n",
    "\n",
    "# Delete by index\n",
    "del numbers[2]\n",
    "\n",
    "# Clear all elements\n",
    "numbers.clear()\n",
    "\n",
    "print(numbers)  # []"
   ]
  },
  {
   "cell_type": "code",
   "execution_count": null,
   "metadata": {},
   "outputs": [],
   "source": [
    "#List Operations\n",
    "\n",
    "#Concatenation and Repetition\n",
    "\n",
    "list1 = [1, 2, 3]\n",
    "list2 = [4, 5, 6]\n",
    "\n",
    "# Concatenate\n",
    "print(list1 + list2)  # [1, 2, 3, 4, 5, 6]\n",
    "\n",
    "# Repeat\n",
    "print(list1 * 3)  # [1, 2, 3, 1, 2, 3, 1, 2, 3]\n",
    "\n",
    "#Checking Membership\n",
    "\n",
    "print(3 in list1)   # True\n",
    "print(10 not in list1)  # True\n",
    "\n",
    "# Counting Occurrences\n",
    "\n",
    "numbers = [1, 2, 3, 4, 2, 2, 5, 6]\n",
    "print(numbers.count(2))  # Output: 3\n",
    "\n",
    "# Finding Index of an Element\n",
    "\n",
    "print(numbers.index(2))  # Output: 1 (first occurrence of 2)\n",
    "\n",
    "print(numbers.index(2, 2))  # Start searching from index 2\n"
   ]
  },
  {
   "cell_type": "code",
   "execution_count": null,
   "metadata": {},
   "outputs": [],
   "source": [
    "#Built-in List Methods\n",
    "\n",
    "numbers = [3, 1, 4, 1, 5, 9]\n",
    "\n",
    "print(len(numbers))  # Length of list: 6\n",
    "print(max(numbers))  # Maximum: 9\n",
    "print(min(numbers))  # Minimum: 1\n",
    "print(sum(numbers))  # Sum: 23"
   ]
  },
  {
   "cell_type": "code",
   "execution_count": null,
   "metadata": {},
   "outputs": [],
   "source": [
    "#Sorting and Reversing\n",
    "\n",
    "numbers.sort()   # Ascending\n",
    "numbers.sort(reverse=True)  # Descending\n",
    "numbers.reverse()  # Reverse order\n",
    "print(numbers)\n",
    "# Creating a list of gift shop items\n",
    "gift_items = [\"Teddy Bear\", \"Mug\", \"Greeting Card\", \"Perfume\"]"
   ]
  },
  {
   "cell_type": "markdown",
   "metadata": {},
   "source": [
    "## sample example"
   ]
  },
  {
   "cell_type": "code",
   "execution_count": null,
   "metadata": {},
   "outputs": [],
   "source": [
    "# Modifying an item in the list\n",
    "gift_items[2] = \"Handmade Greeting Card\"  # Changing \"Greeting Card\" to \"Handmade Greeting Card\"\n",
    "\n",
    "# Adding a new item to the list\n",
    "gift_items.append(\"Photo Frame\")\n",
    "\n",
    "# Removing an item from the list\n",
    "gift_items.remove(\"Mug\")\n",
    "\n",
    "# Printing the modified list\n",
    "print(\"Updated Gift Shop List:\", gift_items)"
   ]
  },
  {
   "cell_type": "markdown",
   "metadata": {},
   "source": [
    " ## practice questions"
   ]
  },
  {
   "cell_type": "code",
   "execution_count": null,
   "metadata": {},
   "outputs": [],
   "source": [
    "#practice questions on list\n",
    "#1.Given a list nums = [5, 10, 15, 20, 25], print the second and second-to-last elements.\n",
    "\n",
    "#2.Write a function to find and return the maximum and minimum elements in a list.\n",
    "\n",
    "#3.Remove all occurrences of 3 from the list [1, 3, 3, 4, 5, 3, 6, 7] without using a loop.\n",
    "\n",
    "#4.Merge two lists [1, 2, 3] and [4, 5, 6] into a single sorted list.\n",
    "\n",
    "#5.Find and return the sum of all even numbers in the list [12, 15, 18, 21, 24, 27].\n",
    "\n",
    "#6.Given a list ['apple', 'banana', 'cherry', 'apple', 'banana', 'apple'], find the most frequently occurring element.\n",
    "\n",
    "#7.Rotate the list [10, 20, 30, 40, 50] to the left by 2 positions.\n",
    "\n",
    "#8.Write a function that removes duplicate elements from a list while preserving the original order.\n",
    "\n",
    "#9.Find all pairs in the list [1, 2, 3, 4, 5, 6] that sum up to 7.\n",
    "\n",
    "#10.Given a 2D list [[1, 2, 3], [4, 5, 6], [7, 8, 9]], write a function to transpose it (swap rows and columns).\n"
   ]
  },
  {
   "cell_type": "markdown",
   "metadata": {},
   "source": [
    "### Tuple "
   ]
  },
  {
   "cell_type": "markdown",
   "metadata": {},
   "source": [
    "A tuple is an ordered, immutable collection of items.\n",
    "\n",
    "Faster than lists but can't be modified! "
   ]
  },
  {
   "cell_type": "code",
   "execution_count": null,
   "metadata": {},
   "outputs": [
    {
     "name": "stdout",
     "output_type": "stream",
     "text": [
      "(1, 2, 3, 4, 5)\n",
      "(1, 2, 3, 1, 2, 3)\n",
      "True\n"
     ]
    }
   ],
   "source": [
    "tup = (1, 2, 3)\n",
    "tup_1=(1,) #To create a tuple with single element\n",
    "\n",
    "# Information Methods (Limited due to immutability)\n",
    "tup.count(2)      # Count occurrences\n",
    "tup.index(2)      # Find index\n",
    "\n",
    "# Operations\n",
    "len(tup)          # Length\n",
    "print(tup + (4,5))       # Concatenation\n",
    "print(tup * 2)           # Repetition\n",
    "print(2 in tup)          # Membership testing"
   ]
  },
  {
   "cell_type": "markdown",
   "metadata": {},
   "source": [
    "### set"
   ]
  },
  {
   "cell_type": "code",
   "execution_count": 135,
   "metadata": {},
   "outputs": [
    {
     "name": "stdout",
     "output_type": "stream",
     "text": [
      "{1, 2, 3}\n",
      "<class 'set'>\n",
      "<class 'set'>\n",
      "<class 'set'>\n",
      "<class 'set'>\n"
     ]
    },
    {
     "data": {
      "text/plain": [
       "False"
      ]
     },
     "execution_count": 135,
     "metadata": {},
     "output_type": "execute_result"
    }
   ],
   "source": [
    "s = {1, 2, 3}\n",
    "print(s)\n",
    "print(type(s))\n",
    "ss = {}\n",
    "ss = set()\n",
    "print(type(ss))\n",
    "print(type(ss))\n",
    "# Modification Methods\n",
    "s.add(4)          # Add element\n",
    "s.remove(1)       # Remove element (raises error if not found)\n",
    "s.discard(1)      # Remove element (no error if not found)\n",
    "s.pop()           # Remove and return arbitrary element\n",
    "s.clear()         # Remove all elements\n",
    "\n",
    "# Set Operations\n",
    "s1 = {1, 2, 3}\n",
    "print(type(s1))\n",
    "s2 = {3, 4, 5}\n",
    "s1.union(s2)      # Union\n",
    "s1.intersection(s2)  # Intersection\n",
    "s1.difference(s2)    # Difference\n",
    "s1.symmetric_difference(s2)  # Symmetric difference \n",
    "s1.issubset(s2)      # Check if subset\n",
    "s1.issuperset(s2)    # Check if superset\n",
    "\n",
    "# Operations\n",
    "len(s)            # Length\n",
    "2 in s            # Membership testing"
   ]
  },
  {
   "cell_type": "code",
   "execution_count": 155,
   "metadata": {},
   "outputs": [
    {
     "data": {
      "text/plain": [
       "1"
      ]
     },
     "execution_count": 155,
     "metadata": {},
     "output_type": "execute_result"
    }
   ],
   "source": [
    "my_set = {1, 2, 3, 4, 5}\n",
    "my_set.pop()"
   ]
  },
  {
   "cell_type": "code",
   "execution_count": 160,
   "metadata": {},
   "outputs": [
    {
     "name": "stdout",
     "output_type": "stream",
     "text": [
      "{6}\n",
      "{6, 7}\n"
     ]
    }
   ],
   "source": [
    "my_set.pop()\n",
    "my_set.add(6)\n",
    "print(my_set) \n",
    "my_set.add(7)\n",
    "print(my_set)"
   ]
  },
  {
   "cell_type": "code",
   "execution_count": 166,
   "metadata": {},
   "outputs": [
    {
     "name": "stdout",
     "output_type": "stream",
     "text": [
      "{0, 2, 5, 6, 7, 8, 'basara', 'Basara'}\n"
     ]
    }
   ],
   "source": [
    "\n",
    "my_set.update({2, 0, 5, 8, 'basara',\"Basara\"})\n",
    "print(my_set)"
   ]
  },
  {
   "cell_type": "code",
   "execution_count": null,
   "metadata": {},
   "outputs": [],
   "source": []
  },
  {
   "cell_type": "code",
   "execution_count": 153,
   "metadata": {},
   "outputs": [
    {
     "data": {
      "text/plain": [
       "3"
      ]
     },
     "execution_count": 153,
     "metadata": {},
     "output_type": "execute_result"
    }
   ],
   "source": [
    "my_set.pop()"
   ]
  },
  {
   "cell_type": "markdown",
   "metadata": {},
   "source": [
    "### Dictionary "
   ]
  },
  {
   "cell_type": "markdown",
   "metadata": {},
   "source": [
    "A dictionary stores key-value pairs – like a phonebook! 📞\n",
    "\n",
    "Keys must be unique 🗝️\n",
    "\n",
    "Mutable (you can add/remove values) ✅"
   ]
  },
  {
   "cell_type": "code",
   "execution_count": 79,
   "metadata": {},
   "outputs": [
    {
     "name": "stdout",
     "output_type": "stream",
     "text": [
      "{}\n",
      "{'a': 1, 'b': 2, 'd': 1, 'm': 10}\n"
     ]
    }
   ],
   "source": [
    "d = {'a': 1, 'b': 2}\n",
    "\n",
    "# Modification Methods\n",
    "d['c'] = 3        # Add/update key-value\n",
    "d.update({'d': 4})  # Add/update multiple\n",
    "d.pop('a')        # Remove and return value\n",
    "d.popitem()       # Remove and return last item\n",
    "d.clear()         # Remove all items\n",
    "\n",
    "# Access Methods\n",
    "d.get('a')        # Get value (with optional default)\n",
    "d.keys()          # Get all keys\n",
    "d.values()        # Get all values\n",
    "d.items()         # Get all key-value pairs\n",
    "d.setdefault('a', 1)  # Get value, set if missing\n",
    "\n",
    "# Operations\n",
    "len(d)            # Length\n",
    "'a' in d          # Key membership testing\n",
    "del d['a']        # Delete key-value pair\n",
    "\n",
    "print(d)\n",
    "d = {'a': 1, 'b': 2}\n",
    "d.setdefault('d', 1)\n",
    "d.setdefault('m', 10)\n",
    "print(d)"
   ]
  },
  {
   "cell_type": "code",
   "execution_count": 136,
   "metadata": {},
   "outputs": [
    {
     "name": "stdout",
     "output_type": "stream",
     "text": [
      "{'name ': 'John', 'age': 30, 'department': 'HR', 'salary': 50000, 'location': 'New York', 'email': 'john@example.com'}\n"
     ]
    }
   ],
   "source": [
    "employee = {\"name \" : \"John\", \"age\": 30, \"department\": \"HR\", 'salary': 50000, 'location': 'New York', 'email': 'john@example.com'}\n",
    "print(employee)"
   ]
  },
  {
   "cell_type": "code",
   "execution_count": 137,
   "metadata": {},
   "outputs": [
    {
     "data": {
      "text/plain": [
       "dict_keys(['name ', 'age', 'department', 'salary', 'location', 'email'])"
      ]
     },
     "execution_count": 137,
     "metadata": {},
     "output_type": "execute_result"
    }
   ],
   "source": [
    "employee.keys()"
   ]
  },
  {
   "cell_type": "code",
   "execution_count": 138,
   "metadata": {},
   "outputs": [
    {
     "data": {
      "text/plain": [
       "dict_values(['John', 30, 'HR', 50000, 'New York', 'john@example.com'])"
      ]
     },
     "execution_count": 138,
     "metadata": {},
     "output_type": "execute_result"
    }
   ],
   "source": [
    "employee.values()"
   ]
  },
  {
   "cell_type": "code",
   "execution_count": 140,
   "metadata": {},
   "outputs": [
    {
     "data": {
      "text/plain": [
       "dict_keys(['name ', 'age', 'department', 'salary', 'location', 'email'])"
      ]
     },
     "execution_count": 140,
     "metadata": {},
     "output_type": "execute_result"
    }
   ],
   "source": [
    "employee.keys()"
   ]
  },
  {
   "cell_type": "code",
   "execution_count": 147,
   "metadata": {},
   "outputs": [
    {
     "data": {
      "text/plain": [
       "True"
      ]
     },
     "execution_count": 147,
     "metadata": {},
     "output_type": "execute_result"
    }
   ],
   "source": [
    "employee.setdefault('is_alive' ,True)"
   ]
  },
  {
   "cell_type": "code",
   "execution_count": 150,
   "metadata": {},
   "outputs": [
    {
     "data": {
      "text/plain": [
       "'next year kontadu'"
      ]
     },
     "execution_count": 150,
     "metadata": {},
     "output_type": "execute_result"
    }
   ],
   "source": [
    "employee.get('car', 'next year kontadu')"
   ]
  },
  {
   "cell_type": "code",
   "execution_count": null,
   "metadata": {},
   "outputs": [],
   "source": []
  },
  {
   "cell_type": "code",
   "execution_count": 146,
   "metadata": {},
   "outputs": [
    {
     "data": {
      "text/plain": [
       "dict_values(['John', 30, 'HR', 50000, 'New York', 'john@example.com'])"
      ]
     },
     "execution_count": 146,
     "metadata": {},
     "output_type": "execute_result"
    }
   ],
   "source": [
    "employee.get('cat',)"
   ]
  },
  {
   "cell_type": "code",
   "execution_count": 91,
   "metadata": {},
   "outputs": [
    {
     "name": "stdout",
     "output_type": "stream",
     "text": [
      "[('a', 1), ('b', 2), ('c', 3)]\n"
     ]
    }
   ],
   "source": [
    "my_dict = {\"a\": 1, \"c\": 3, \"b\": 2} \n",
    "dict_sorted = sorted(my_dict.items())\n",
    "print(dict_sorted)\n"
   ]
  },
  {
   "cell_type": "code",
   "execution_count": 92,
   "metadata": {},
   "outputs": [
    {
     "name": "stdout",
     "output_type": "stream",
     "text": [
      "None\n",
      "[1, 2, 3, 4, 5]\n",
      "[1, 2, 3, 4, 5]\n",
      "['a', 'b', 'c']\n",
      "['e', 'h', 'l', 'l', 'o']\n"
     ]
    }
   ],
   "source": [
    "# sort and sorted \n",
    "my_list = [1, 2, 3, 4, 5]\n",
    "print(my_list.sort()) # sort doesn't return anything , just modifies the list, memory efficient ( large ), works on only lists\n",
    "\n",
    "# sorted creates a new sorted list , doesn't modify the original list\n",
    "my_tuple = (1, 2, 3, 4, 5)\n",
    "print(sorted(my_tuple))\n",
    " # sorted returns a new sorted list ,\n",
    " # doesn't modify the tuple , \n",
    " # sorted alwyas returns a list\n",
    " # it works on all iterables and returns a list\n",
    "my_set = {1, 2, 3, 4, 5}\n",
    "print(sorted(my_set))\n",
    "\n",
    "my_dict = {'a': 1, 'b': 2, 'c': 3}\n",
    "print(sorted(my_dict))\n",
    "\n",
    "my_string = \"hello\"\n",
    "print(sorted(my_string))\n"
   ]
  },
  {
   "cell_type": "code",
   "execution_count": 175,
   "metadata": {},
   "outputs": [
    {
     "name": "stdout",
     "output_type": "stream",
     "text": [
      "['batman', 'ironman', 'spiderman', 'superman', 'thor']\n"
     ]
    }
   ],
   "source": [
    "movies = ('spiderman', 'batman', 'superman', 'ironman', 'thor')\n",
    "# print(movies.sort())\n",
    "print(sorted(movies))\n",
    "\n",
    "\n",
    "\n"
   ]
  },
  {
   "cell_type": "markdown",
   "metadata": {},
   "source": [
    "### 🚀 LevelUp : Dive Into the Challenge!"
   ]
  },
  {
   "cell_type": "code",
   "execution_count": null,
   "metadata": {},
   "outputs": [],
   "source": [
    "# stings practice questions  \n",
    "# Q1: Write a program to reverse a string without using the reverse function\n",
    "input_str = \"Python Programming\"\n",
    "\n",
    "# Q2: Given a string, count the number of vowels and consonants\n",
    "text = \"Hello World\"\n",
    "\n",
    "# Q3: Write a program to check if two strings are anagrams\n",
    "str1 = \"listen\"\n",
    "str2 = \"silent\"\n",
    "\n",
    "# list practice questions \n",
    "# Q1: Remove duplicates from a list while preserving order\n",
    "numbers = [1, 3, 3, 3, 6, 2, 3, 5]\n",
    "\n",
    "# Q2: Find the secnd largest number in a list withut using sort()\n",
    "nums = [10, 5, 8, 12, 3, 7, 5]\n",
    "\n",
    "# Q3: Rotate a list by k positions\n",
    "arr = [1, 2, 3, 4, 5]\n",
    "k = 2  # Output should be [4, 5, 1, 2, 3] \n",
    "\n",
    "# Tuple practice questions \n",
    "# Q1: Convert a list of tuples into a dictionary\n",
    "pairs = [(\"a\", 1), (\"b\", 2), (\"c\", 3)]\n",
    "\n",
    "# Q2: Find all pairs in a tuple list where sum is k\n",
    "tuple_list = [(1,2), (3,4), (5,6), (7,8)]\n",
    "k = 7\n",
    "\n",
    "# Q3: Swap elements in tuple of tuples\n",
    "tuple_of_tuples = ((1,2), (3,4), (5,6))\n",
    "\n",
    "# set practice questions \n",
    "# Q1: Find common elements between multiple lists using sets\n",
    "list1 = [1, 2, 3, 4, 5]\n",
    "list2 = [4, 5, 6, 7, 8]\n",
    "list3 = [5, 6, 7, 8, 9]\n",
    "\n",
    "# Q2: Remove all vowels from a sting using sets\n",
    "text = \"Hello World\"\n",
    "\n",
    "# Q3: Find symmetric difference between two lists\n",
    "list1 = [1, 2, 3, 4, 5]\n",
    "list2 = [4, 5, 6, 7, 8] \n",
    "\n",
    "# dictionary practice questions \n",
    "# Q1: Group items by their first letter\n",
    "words = ['apple', 'ant', 'banana', 'bat', 'cat']\n",
    "\n",
    "# Q2: Merge two dictionaries with summing common values\n",
    "dict1 = {'a': 1, 'b': 2, 'c': 3}\n",
    "dict2 = {'b': 3, 'c': 4, 'd': 5}\n",
    "\n",
    "# Q3: Fid the most frequent character in a string using dictionary\n",
    "text = \"programming\""
   ]
  },
  {
   "cell_type": "markdown",
   "metadata": {},
   "source": [
    "### Loop Control Statements "
   ]
  },
  {
   "cell_type": "code",
   "execution_count": null,
   "metadata": {},
   "outputs": [],
   "source": [
    "# Break - Exit the loop entirely\n",
    "for i in range(5):\n",
    "    if i == 3:\n",
    "        break    # Exit when i equals 3\n",
    "\n",
    "# Continue - Skip to next iteration\n",
    "for i in range(5):\n",
    "    if i == 3:\n",
    "        continue # Skip when i equals 3\n",
    "\n",
    "# Pass - Do nothing (placeholder)\n",
    "for i in range(5):\n",
    "    if i == 3:\n",
    "        pass    # Placeholder for future code "
   ]
  },
  {
   "cell_type": "code",
   "execution_count": 109,
   "metadata": {},
   "outputs": [
    {
     "name": "stdout",
     "output_type": "stream",
     "text": [
      "X: 1, Y: 2\n",
      "X: 3, Y: 4\n"
     ]
    }
   ],
   "source": [
    "points = [(1, 2), (3, 4)] # thinks like this are cooordinates "
   ]
  },
  {
   "cell_type": "markdown",
   "metadata": {},
   "source": [
    "### Zip "
   ]
  },
  {
   "cell_type": "code",
   "execution_count": null,
   "metadata": {},
   "outputs": [],
   "source": [
    "# Zip multiple iterables\n",
    "names = ['Alice', 'Bob']\n",
    "ages = [25, 30]\n",
    "for name, age in zip(names, ages):\n",
    "    print(f\"{name} is {age} years old\")\n",
    "\n",
    "# Filter with list comprehension\n",
    "numbers = [1, 2, 3, 4, 5]\n",
    "evens = [x for x in numbers if x % 2 == 0]\n",
    "\n",
    "# Nested comprehensions\n",
    "matrix = [[i+j for j in range(3)] for i in range(3)]\n",
    "\n",
    "# Multiple conditions\n",
    "for num in numbers:\n",
    "    if num > 0:\n",
    "        if num % 2 == 0:\n",
    "            print(f\"{num} is positive and even\")\n",
    "        else:\n",
    "            print(f\"{num} is positive and odd\")"
   ]
  },
  {
   "cell_type": "code",
   "execution_count": 93,
   "metadata": {},
   "outputs": [
    {
     "name": "stdout",
     "output_type": "stream",
     "text": [
      "Rahuyl  is cool and hfiie\n",
      "Dfalkahuyl  is cool and hfiie\n",
      "Dhlakdfjdfd df df\n"
     ]
    }
   ],
   "source": [
    "sentence =  [\"rahuyl  is cool and hfiie\" , \"dfalkahuyl  is cool and hfiie\" , 'dhlakdfjdfd df df'] \n",
    "for i in sentence:\n",
    "    def title_case(line=i):\n",
    "        return line[0].title() + line[1:]\n",
    "    print(title_case(i))"
   ]
  },
  {
   "cell_type": "code",
   "execution_count": 94,
   "metadata": {},
   "outputs": [
    {
     "data": {
      "text/plain": [
       "'Rahuyl  Is Cool And Hfiie'"
      ]
     },
     "execution_count": 94,
     "metadata": {},
     "output_type": "execute_result"
    }
   ],
   "source": [
    "sete = \"rahuyl  is cool and hfiie\" \n",
    "sete.title()"
   ]
  },
  {
   "cell_type": "markdown",
   "metadata": {},
   "source": [
    "UNEXPECTED FOR BEGINNERS :)"
   ]
  },
  {
   "cell_type": "markdown",
   "metadata": {},
   "source": [
    "Tuple or Not Tuple? That Is the Question 🤔"
   ]
  },
  {
   "cell_type": "code",
   "execution_count": null,
   "metadata": {},
   "outputs": [],
   "source": [
    "a = (1)   # Not a tuple!\n",
    "b = (1,)  # A tuple!\n",
    "print(type(a), type(b))  "
   ]
  },
  {
   "cell_type": "markdown",
   "metadata": {},
   "source": [
    "Floating-Point Math is Weird!"
   ]
  },
  {
   "cell_type": "code",
   "execution_count": null,
   "metadata": {},
   "outputs": [],
   "source": [
    "print(0.1 + 0.2 == 0.3)  # Output: False (Wait, what?!)\n",
    "\n",
    "\n",
    "#(This is due to floating-point precision issues!)"
   ]
  },
  {
   "cell_type": "markdown",
   "metadata": {},
   "source": [
    "for Loop That Runs Only Once 😂"
   ]
  },
  {
   "cell_type": "code",
   "execution_count": null,
   "metadata": {},
   "outputs": [],
   "source": [
    "for _ in [0]:\n",
    "    print(\"This loop runs once and never again!\")"
   ]
  },
  {
   "cell_type": "markdown",
   "metadata": {},
   "source": [
    "This Condition is a Liar!"
   ]
  },
  {
   "cell_type": "code",
   "execution_count": null,
   "metadata": {},
   "outputs": [],
   "source": [
    "if \"False\":\n",
    "    print(\"Strings are always True, even 'False'!\")  # 😂"
   ]
  },
  {
   "cell_type": "markdown",
   "metadata": {},
   "source": [
    "Looping Backward Without reversed()"
   ]
  },
  {
   "cell_type": "code",
   "execution_count": null,
   "metadata": {},
   "outputs": [],
   "source": [
    "for i in range(10, 0, -1):\n",
    "    print(i)"
   ]
  },
  {
   "cell_type": "markdown",
   "metadata": {},
   "source": [
    "else in for Loop?"
   ]
  },
  {
   "cell_type": "code",
   "execution_count": null,
   "metadata": {},
   "outputs": [],
   "source": [
    "for i in range(3):\n",
    "    print(i)\n",
    "else:\n",
    "    print(\"Loop finished without break!\")  # Only runs if no break!\n"
   ]
  },
  {
   "cell_type": "markdown",
   "metadata": {},
   "source": []
  }
 ],
 "metadata": {
  "kernelspec": {
   "display_name": "Python 3 (ipykernel)",
   "language": "python",
   "name": "python3"
  },
  "language_info": {
   "codemirror_mode": {
    "name": "ipython",
    "version": 3
   },
   "file_extension": ".py",
   "mimetype": "text/x-python",
   "name": "python",
   "nbconvert_exporter": "python",
   "pygments_lexer": "ipython3",

  }
 },
 "nbformat": 4,
 "nbformat_minor": 2
}
