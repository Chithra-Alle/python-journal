a=input()#by default takes input as string
b=int(input()) #takes input as int type
c,d=map(int,input().split(" ")) #space separated input