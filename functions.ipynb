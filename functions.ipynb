{
  "metadata": {
    "kernelspec": {
      "name": "python",
      "display_name": "Python (Pyodide)",
      "language": "python"
    },
    "language_info": {
      "codemirror_mode": {
        "name": "ipython",
        "version": 3
      },
      "file_extension": ".py",
      "mimetype": "text/x-python",
      "name": "python",
      "nbconvert_exporter": "python",
      "pygments_lexer": "ipython3",
      "version": "3.9.12"
    },
    "colab": {
      "provenance": []
    }
  },
  "nbformat_minor": 4,
  "nbformat": 4,
  "cells": [
    {
      "cell_type": "markdown",
      "source": "# Functions",
      "metadata": {
        "id": "UonQdJvIRdjB"
      }
    },
    {
      "cell_type": "markdown",
      "source": "why do we need functions ?",
      "metadata": {
        "id": "ElXeZKXBuHOc"
      }
    },
    {
      "cell_type": "code",
      "source": "#WHAT IS FUNCTION ?\n#In Python,a function is a block of reusable code that performs a specific task.\n#Functions help in organizing code, improving readability, and avoiding repetition.\n\n#DEFINING FUNCTION IN PYTHON\n\n#A function in Python is defined using the def keyword,followed by the function name and parentheses ().\n#Syntax:-\ndef function_name(parameters):  \n    # Function body (code to execute)\n    return value \n\n#Suppose if we consider one task i.e.,to calculate the area of a rectangle\n#In general,we do the following:-\n# Calculate area for first rectangle\nwidth1 = 5\nheight1 = 10\narea1 = width1 * height1\nprint(\"Area of Rectangle 1:\", area1)\n\n# Calculate area for second rectangle\nwidth2 = 7\nheight2 = 4\narea2 = width2 * height2\nprint(\"Area of Rectangle 2:\", area2)\n\n# Calculate area for third rectangle\nwidth3 = 6\nheight3 = 8\narea3 = width3 * height3\nprint(\"Area of Rectangle 3:\", area3)\n\n# imagine if we want to calculate the same for 100 rectangles,\n# it will becomes repititive,\n# change the values everywhere becomes complex,\n# huge duplication occurs.",
      "metadata": {
        "colab": {
          "base_uri": "https://localhost:8080/"
        },
        "id": "rvynrUpuuKOM",
        "outputId": "1edc1ca2-adc7-4459-a211-440206e18630"
      },
      "outputs": [
        {
          "name": "stdout",
          "output_type": "stream",
          "text": "Area of Rectangle 1: 50\n,Area of Rectangle 2: 28\n,Area of Rectangle 3: 48\n"
        }
      ],
      "execution_count": null
    },
    {
      "cell_type": "code",
      "source": "# how to fix this then ?\ndef calculate_area(width, height):  # Function definition\n    return width * height  # Reusable logic\n\n# Calling the function for different inputs\nprint(\"Area of Rectangle 1:\", calculate_area(5, 10)) #50\nprint(\"Area of Rectangle 2:\", calculate_area(7, 4))  #28\nprint(\"Area of Rectangle 3:\", calculate_area(6, 8))  #48\n# seems more readable\n# no redundancy in code and \n# easy to change as we have to change only the arguments",
      "metadata": {
        "id": "5kwL0vLQu4Ag"
      },
      "outputs": [
        {
          "name": "stdout",
          "output_type": "stream",
          "text": "Area of Rectangle 1: 50\n,Area of Rectangle 2: 28\n,Area of Rectangle 3: 48\n"
        }
      ],
      "execution_count": 1
    },
    {
      "cell_type": "code",
      "source": "# TYPES OF FUNCTIONS IN PYTHON\n# Python has different types of functions, categorized based on their behavior and usage.\n\n# 1.Built-in Functions\n# These are pre-defined functions in Python that can be used directly.\n\n# Type Conversion-->(int(), float(), str(), bool(), etc.)\n\n# Math Functions (abs(), pow(), max(), min(), sum())\n\n# String Functions-->(len(), ord(), chr())\n\n# Input/Output-->(print(), input())\n\n# Collection Functions-->(sorted(), reversed(), enumerate())\n\n# File Handling-->(open(), read(), write(), close())\n\n# Functional Programming-->(map(), filter(), zip())\n\n\n# i).TYPE CONVERSION FUNCTIONS \n# These functions convert data from one type to another.\n\n# print(int(3.9)) # 3\n\n# print(float(\"5.5\")) # 5.5\n\n# print(str(100)) # '100'\n\n# print(bool(0)) #False\n\n# print(list(\"abc\")) # ['a', 'b', 'c']\n\n# print(tuple([1, 2, 3])) #(1, 2, 3)\n\n# print(set([1, 2, 2, 3])) # {1, 2, 3}\n\n# print(dict(name=\"Alice\", age=25)) #{'name': 'Alice', 'age': 25}\n\n# ii).MATH FUNCTIONS\n# Python has built-in functions to perform mathematical operations.\n\n# print(abs(-5)) #5\n\n# print(pow(2, 3)) #8\n\n# print(round(3.14159, 2)) #3.14\n\n# max(x, y, ...)\tReturns the maximum value\t\n# print(max(3, 7, 2)) # 7\n\n# min(x, y, ...)\tReturns the minimum value\t\n# print(min(3, 7, 2)) #2\n\n# sum(iterable)\tReturns sum of all elements\n# print(sum([1, 2, 3])) #6\n\n# iii).String Functions\n# These functions help in manipulating strings.\n\n# len(x)\tReturns length of string/list\t\n# print(len(\"hello\")) # 5\n\n# ord(c)\tReturns ASCII value of character\n# print(ord('A')) # 65\n\n# chr(n)\tReturns character from ASCII value\t\n# print(chr(65) # 'A'\n\n# iv).Input & Output Functions\n# These functions handle user input and output.\n\n# print(x, ...)\tPrints values\t\n# print(\"Hello\") → Hello\n\n# input(x)\tTakes user input\t\n# name = input(\"Enter name: \")\n\n\n# v).List & Collection Functions\n# These functions help in working with lists, tuples, and dictionaries.\n\n# len(x)\tReturns length of list or tuple\t\n# print(len([1, 2, 3])) #3\n\n# sorted(x) Returns sorted list\t\n# print(sorted([3, 1, 2])) #[1, 2, 3]\n\n# reversed(x) Returns reversed iterator\t\n# print(list(reversed([1, 2, 3]))) #[3, 2, 1]\n\n# enumerate(x) Returns index-value pairs\t\n# print(list(enumerate(['a', 'b']))) #[(0, 'a'), (1, 'b')]\n\n\n# vi).File Handling Functions\n# These functions help in reading/writing files.\n\n# open(filename, mode) Opens a file\t\n# print(open(\"file.txt\", \"r\"))\n\n# read()\tReads file content\t\n# file.read()\n\n# write(text) Writes text to file\n# file.write(\"Hello\")\n\n# close() Closes file\n# file.close()\n\n\n# vii).Functional Programming Functions\n# These functions are used for functional programming in Python\n\n# map(func, iterable) Applies function to elements\t\n# list(map(str.upper, [\"a\", \"b\"])) #['A', 'B']\n\n# filter(func, iterable)\tFilters elements based on condition\t\n# list(filter(lambda x: x > 2, [1, 2, 3, 4]))  #[3, 4]\n\n# zip(iter1, iter2)\tCombines two iterables\t\n# list(zip([1,2], ['a','b'])) #[(1, 'a'), (2, 'b')]\n\n\n\n# 2.User-defined Functions\n# Functions that users create using the def keyword.\n\n# Example\n# def greet(name):\n#     \"\"\"This function prints a greeting message.\"\"\"\n#     print(f\"Hello, {name}!\")\n\n# greet(\"Alice\")  # Output: Hello, Alice!\n\n\n\n# 3.Function with Parameters and Return Value\n# A function can accept parameters (inputs) and return a result using return.\n\n# Example\n# def add(a, b):\n#     return a + b\n\n# result = add(5, 3)\n# print(result)  #Output: 8\n\n\n\n# 4.Recursive Functions\n# A function that calls itself to solve a problem (used in factorial, Fibonacci, etc.).\n\n# Example:Factorial using Recursion\n# def factorial(n):\n#     if n == 0:\n#         return 1\n#     return n * factorial(n - 1)\n# print(factorial(5))  # Output: 120\n\n\n\n# 5.Lambda (Anonymous) Functions\n# A lambda function is a small, one-line function without a name.\n\n# Example:\n# square = lambda x: x * x\n# print(square(4))  # Output: 16\n\n\n\n# 6.Function with Default Arguments\n# A function with default values for parameters.\n\n# Example:\n# def power(base, exponent=2):\n#     return base ** exponent\n# print(power(3))     # Output: 9 (3²)\n# print(power(3, 3))  # Output: 27 (3³)\n\n\n\n# 7.Function with Variable Arguments (*args, **kwargs)\n# These functions allow passing multiple arguments dynamically.\n\n# i)Using *args (Multiple Positional Arguments)\n# def total_sum(*numbers):\n#     return sum(numbers)\n\n# print(total_sum(1, 2, 3, 4, 5))  # Output: 15\n\n\n\n# ii)Using **kwargs (Multiple Keyword Arguments)\n# def person_info(**details):\n#     for key, value in details.items():\n#         print(f\"{key}: {value}\")\n\n# person_info(name=\"Alice\", age=25, city=\"New York\")\n# Output:\n# name: Alice\n# age: 25\n# city: New York\n\n\n\n# 8.Nested Functions\n# A function inside another function.\n\n# Example:\n# def outer_function():\n#     def inner_function():\n#         print(\"Hello from Inner Function\")\n#     inner_function()\n\n# outer_function()\n# Output:\n# Hello from Inner Function\n\n\n\n# 9.Higher-Order Functions\n# Functions that take another function as an argument or return a function.\n\n# Example:Using map() (Built-in Higher-Order Function)\n# numbers = [1, 2, 3, 4]\n# squared = list(map(lambda x: x ** 2, numbers))\n# print(squared)  # Output: [1, 4, 9, 16]",
      "metadata": {},
      "outputs": [],
      "execution_count": null
    },
    {
      "cell_type": "markdown",
      "source": "#### Def function & Calling ",
      "metadata": {}
    },
    {
      "cell_type": "code",
      "source": "# Let us consider simple functions\ndef make_maggi():\n    print(\"Boil water 🫗\")\n    print(\"Add noodles 🍜\")\n    print(\"Wait for 2 minutes (which is always 10) ⏳\")\n    print(\"Eat and regret 🍽️\") \n\n# Calling the function\nmake_maggi()\n#ouput\n#Boil water 🫗\n#Add noodles 🍜\n#Wait for 2 minutes (which is always 10) ⏳\n#Eat and regret 🍽️",
      "metadata": {
        "id": "vczBEqrTm5AH"
      },
      "outputs": [],
      "execution_count": null
    },
    {
      "cell_type": "code",
      "source": "def greet(name=\"Guest\"):\n    return f\"Hello, {name}!\"\n\nprint(greet())             # The function greet() has a default parameter name=\"Guest\". Output: Hello, Guest!\nprint(greet(\"Charlie\"))    # The function replaces \"Guest\" with \"Charlie\".Output: Hello, Charlie!\nprint(greet)               # This does not call the function; it prints the memory reference of the function object.\n#Output: <function greet at 0x...>",
      "metadata": {
        "id": "_T2hjyR1vPWN"
      },
      "outputs": [],
      "execution_count": null
    },
    {
      "cell_type": "markdown",
      "source": "**Functins with Parameters**",
      "metadata": {
        "id": "37APbU9plyCI"
      }
    },
    {
      "cell_type": "code",
      "source": "def make_maggi(spice_level):  # Function with an argument\n    print(\"Boil water 🫗\")\n    print(\"Add noodles 🍜\")  \n    print(f\"Add {spice_level} spice 🌶️\")  \n    print(\"Wait for 2 minutes ⏳\")\n    print(\"Eat and regret 🍽️\")\n\n# Calling the function with different spice levels\nmake_maggi(\"extra spicy\")  # 🔥🔥🔥\nprint()  # Adding a blank line for readability\nmake_maggi(\"mild\")  # 😌",
      "metadata": {
        "colab": {
          "base_uri": "https://localhost:8080/"
        },
        "id": "tsEpedd0l5eX",
        "outputId": "7aa0192a-a79c-432a-bb33-468179c0eaa3"
      },
      "outputs": [
        {
          "name": "stdout",
          "output_type": "stream",
          "text": "Boil water 🫗\n,Add noodles 🍜\n,Add extra spicy spice 🌶️\n,Wait for 2 minutes ⏳\n,Eat and regret 🍽️\n,Boil water 🫗\n,Add noodles 🍜\n,Add mild spice 🌶️\n,Wait for 2 minutes ⏳\n,Eat and regret 🍽️\n"
        }
      ],
      "execution_count": 25
    },
    {
      "cell_type": "code",
      "source": "# Function with variable-length arguments (*args)\ndef add_numbers(*numbers):  \n    \"\"\"This function takes multiple numbers as arguments and returns their sum.\"\"\"\n    return sum(numbers)\n\n# Calling add_numbers with different numbers of arguments\nprint(add_numbers(3, 4, 5))  # Output: 12\nprint(add_numbers(1, 2, 3, 4, 5, 6))  # Output: 21\n\nprint()  # Adding a blank line for readability\n\n# Function to greet multiple people\ndef greet(*names):\n    \"\"\"This function takes multiple names and greets each person.\"\"\"\n    for name in names:\n        print(f\"Hello, {name}!\")\n\n# Calling greet with multiple names\ngreet('Keerthi', 'Bhumika', 'Annie')",
      "metadata": {
        "id": "UxGaawkkvqH2"
      },
      "outputs": [
        {
          "name": "stdout",
          "output_type": "stream",
          "text": "12\n,21\n,hello , keerthi\n,hello , bhumika\n,hello , annie\n"
        }
      ],
      "execution_count": 30
    },
    {
      "cell_type": "code",
      "source": "#Function with variable-length keyword arguments (**kwargs)\ndef print_info(**info):  \n    \"\"\"This function accepts multiple key-value pairs and prints them.\"\"\"\n    for key, value in info.items():\n        print(f\"{key}: {value}\")\n\n#Calling the function with various key-value pairs\nprint_info(\n    name=\"John\", \n    age=30, \n    city=\"New York\", \n    hobby=\"coding\", \n    hobby2=\"reading\", \n    hobby3=\"sleeping\", \n    hobby4=\"eating\", \n    mobile=\"1234567890\", \n    email=\"john@example.com\"\n)",
      "metadata": {
        "id": "xecrJ2XPvt32"
      },
      "outputs": [
        {
          "name": "stdout",
          "output_type": "stream",
          "text": "name: John\n,age: 30\n,city: New York\n,hobby: coding\n,hobby2: reading\n,hobby3: sleeping\n,hobby4: eating\n,mobile: 1234567890\n,email: john@example.com\n"
        }
      ],
      "execution_count": 31
    },
    {
      "cell_type": "markdown",
      "source": "**Functions with return**",
      "metadata": {
        "id": "CsM1heupgdP0"
      }
    },
    {
      "cell_type": "code",
      "source": "# Function definition\ndef greet():\n    print('good morning')  # Prints \"good morning\" when called\n\n# First function call\ngreet()  \n# Output:\n# good morning\n\n# Second function call inside print()\nprint(greet())  \ngood morning  # From inside greet()\ngood morning  # From inside greet() (called within print)\nNone          # Because greet() returns None\n#Reason:-In Python,every function returns a value.\n#If a function does not have a return statement, it implicitly returns None.",
      "metadata": {},
      "outputs": [
        {
          "name": "stdout",
          "output_type": "stream",
          "text": "good morning\n,good morning\n,None\n"
        }
      ],
      "execution_count": 3
    },
    {
      "cell_type": "code",
      "source": "#write a function to update the number of likes on a video.\ndef update_likes(current_likes):\n    new_likes = current_likes + 1\n    return new_likes\n\nvideo_likes = 150\nvideo_likes = update_likes(video_likes)\nprint(\"Updated likes:\", video_likes)\n\n#A function update_likes is defined that takes current_likes as an argument.\n#Inside the function, it increases current_likes by 1 and stores the result in new_likes.\n#The function returns new_likes.",
      "metadata": {
        "colab": {
          "base_uri": "https://localhost:8080/"
        },
        "id": "Swwuta81iBrm",
        "outputId": "348a3887-c769-479c-a84d-0086e9a299e7"
      },
      "outputs": [
        {
          "name": "stdout",
          "output_type": "stream",
          "text": "Updated likes: 151\n"
        }
      ],
      "execution_count": null
    },
    {
      "cell_type": "code",
      "source": "#QUESTION\n#Text Message Analyzer**\n #  You're building a messaging app feature. Write a function that takes a text message and returns:\n #  - Word count\n #  - Average word length\n #  - Percentage of words that are hashtags\n\ndef analyze_text_message(message):\n    \"\"\"\n    This function analyzes a text message and returns:\n    - Total word count\n    - Average word length\n    - Percentage of words that are hashtags\n    \"\"\"\n    \n    words = message.split()  # Splitting the message into words\n    total_words = len(words)  # Counting the total number of words\n    \n    if total_words == 0:\n        return {\"Word Count\": 0, \"Average Word Length\": 0, \"Hashtag Percentage\": 0}  \n\n    total_word_length = sum(len(word) for word in words)  # Sum of lengths of all words\n    average_word_length = total_word_length / total_words  # Calculating average word length\n\n    hashtag_words = [word for word in words if word.startswith(\"#\")]  # Finding words with hashtags\n    hashtag_percentage = (len(hashtag_words) / total_words) * 100  # Calculating hashtag percentage\n\n    return {\n        \"Word Count\": total_words,\n        \"Average Word Length\": round(average_word_length, 2),\n        \"Hashtag Percentage\": round(hashtag_percentage, 2)\n    }\n\n# Example usage\nmessage = \"This is an example message with #hashtags and #Python\"\nresult = analyze_text_message(message)\nprint(result)",
      "metadata": {},
      "outputs": [],
      "execution_count": null
    },
    {
      "cell_type": "code",
      "source": "{'Word Count': 9, 'Average Word Length': 5.0, 'Hashtag Percentage': 22.22} #Output",
      "metadata": {},
      "outputs": [],
      "execution_count": null
    },
    {
      "cell_type": "markdown",
      "source": "  # Lambda Functions",
      "metadata": {
        "id": "NEhkBmiJhXC4"
      }
    },
    {
      "cell_type": "markdown",
      "source": "Lambda functions, also known as anonymous functions, are small, single-expression functions in Python.Here are the key rules:\n1.Single Expression Only\n\n    A lambda function must have only one expression (it cannot contain multiple statements).\n    Example:\n\n    add = lambda x, y: x + y\n    print(add(2, 3))  # Output: 5\n\n2.No Explicit Return Statement\n\n    The result of the expression is implicitly returned.\n    Example:\n\n    square = lambda x: x ** 2\n    print(square(4))  # Output: 16\n\n3.Can Have Multiple Arguments\n\n    Lambda functions can take multiple parameters, separated by commas.\n    Example:\n\n    multiply = lambda a, b, c: a * b * c\n    print(multiply(2, 3, 4))  # Output: 24\n\n4.Cannot Have Statements\n\n    You cannot include statements like loops, if, while, try-except, or print inside a lambda function.\n    Incorrect:\n\n    lambda x: print(x)  # ❌ Not allowed\n\n5.Can Be Used Inside Other Functions\n\n    Lambdas are often used as arguments to higher-order functions like map(), filter(), and sorted().\n    Example with map():\n\n    nums = [1, 2, 3, 4]\n    squared = list(map(lambda x: x ** 2, nums))\n    print(squared)  # Output: [1, 4, 9, 16]\n\n6.Can Have Default Arguments\n\n    Default values can be provided just like regular functions.\n    Example:\n\n    power = lambda x, y=2: x ** y\n    print(power(3))  # Output: 9 (3^2)\n    print(power(3, 3))  # Output: 27 (3^3)\n\n7.Cannot Contain Type Hints\n\n    Unlike regular functions, lambda functions cannot have type hints.\n    Incorrect:\n\n    lambda x: int -> x + 2  # ❌ SyntaxError",
      "metadata": {}
    },
    {
      "cell_type": "code",
      "source": "#Lambda Function in Python\n#A lambda function in Python is an anonymous function (a function without a name). \n#It is defined using the lambda keyword and can have multiple arguments but only one expression.\n\n#Syntax:\n#lambda arguments: expression\n#arguments: Input parameters (like a normal function).\n#expression: A single-line expression that is evaluated and returned.\n\n\n#EXAMPLES OF LAMBDA FUNCTIONS\n#case1:\n#Adding Two Numbers\nadd = lambda x, y: x + y\nprint(add(5, 3))  # Output: 8\n\n\n#case2:\n#Checking Even or Odd\nis_even = lambda n: \"Even\" if n % 2 == 0 else \"Odd\"\nprint(is_even(10))  # Output: Even\nprint(is_even(7))   # Output: Odd\n\n\n#case3:\n#Using Lambda with map()\nnumbers = [1, 2, 3, 4, 5]\nsquared_numbers = list(map(lambda x: x ** 2, numbers))\nprint(squared_numbers)  # Output: [1, 4, 9, 16, 25]\n\n\n#case4:\n#Using Lambda with filter()\nnumbers = [1, 2, 3, 4, 5, 6]\neven_numbers = list(filter(lambda x: x % 2 == 0, numbers))\nprint(even_numbers)  # Output: [2, 4, 6]\n\n\n\n#case5:\n#Using Lambda with sorted()\nstudents = [(\"Alice\", 25), (\"Bob\", 22), (\"Charlie\", 24)]\nsorted_students = sorted(students, key=lambda x: x[1])\nprint(sorted_students)  \n#Output: [('Bob', 22), ('Charlie', 24), ('Alice', 25)]\n\n\n\n#When to Use Lambda Functions?\n#-->When you need a small, one-time function.\n#-->When using map(), filter(), or sorted() functions.\n#-->When defining short functions inline without using def.",
      "metadata": {},
      "outputs": [],
      "execution_count": null
    },
    {
      "cell_type": "code",
      "source": "#Calculating the area of rectangle using lambda functions\narea = lambda length, width: length * width\nprint(area(5, 10))  ",
      "metadata": {},
      "outputs": [],
      "execution_count": null
    },
    {
      "cell_type": "code",
      "source": "#Square of a Number\nsquare = lambda x: x * x\nprint(square(5))  \n#ouput:25",
      "metadata": {
        "id": "2h-X3qKTv624"
      },
      "outputs": [],
      "execution_count": null
    },
    {
      "cell_type": "code",
      "source": "apply_filter = lambda photo: f\"{photo} with vintage filter 🎨\"\nprint(apply_filter(\"Selfie.jpg\"))\n#output:Selfie.jpg with vintage filter 🎨",
      "metadata": {
        "id": "KNxXvSv_hkis"
      },
      "outputs": [],
      "execution_count": null
    },
    {
      "cell_type": "code",
      "source": "\n# 1.Shopping Cart Calculator\n# \n# You are developing an online store and need to create **lambda functions** to handle pricing calculations.\n# Implement the following:\n#\n# - A **lambda function** to calculate the total price **after applying a discount**.\n# - A **lambda function** to calculate the price **after adding sales tax**.\n# - A **lambda function** to determine the **shipping cost based on weight**.\n#\n# Example:\n# price = 100  # Price of the product\n# weight = 2.5  # Weight of the product in kg\n# discount_percent = 20  # Discount percentage\n# tax_rate = 0.08  # Sales tax rate (8%)\n# \n# # Shipping cost details:\n# # - Base shipping cost = 10 rupees\n# # - Additional cost = 2 rupees per kg\n#\n# # Write your lambda functions to handle these calculations!\n\n# Lambda function to calculate total price after applying a discount\ndiscounted_price = lambda price, discount_percent: price * (1 - discount_percent / 100)\n\n# Lambda function to calculate price after adding sales tax\nprice_with_tax = lambda price, tax_rate: price * (1 + tax_rate)\n\n# Lambda function to determine shipping cost based on weight\nshipping_cost = lambda weight: 10 + (2 * weight)\n\n# Example usage\nprice = 100  # Price of the product\nweight = 2.5  # Weight of the product in kg\ndiscount_percent = 20  # Discount percentage\ntax_rate = 0.08  # Sales tax rate (8%)\n\n# Calculating final price\nprice_after_discount = discounted_price(price, discount_percent)\nfinal_price = price_with_tax(price_after_discount, tax_rate)\nshipping = shipping_cost(weight)\n\ntotal_cost = final_price + shipping\n\n# Output results\nprint(f\"Price after discount: {price_after_discount:.2f} rupees\")\nprint(f\"Price after tax: {final_price:.2f} rupees\")\nprint(f\"Shipping cost: {shipping:.2f} rupees\")\nprint(f\"Total cost: {total_cost:.2f} rupees\")\n\n#Output\n# Price after discount: 80.00 rupees\n# Price after tax: 86.40 rupees\n# Shipping cost: 15.00 rupees\n# Total cost: 101.40 rupees",
      "metadata": {},
      "outputs": [],
      "execution_count": null
    },
    {
      "cell_type": "code",
      "source": "# You are building a social media platform and need a super basic \"toxicity filter.\"\n# You decide to use a lambda function to check if a comment contains \"bad words\" (super scientific method 😂).\n# \n# - Write a lambda function `is_toxic(comment)` that:\n#   - Returns True if the comment contains any of these \"toxic\" words: [\"stupid\", \"boring\", \"lame\"]\n#   - Otherwise, returns False.\n# \n# - Test it with different comments!\n# \n# Example Usage:\n# print(is_toxic(\"This movie is so stupid!\"))  # Output: True\n# print(is_toxic(\"I love this song!\"))        # Output: False\n\n# List of \"toxic\" words\ntoxic_words = [\"stupid\", \"boring\", \"lame\"]\n\n# Lambda function to check for toxic words in a comment\nis_toxic = lambda comment: any(word in comment.lower() for word in toxic_words)\n\n# Test cases\nprint(is_toxic(\"This movie is so stupid!\"))  # Output: True\nprint(is_toxic(\"I love this song!\"))         # Output: False\nprint(is_toxic(\"That was a boring game.\"))   # Output: True\nprint(is_toxic(\"You are amazing!\"))          # Output: False\nprint(is_toxic(\"This joke is lame.\"))        # Output: True\n\n                #(OR)\n                \n#It is to check the all members of list\ntoxic_words = [\"stupid\",\"boring\",\"lame\"]\nis_toxic = lambda comment :[word in comment.lower() for word in toxic_words]\nprint(is_toxic(\"This is a boring\")) #output: True\n",
      "metadata": {},
      "outputs": [],
      "execution_count": null
    },
    {
      "cell_type": "markdown",
      "source": "NESTED FUNCTIONS",
      "metadata": {}
    },
    {
      "cell_type": "code",
      "source": "#Nested Functions in Python\n#A nested function is a function defined inside another function.\n#This allows better organization, encapsulation, and access to variables from the outer function.\n\n#Syntax of a Nested Function\ndef outer_function():\n    print(\"This is the outer function.\")\n    \n    def inner_function():\n        print(\"This is the inner function.\")\n    \n    inner_function()  #Calling the inner function inside the outer function\n\nouter_function()\n#Output:\n#This is the outer function.\n#This is the inner function.\n\n#Why Use Nested Functions?\n#Encapsulation:The inner function is hidden and cannot be accessed from outside.  \n#Reusability:Used when a function's logic is needed only inside a specific scope.  \n#Access to Outer Function’s Variables:The inner function can use variables from the outer function.\n\n#Example 1:Accessing Outer Function's Variable\ndef greet(name):\n    def message():\n        return f\"Hello, {name}!\"\n    \n    return message()  #Calling inner function\n\nprint(greet(\"Alice\"))  #Output: Hello, Alice!\n#The `message()` function uses the `name` parameter from `greet()`\n \n#Example 2:Using `return` for Closure (Function Factory)\ndef power(exponent):\n    def calculate(base):\n        return base ** exponent #Uses exponent from outer function\n    \n    return calculate  #Returns the inner function\n\nsquare = power(2)  #Creates a function that squares a number\ncube = power(3)    #Creates a function that cubes a number\n\nprint(square(4))  #Output: 16\nprint(cube(2))    #Output: 8\n#`power(2)` returns `calculate()`, which remembers `exponent=2`\n\n#Example 3:Nested Functions with `nonlocal` Keyword\ndef counter():\n    count = 0  # Outer function variable\n    \n    def increment():\n        nonlocal count  # Allows modification of outer variable\n        count += 1\n        return count\n    \n    return increment  # Returns the inner function\n\ncounter_func = counter()\nprint(counter_func())  # Output: 1\nprint(counter_func())  # Output: 2\n#`nonlocal count` allows modification of `count` inside `increment()`.  \n#Each call to `counter_func()`increments the same `count` variable.  \n\n#When to Use Nested Functions?\n# When a helper function is needed only inside another function.  \n# When you want to preserve state(closures).  \n# When you need to modify a non-global variable using `nonlocal` ",
      "metadata": {},
      "outputs": [],
      "execution_count": null
    },
    {
      "cell_type": "code",
      "source": "# Example Usage\ndef outer_function(x):\n    # This is the outer function\n    def inner_function(y):\n        # This is the nested (inner) function\n        return y * 2  # Multiply input by 2\n    \n    result = inner_function(x)  # Call the inner function\n    return result + 3  # Add 3 to the result of the inner function\n\nprint(outer_function(5)) \n\n#ouput:13",
      "metadata": {},
      "outputs": [],
      "execution_count": null
    },
    {
      "cell_type": "code",
      "source": "# Nested functions\ndef clean_room():\n    def sweep_floor():\n        print(\"Roommate A is sweeping 🧹\")\n\n    def do_laundry():\n        print(\"Roommate B is washing clothes 🧺\")\n\n    def arrange_books():\n        print(\"Roommate C is organizing books 📚\")\n\n    # Call the nested functions\n    sweep_floor()\n    do_laundry()\n    arrange_books()\n    \n    # Final message\n    print(\"You take credit for 'managing' 🤭\")\n\n# Call the function\nclean_room()\n\n#Output\nRoommate A is sweeping 🧹\nRoommate B is washing clothes 🧺\nRoommate C is organizing books 📚\nYou take credit for 'managing' 🤭",
      "metadata": {
        "colab": {
          "base_uri": "https://localhost:8080/"
        },
        "id": "TOwbEePlbWV6",
        "outputId": "868cee57-27f9-4c3f-f0c6-b3122e1505c2"
      },
      "outputs": [],
      "execution_count": null
    },
    {
      "cell_type": "code",
      "source": "#CHALLENGE\n#write a function to check the hostel security , \n#should have two functions , grant access , deny access\n#give the access if the password is rgukt123 \n\ndef hostel_security(password):\n    \"\"\"\n    Function to check hostel security.\n    Grants or denies access based on the given password.\n    \"\"\"\n    def grant_access():\n        return \"Access Granted! Welcome to the hostel.\"\n\n    def deny_access():\n        return \"Access Denied! Incorrect password.\"\n\n    # Check password and return the appropriate function's output\n    return grant_access() if password == \"rgukt123\" else deny_access()\n\n# Test Cases\nprint(hostel_security(\"rgukt123\"))  # Output: Access Granted! \nprint(hostel_security(\"wrongpass\"))  # Output: Access Denied!\n\n                #(OR)\n                \n#Features Added:\n#✔User Input → Asks the user to enter the password.\n#✔No Hardcoded Arguments → Now runs dynamically, checking input.\n#✔Case-Sensitive Check → Keeps strict security (can modify if needed).\ndef hostel_security():\n    \"\"\"\n    Function to check hostel security.\n    Grants or denies access based on the given password.\n    \"\"\"\n    correct_password = \"rgukt123\"  #Store the correct password\n\n    def grant_access():\n        return \"Access Granted! Welcome to the hostel.\"\n\n    def deny_access():\n        return \"Access Denied! Incorrect password.\"\n\n    #Ask for password input\n    password = input(\"Enter hostel password: \")\n\n    #Check password and return the appropriate response\n    return grant_access() if password == correct_password else deny_access()\n\n#Run the function\nprint(hostel_security())",
      "metadata": {
        "id": "cpbnfke25Qe6"
      },
      "outputs": [
        {
          "name": "stdout",
          "output_type": "stream",
          "text": "Access Granted! Welcome to the hostel.\n,Access Denied! Incorrect password.\n"
        }
      ],
      "execution_count": null
    },
    {
      "cell_type": "code",
      "source": "#CHALLENGE\n# You are building a social media app that allows users to create posts with formatted text.\n# Write a function `create_post_formatter(format_type)` that:\n# - Defines a nested function `formatter(text)`.\n# - If `format_type` is `\"uppercase\"`, `formatter` should return the text in uppercase.\n# - If `format_type` is `\"hashtags\"`, `formatter` should convert the words into hashtags (e.g., \"hello world\" → \"#hello #world\").\n# - The outer function should return `formatter`.\n\n# Example Usage:\n# uppercase_formatter = create_post_formatter(\"uppercase\")\n# print(uppercase_formatter(\"good morning\"))  # Output: \"GOOD MORNING\"\n# hashtag_formatter = create_post_formatter(\"hashtags\")\n# print(hashtag_formatter(\"social media trends\"))  # Output: \"#social #media #trends\"\n\ndef create_post_formatter(format_type):\n    \"\"\"\n    Returns a formatter function based on the given format_type.\n    - If 'uppercase', it returns a function that converts text to uppercase.\n    - If 'hashtags', it returns a function that converts words into hashtags.\n    \"\"\"\n    def uppercase_formatter(text):\n        return text.upper()\n\n    def hashtag_formatter(text):\n        return \" \".join(f\"#{word}\" for word in text.split())\n\n    # Return the appropriate formatter function\n    if format_type == \"uppercase\":\n        return uppercase_formatter\n    elif format_type == \"hashtags\":\n        return hashtag_formatter\n    else:\n        raise ValueError(\"Invalid format_type! Choose 'uppercase' or 'hashtags'.\")\n\n#Example Usage\nuppercase_formatter = create_post_formatter(\"uppercase\")\nprint(uppercase_formatter(\"good morning\"))  # Output:\"GOOD MORNING\"\n\nhashtag_formatter = create_post_formatter(\"hashtags\")\nprint(hashtag_formatter(\"social media trends\"))  # Output:\"#social #media #trends\"",
      "metadata": {},
      "outputs": [
        {
          "name": "stdout",
          "output_type": "stream",
          "text": "GOOD MORNING\n,#social #media #trends\n"
        }
      ],
      "execution_count": 57
    },
    {
      "cell_type": "markdown",
      "source": "**Function as an argument**",
      "metadata": {
        "id": "30alG2ATgRgF"
      }
    },
    {
      "cell_type": "code",
      "source": "#Function as an Argument\n#In Python, functions can be passed as arguments to other functions.\n#This allows higher-order functions, where one function controls the execution of another.\n#Basic Example\ndef greet(name):\n    return f\"Hello, {name}!\"\ndef execute_function(func, value):\n    return func(value)  #Calling the passed function with the value\n#Passing 'greet' function as an argument\nresult = execute_function(greet, \"Alice\")\nprint(result)  #Output: Hello, Alice!\n\n#Using Functions for Operations\ndef add(x, y):\n    return x + y\ndef multiply(x, y):\n    return x * y\ndef calculate(func, a, b):\n    return func(a, b)  #Executes the passed function\n\n#Using 'calculate' with different functions\nprint(calculate(add, 5, 3))       #Output: 8\nprint(calculate(multiply, 5, 3))  #Output: 15\n#Here,calculate() can perform addition or multiplication depending on the function passed.\n\n#Example:Sorting with a Custom Key\nstudents = [(\"Alice\", 85), (\"Bob\", 72), (\"Charlie\", 90)]\n# Sorting by scores using a function as an argument\nsorted_students = sorted(students, key=lambda student: student[1], reverse=True)\nprint(sorted_students)  \n# Output: [('Charlie', 90), ('Alice', 85), ('Bob', 72)]\n#The sorted() function accepts a function (lambda student: student[1]) as a key argument,\n#allowing sorting by student scores.\n\n# When to Use Functions as Arguments?\n# ✅ When writing flexible and reusable code\n# ✅ When executing different operations dynamically\n# ✅ When working with callbacks, sorting, or functional programming",
      "metadata": {},
      "outputs": [
        {
          "name": "stdout",
          "output_type": "stream",
          "text": "Hello, Alice!\n,8\n,15\n,[('Charlie', 90), ('Alice', 85), ('Bob', 72)]\n"
        }
      ],
      "execution_count": 56
    },
    {
      "cell_type": "code",
      "source": "#USE_CASE\ndef greet(name, format_func):\n    return format_func(name)\n\n# Example function: Uppercase name\ndef uppercase_name(name):\n    return name.upper()\n\nprint(greet(\"Alice\", uppercase_name))  \n#ouput:ALICE",
      "metadata": {},
      "outputs": [
        {
          "name": "stdout",
          "output_type": "stream",
          "text": "ALICE\n"
        }
      ],
      "execution_count": 55
    },
    {
      "cell_type": "code",
      "source": "def calculate(a, b, operation):\n    return operation(a, b)\n# Example functions\ndef add(x, y):\n    return x + y\ndef multiply(x, y):\n    return x * y\n\nprint(calculate(3, 4, add))       \nprint(calculate(3, 4, multiply))  \n#output:7\n#output:12",
      "metadata": {},
      "outputs": [
        {
          "name": "stdout",
          "output_type": "stream",
          "text": "7\n,12\n"
        }
      ],
      "execution_count": 54
    },
    {
      "cell_type": "code",
      "source": "# function as a argument :\ndef do_assignment():\n    return \"Completed Assignment ✅\"\n\ndef copy_assignment(work_function):\n    copied_work = work_function()\n    return f\"Copied: {copied_work} 😈\"\n\nprint(copy_assignment(do_assignment))\n#Copied: Completed Assignment ✅ 😈",
      "metadata": {
        "colab": {
          "base_uri": "https://localhost:8080/"
        },
        "id": "GS99vYcVZSwK",
        "outputId": "c76c7431-46ee-402d-92c7-f2f99648fd25"
      },
      "outputs": [
        {
          "name": "stdout",
          "output_type": "stream",
          "text": "Copied: Completed Assignment ✅ 😈\n"
        }
      ],
      "execution_count": 53
    },
    {
      "cell_type": "code",
      "source": "# 1. **Apply Operation on List Elements**\n# Write a function `apply_to_list(lst, operation_func)` that:\n# - Takes a **list of numbers** `lst` and an **operation function** `operation_func`.\n# - Applies the operation function to each element in the list and returns the new list.\n#\n# Example operation functions:\n# - A function that **doubles each number** in the list.\n# - A function that **squares each number** in the list.\n#Code\ndef apply_to_list(lst, operation_func):\n    \"\"\"\n    Applies the given operation function to each element in the list.\n    Parameters:\n    - lst (list): List of numbers.\n    - operation_func (function): Function to apply to each element.\n    Returns:\n    - list: A new list with the transformed elements.\n    \"\"\"\n    return [operation_func(num) for num in lst]  # Apply function to each element\n# Example operation functions\ndef double(x):\n    return x * 2\n\ndef square(x):\n    return x ** 2\n# Example Usage\nprint(apply_to_list([1, 2, 3, 4], double))  # Output: [2, 4, 6, 8]\nprint(apply_to_list([1, 2, 3, 4], square))  # Output: [1, 4, 9, 16]",
      "metadata": {},
      "outputs": [
        {
          "name": "stdout",
          "output_type": "stream",
          "text": "[2, 4, 6, 8]\n,[1, 4, 9, 16]\n"
        }
      ],
      "execution_count": 52
    },
    {
      "cell_type": "code",
      "source": "# 2.Prime Number Check\n# Write a function `check_prime(number, prime_func)` that:\n# - Takes a **number** and a **prime-check function** `prime_func`.\n# - Uses the `prime_func` to check if the number is **prime** or **not prime**.\n#\n# Example prime check functions:\n# - A function that checks if the number is a **prime number**.\n# - A function that checks if the number is a **composite number** (i.e., not prime).\n#Code\ndef check_prime(number, prime_func):\n    \"\"\"\n    Checks if a number is prime or composite using the given function.\n    Parameters:\n    - number (int): The number to check.\n    - prime_func (function): The function to determine prime/composite status.\n    Returns:\n    - bool: True if the condition matches, False otherwise.\n    \"\"\"\n    return prime_func(number)  # Calls the passed function\n#Function to check if a number is prime\ndef is_prime(n):\n    if n < 2:\n        return False  # 0 and 1 are not prime\n    for i in range(2, int(n ** 0.5) + 1):  # Check divisibility up to √n\n        if n % i == 0:\n            return False\n    return True\n# Function to check if a number is composite (not prime)\ndef is_composite(n):\n    return not is_prime(n) and n > 1  # Composite numbers are greater than 1 and not prime\n\n# Example Usage\nprint(check_prime(7, is_prime))       # Output: True (7 is prime)\nprint(check_prime(8, is_composite))   # Output: True (8 is composite)\nprint(check_prime(1, is_prime))       # Output: False (1 is neither prime nor composite)\nprint(check_prime(4, is_composite))   # Output: True (4 is composite)",
      "metadata": {},
      "outputs": [
        {
          "name": "stdout",
          "output_type": "stream",
          "text": "True\n,True\n,False\n,True\n"
        }
      ],
      "execution_count": 51
    },
    {
      "cell_type": "code",
      "source": "# CHALLENGE\n# Write a Python program that filters out comments containing inappropriate words from a list of comments.\n# The program should define a function to check for bad words and another function to remove such comments.\n# Youtube\ndef check_comment(comment):\n    bad_words = [\"hate\", \"stupid\", \"ugly\"]\n    return any(word in comment.lower() for word in bad_words)\n\ndef moderate_comments(comment_list, filter_function):\n    return [comment for comment in comment_list if not filter_function(comment)]\n\ncomments = [\"Great video!\", \"This is stupid!\", \"Love this content!\"]\nclean_comments = moderate_comments(comments, check_comment)\n\nprint(clean_comments)  # ['Great video!', 'Love this content!']\n\n#The internet:where people type what they would never say in real life\n#output:['Great video!', 'Love this content!']",
      "metadata": {},
      "outputs": [
        {
          "name": "stdout",
          "output_type": "stream",
          "text": "['Great video!', 'Love this content!']\n"
        }
      ],
      "execution_count": 50
    },
    {
      "cell_type": "markdown",
      "source": "**Recursive functions**",
      "metadata": {
        "id": "1Idg48EnfoyU"
      }
    },
    {
      "cell_type": "markdown",
      "source": "#A recursive function is a function that calls itself in order to solve a problem.\n#It breaks down a problem into smaller subproblems of the same type.\n#It must have a base case to stop the recursion and prevent infinite loops.\n#Basic Structure of a recursive function\ndef recursive_function():\n    if base_case_condition:\n        return result  # Base case (stopping condition)\n    else:\n        return recursive_function(modified_argument)  # Recursive case\n        \n When to Use Recursion?\n -->When a problem can be divided into smaller subproblems of the same type\n -->When using divide and conquer algorithms (e.g., Merge Sort, Quick Sort)\n -->When working with tree or graph traversals (e.g., DFS, Binary Trees)",
      "metadata": {}
    },
    {
      "cell_type": "code",
      "source": "#Example Usage\n#Factorial of a number(n!)\ndef factorial(n):\n    if n == 0 or n == 1:  #Base case\n        return 1\n    else:\n        return n * factorial(n - 1)  #Recursive call\nprint(factorial(5))  #Output: 120\n\n#Fibonacci Sequence\ndef fibonacci(n):\n    if n == 0:  #Base case 1\n        return 0\n    elif n == 1:  #Base case 2\n        return 1\n    else:\n        return fibonacci(n - 1) + fibonacci(n - 2)  #Recursive call\nprint(fibonacci(6))  #Output: 8\n\n#Sum of Natural Numbers\ndef sum_natural(n):\n    if n == 0:  #Base case\n        return 0\n    else:\n        return n + sum_natural(n - 1)  #Recursive call\nprint(sum_natural(5))  #Output:15 (5+4+3+2+1)",
      "metadata": {
        "id": "XHByKp5xwFFZ"
      },
      "outputs": [
        {
          "name": "stdout",
          "output_type": "stream",
          "text": "120\n,8\n,15\n"
        }
      ],
      "execution_count": 48
    },
    {
      "cell_type": "code",
      "source": "#CHALLENGE\n#\"How Does YouTube's Recommendation Spiral Work?\" \n#This question reflects the experience of watching one tutorial video and, hours later, ending up on something completely unrelated—like \n#\"How to Survive a Bear Attack\" at 3 AM.🐻🎥\ndef recommend_video(video, depth):\n    if depth == 0:\n        return\n    print(f\"Next suggested video: {video} 🎥\")\n    recommend_video(\"Another related video\", depth - 1)\n\nrecommend_video(\"Python Functions Explained\", 5)",
      "metadata": {
        "colab": {
          "base_uri": "https://localhost:8080/"
        },
        "id": "4LSCeKB7fkrO",
        "outputId": "257bb894-fac5-4b55-847e-b800ab3359d0"
      },
      "outputs": [
        {
          "name": "stdout",
          "output_type": "stream",
          "text": "Next suggested video: Python Functions Explained 🎥\n,Next suggested video: Another related video 🎥\n,Next suggested video: Another related video 🎥\n,Next suggested video: Another related video 🎥\n,Next suggested video: Another related video 🎥\n"
        }
      ],
      "execution_count": 47
    },
    {
      "cell_type": "code",
      "source": "#Funny CHALLENGE\n#\"How Fast Does Gossip Spread?\"\n#This question represents how one person starts gossiping,\n#and it keeps spreading to the next person, just like an endless gossip chain. 🤫👥4\n\ndef gossip_chain(girl, level):\n    if level == 0:\n        return\n    print(f\"{girl} is telling the next girl... 🤫\")\n    gossip_chain(girl, level - 1)  # Calls itself\n\ngossip_chain(\"Aisha\", 5)  # 5 levels of gossip \n",
      "metadata": {
        "colab": {
          "base_uri": "https://localhost:8080/"
        },
        "id": "Slt9C4QkjVCM",
        "outputId": "fa98727a-2a4d-4b3f-e733-1065109da1cd"
      },
      "outputs": [
        {
          "name": "stdout",
          "output_type": "stream",
          "text": "Aisha is telling the next girl... 🤫\n,Aisha is telling the next girl... 🤫\n,Aisha is telling the next girl... 🤫\n,Aisha is telling the next girl... 🤫\n,Aisha is telling the next girl... 🤫\n"
        }
      ],
      "execution_count": 46
    },
    {
      "cell_type": "markdown",
      "source": "Higher oder functions",
      "metadata": {
        "id": "ZZX4n6TDhDwc"
      }
    },
    {
      "cell_type": "markdown",
      "source": "#A higher-order function is a function that either:\n#1.Takes another function as an argument, or\n#2.Returns a function as a result\n#Higher-order functions allow us to write more flexible and reusable code.",
      "metadata": {}
    },
    {
      "cell_type": "code",
      "source": "#Syntax of Higher-Order Functions\n#Here are two common ways to use them:\n#1.Passing a function as an argument\ndef apply_function(func, value):\n    return func(value)\n\ndef square(x):\n    return x * x\n\nresult = apply_function(square, 5)  # Passing 'square' function\nprint(result)  # Output: 25\n\n\n#2.Returning a function\ndef multiply_by(factor):\n    def multiply(number):\n        return number * factor\n    return multiply  # Returning a function\n\ndouble = multiply_by(2)  # double is now a function that multiplies by 2\nprint(double(5))  # Output: 10",
      "metadata": {},
      "outputs": [
        {
          "name": "stdout",
          "output_type": "stream",
          "text": "25\n,10\n"
        }
      ],
      "execution_count": 45
    },
    {
      "cell_type": "code",
      "source": "#Common Built-in Higher-Order Functions in Python\n#Python has several built-in higher-order functions, such as:\n\n#-->map(func, iterable) → Applies a function to each item in an iterable.\n#-->filter(func, iterable) → Filters items based on a function.\n#-->reduce(func, iterable) (from functools) → Reduces an iterable to a single value.\n\n#Example\nnums = [1, 2, 3, 4]\n# Using map() to square each number\nsquared = list(map(lambda x: x * x, nums))\nprint(squared)  # Output: [1, 4, 9, 16]\n\n# Using filter() to get even numbers\nevens = list(filter(lambda x: x % 2 == 0, nums))\nprint(evens)  # Output: [2, 4]\n\n#Using reduce() from functools in Python\n#The reduce() function applies a function cumulatively to the items in an iterable,\n#reducing them to a single value.\n\n#i)Sum of a List Using reduce()\nfrom functools import reduce\nnumbers = [1, 2, 3, 4, 5]\n# Using reduce() to sum the numbers\nsum_result = reduce(lambda x, y: x + y, numbers)\nprint(sum_result)  # Output: 15\n\n#ii)Finding the Maximum Value\n#from functools import reduce\nnumbers = [3, 7, 2, 9, 5]\nmax_value = reduce(lambda x, y: x if x > y else y, numbers)\nprint(max_value)  # Output: 9\n\n#iii)Multiplying All Elements in a List\nfrom functools import reduce\nnumbers = [2, 3, 4, 5]\nproduct = reduce(lambda x, y: x * y, numbers)\nprint(product)  # Output: 120\n\n\n#------REAL-WORLD USE CASE OF reduce()-----\n\n#1.Calculating Total Price in a Shopping Cart 🛒\n\n#Imagine you have a shopping cart with a list of item prices,\n#and you want to calculate the total price.\n#Code\nfrom functools import reduce\n\ncart = [\n    {\"item\": \"Laptop\", \"price\": 800},\n    {\"item\": \"Mouse\", \"price\": 25},\n    {\"item\": \"Keyboard\", \"price\": 50},\n    {\"item\": \"Monitor\", \"price\": 200}\n]\n\n# Use reduce to sum up all item prices\ntotal_price = reduce(lambda acc, item: acc + item[\"price\"], cart, 0)\nprint(f\"Total price: ${total_price}\")  # Output: Total price: $1075\n\n#acc (accumulator) starts at 0 (third argument in reduce()).\n#For each item, it adds item[\"price\"] to acc.\n#Finally, it returns the total cost.\n\n\n#2.Finding the Longest Word in a List 📖\n#If you're processing text data and want to find the longest word in a list:\n#Code\nfrom functools import reduce\n\nwords = [\"Python\", \"JavaScript\", \"C\", \"Rust\", \"Artificial Intelligence\"]\n\nlongest_word = reduce(lambda x, y: x if len(x) > len(y) else y, words)\n\nprint(f\"Longest word: {longest_word}\")  # Output: Artificial Intelligence\n\n#Compares two words at a time based on their length.\n#Keeps the longest word.\n\n\n#3.Computing Factorials 🧮\n#Instead of using loops or recursion,\n#you can calculate the factorial of a number using reduce():\n#Code\nfrom functools import reduce\n\nn = 5  # Factorial of 5 = 5 * 4 * 3 * 2 * 1\n\nfactorial = reduce(lambda x, y: x * y, range(1, n + 1))\nprint(f\"Factorial of {n} is {factorial}\")  # Output: Factorial of 5 is 120\n\n#Uses range(1, n+1) to create a sequence [1, 2, 3, ..., n].\n#Multiplies all numbers in the range.\n\n#Why Use reduce()?\n# ✅ Concise: Removes the need for loops.\n# ✅ Functional Programming Style: Clean and expressive code.\n# ✅ Works Well with Large Data: Efficient for aggregations.\n",
      "metadata": {},
      "outputs": [
        {
          "name": "stdout",
          "output_type": "stream",
          "text": "[1, 4, 9, 16]\n,[2, 4]\n,15\n,9\n,120\n,Total price: $1075\n,Longest word: Artificial Intelligence\n,Factorial of 5 is 120\n"
        }
      ],
      "execution_count": 44
    },
    {
      "cell_type": "code",
      "source": "#How Can Functions Be Passed as Arguments?\n#This question explores how higher-order functions work by passing a lambda function \n#as an argument to another function (apply_function).\ndef apply_function(func, value):\n    return func(value)\n\nresult = apply_function(lambda x: x * x, 4)\nprint(result)  # Output: 16",
      "metadata": {
        "id": "_vpKoZKEfkoe"
      },
      "outputs": [
        {
          "name": "stdout",
          "output_type": "stream",
          "text": "16\n"
        }
      ],
      "execution_count": 43
    },
    {
      "cell_type": "code",
      "source": "#How Can Functions Describe the Indescribable Taste of Hostel Food?🍽️😅\n#This question explores how higher-order functions can be used to \n#dynamically describe the unique experience of hostel food! 🤢😂\ndef food_quality(taste_function):\n    return f\"Hostel food is {taste_function()} 🤢\"\n\nprint(food_quality(lambda: \"disgusting\"))\nprint(food_quality(lambda: \"bearable\"))\n# hostel food test of patience, not taste.",
      "metadata": {
        "id": "zRctAJRlfkki"
      },
      "outputs": [
        {
          "name": "stdout",
          "output_type": "stream",
          "text": "Hostel food is disgusting 🤢\n,Hostel food is bearable 🤢\n"
        }
      ],
      "execution_count": 42
    },
    {
      "cell_type": "code",
      "source": "\n# map functions\n# Syntax: map(function, iterable)\n#How Can You Apply a Function to Every Element in a List Using map()?\n#i)This explores how the map() function can be used to modify lists,\n#such as doubling numbers or formatting text dynamically.\nnumbers = [1, 2, 3, 4, 5]\n# Multiply each number by 2\ndoubled = map(lambda x: x * 2, numbers)\nprint(list(doubled))\n# Output: [2, 4, 6, 8, 10]\n\n#How Can You Capitalize Every Word in a List Using map()?\n#ii)This question explores how map() can be used to transform text,\n# such as capitalizing captions for social media posts.\n\ncaptions = [\"feeling cute\", \"mood today\", \"sunday vibes\"]\nformatted_captions = list(map(lambda caption: caption.title(), captions))\nprint(formatted_captions)\n# Output: ['Feeling Cute', 'Mood Today', 'Sunday Vibes']\n",
      "metadata": {
        "id": "YQAiXBekfkg1"
      },
      "outputs": [
        {
          "name": "stdout",
          "output_type": "stream",
          "text": "[2, 4, 6, 8, 10]\n,['Feeling Cute', 'Mood Today', 'Sunday Vibes']\n"
        }
      ],
      "execution_count": 41
    },
    {
      "cell_type": "code",
      "source": "# filter functions\n# Syntax: filter(function, iterable)\n#How Can You Filter Out Negative Comments Using filter() in Python?\n#This question explores how the filter() function can be used \n#to remove inappropriate or negative comments from a list, keeping only the positive ones.\ncomments = [\"Nice video!\", \"You are dumb\", \"Awesome content!\", \"Worst video ever!\"]\n\n# Keep only comments without bad words\ngood_comments = filter(lambda comment: \"dumb\" not in comment and \"worst\" not in comment, comments)\n\nprint(list(good_comments))\n# Output: ['Nice video!', 'Awesome content!']\n",
      "metadata": {
        "id": "Bzvu085IfkeK"
      },
      "outputs": [
        {
          "name": "stdout",
          "output_type": "stream",
          "text": "['Nice video!', 'Awesome content!', 'Worst video ever!']\n"
        }
      ],
      "execution_count": 40
    },
    {
      "cell_type": "code",
      "source": "#reduce function\n#Syntax: reduce(function, iterable)\n#CHALLENGE\n#How Can You Calculate Total Watch Time Using reduce() in Python?\n#This question explores how the reduce() function can be used \n#to sum up watch times from multiple videos, just like tracking total screen time on a platform.\n#Code\nfrom functools import reduce\nwatch_times = [10, 15, 20, 35]  # Minutes watched on different videos\n\n# Sum all watch times\ntotal_watch_time = reduce(lambda x, y: x + y, watch_times)\n\nprint(total_watch_time)\n# Output: 80\n",
      "metadata": {
        "colab": {
          "base_uri": "https://localhost:8080/"
        },
        "id": "O7rmwXb3fkRL",
        "outputId": "9f2ce08c-5d5f-4051-aaf3-9cf261e204da"
      },
      "outputs": [
        {
          "name": "stdout",
          "output_type": "stream",
          "text": "80\n"
        }
      ],
      "execution_count": 39
    },
    {
      "cell_type": "code",
      "source": "#CHALLENGE\n#How Can You Sort Snapchat Streaks from Highest to Lowest Using sorted()?\"\n#This question explores how the sorted() function can be used \n#to rank users based on their streak count, just like sorting Snapchat streaks!\n#sorted function\n#Syntax: sorted(iterable, key=function, reverse=True/False)\nstreaks = [(\"Alice\", 120), (\"Bob\", 300), (\"Charlie\", 250)]\n\n# Sort based on streak count (highest first)\nsorted_streaks = sorted(streaks, key=lambda streak: streak[1], reverse=True)\n\nprint(sorted_streaks)\n# Output: [('Bob', 300), ('Charlie', 250), ('Alice', 120)]\n# snapchat streaks : keeping fake friendship alive since 2016",
      "metadata": {
        "id": "_UYIVy9tapw-"
      },
      "outputs": [
        {
          "name": "stdout",
          "output_type": "stream",
          "text": "[('Bob', 300), ('Charlie', 250), ('Alice', 120)]\n"
        }
      ],
      "execution_count": 38
    },
    {
      "cell_type": "markdown",
      "source": "\"\"\"\n***\n\"\"\"",
      "metadata": {}
    },
    {
      "cell_type": "markdown",
      "source": "#### **Decorators**",
      "metadata": {}
    },
    {
      "cell_type": "markdown",
      "source": "What Are Decorators in Python?\nA decorator in Python is a higher-order function that modifies the behavior of another function without changing its code. Decorators are often used for logging, authentication, timing functions,and more.",
      "metadata": {}
    },
    {
      "cell_type": "code",
      "source": "#Syntax of a Decorator\n#A decorator is defined using the @decorator_name syntax before a function.\n#1.Basic Decorator Example\n\ndef my_decorator(func):\n    def wrapper():\n        print(\"Something is happening before the function is called.\")\n        func()\n        print(\"Something is happening after the function is called.\")\n    return wrapper\n\n@my_decorator\ndef say_hello():\n    print(\"Hello!\")\n\nsay_hello()\n\n# Output:\n# Something is happening before the function is called.\n# Hello!\n# Something is happening after the function is called.\n#Here, my_decorator modifies say_hello() by adding extra functionality before and after it runs.\n\n\n#2.Decorator with Arguments\n#If the function being decorated takes arguments, modify the wrapper function:\n\ndef greet_decorator(func):\n    def wrapper(name):\n        print(\"Decorating function...\")\n        func(name)\n        print(\"Decoration complete!\")\n    return wrapper\n\n@greet_decorator\ndef greet(name):\n    print(f\"Hello, {name}!\")\n\ngreet(\"Alice\")\n\n#Output:\n#Decorating function...\n#Hello, Alice!\n#Decoration complete!\n\n#3.Using functools.wraps to Preserve Metadata\nfrom functools import wraps\n\ndef my_decorator(func):\n    @wraps(func)\n    def wrapper(*args, **kwargs):\n        print(\"Before function call\")\n        result = func(*args, **kwargs)\n        print(\"After function call\")\n        return result\n    return wrapper\n\n#@wraps(func) ensures that metadata like __name__ and __doc__ of the original function is not lost.\n\n#Common Use Cases for Decorators\n#✅ Logging\n#✅ Authentication\n#✅ Caching\n#✅ Performance Measurement\n",
      "metadata": {},
      "outputs": [
        {
          "name": "stdout",
          "output_type": "stream",
          "text": "Something is happening before the function is called.\n,Hello!\n,Something is happening after the function is called.\n,Decorating function...\n,Hello, Alice!\n,Decoration complete!\n"
        }
      ],
      "execution_count": 37
    },
    {
      "cell_type": "code",
      "source": "#How Can Decorators Be Used to Automatically Modify Function Output?\ndef no_plagiarism(original_function):\n    def wrapper():\n        return \"Totally original work, not copied at all. 🧐\"\n    return wrapper\n\n@no_plagiarism\ndef copy_assignment():\n    return \"Copied Assignment 😈\"\n\nprint(copy_assignment())  # first rule of copying is deny everything\n# auto reply on insta\ndef auto_reply(function):\n    def wrapper():\n        return \"Hey! I'm busy right now. Will reply soon! 😊\"\n    return wrapper\n\n@auto_reply\ndef message():\n    return \"Hey, what's up?\"\n\nprint(message())\n#Output\n#Totally original work, not copied at all. 🧐\n#Hey! I'm busy right now. Will reply soon! 😊\n\n\n#Key Takeaways:\n#✅ Decorators modify function behavior dynamically.\n#✅ They can be used for automation, filtering, or security purposes.\n#✅ Useful for real-world applications like chatbots, auto-responders, and logging.",
      "metadata": {},
      "outputs": [
        {
          "name": "stdout",
          "output_type": "stream",
          "text": "Totally original work, not copied at all. 🧐\n,Hey! I'm busy right now. Will reply soon! 😊\n"
        }
      ],
      "execution_count": 4
    },
    {
      "cell_type": "code",
      "source": "#What Happens Before and After Calling a Function in Python?\n#This question explores how function execution works,\n#highlighting the flow of execution before, during, and after a function call.\n\ndef say_hello():\n    print(\"Hello, world!\")\n\nprint(\"Calling function...\")  # Before\nsay_hello()\nprint(\"Function finished.\")   # After",
      "metadata": {
        "colab": {
          "base_uri": "https://localhost:8080/"
        },
        "id": "IM4x4QbmuupH",
        "outputId": "ced512b3-5482-4687-9814-770299a07d8c"
      },
      "outputs": [
        {
          "name": "stdout",
          "output_type": "stream",
          "text": "Calling function...\n,Hello, world!\n,Function finished.\n"
        }
      ],
      "execution_count": null
    },
    {
      "cell_type": "code",
      "source": "#How Can You Track Function Execution Using a Decorator in Python?\n#This question explores how a decorator can be used to log messages before and after a function runs,\n#helping with debugging and tracking execution flow.\ndef log_decorator(func):\n    def wrapper():\n        print(\"Calling function...\")  # Before\n        func()\n        print(\"Function finished.\")   # After\n    return wrapper\n\n@log_decorator\ndef say_hello():\n    print(\"Hello, world!\")\n\nsay_hello()\n",
      "metadata": {
        "colab": {
          "base_uri": "https://localhost:8080/"
        },
        "id": "qIHtka-nvwlD",
        "outputId": "cb4b8a88-a173-449f-ecf6-11f48c53958e"
      },
      "outputs": [
        {
          "name": "stdout",
          "output_type": "stream",
          "text": "Calling function...\n,Hello, world!\n,Function finished.\n"
        }
      ],
      "execution_count": 5
    },
    {
      "cell_type": "code",
      "source": "#How Can a Decorator Modify a Function's Return Value\n#Explanation:\n#This code demonstrates how a decorator can alter the return value of a function.\n    #i)Decorator Function: plagiarism\n    #-->Takes a function (fn) as input.\n    #-->Calls the function but ignores its original return value.\n    #-->Instead, it always returns \"not copied\".\n\n    #ii)Decorated Function: say_no()\n    #-->Originally meant to return \"hello\", but the decorator overrides it.\n    #-->When called, it returns \"not copied\" instead.\n\ndef plagaism(fn):\n  def wrapper():\n    fn()\n    return \"not copied\"\n  return wrapper\n\n@plagaism\ndef say_no():\n  return \"hello\"\n\nsay_no()\n\n#Output:\n'not copied'",
      "metadata": {
        "colab": {
          "base_uri": "https://localhost:8080/",
          "height": 35
        },
        "id": "WqsZeYSmwICC",
        "outputId": "c71c9510-f233-44c6-bf83-e32ced6eff76"
      },
      "outputs": [
        {
          "data": {
            "text/plain": [
              "'not copied'"
            ]
          },
          "execution_count": 6,
          "metadata": {},
          "output_type": "execute_result"
        }
      ],
      "execution_count": 6
    },
    {
      "cell_type": "code",
      "source": "#Fixed Version (Returning the Original Output + Modification)\n\n\"\"\"\nIf the intention was to keep the original return value while adding \"not copied\",\nthe decorator should capture and return fn() correctly:\n\"\"\"\n\ndef plagiarism(fn):\n    def wrapper():\n        original_output = fn()\n        return original_output + \" (not copied)\"\n    return wrapper\n\n@plagiarism\ndef say_no():\n    return \"hello\"\n\nprint(say_no())  # Output: \"hello (not copied)\"\n\n#Key Takeaways:\n#✅ Decorators can change function behavior without modifying the function itself.\n#✅ If the function has a return value, ensure it's properly handled inside the wrapper.\n#✅ Useful for logging, authentication, and enforcing rules (like plagiarism checks!).",
      "metadata": {},
      "outputs": [
        {
          "name": "stdout",
          "output_type": "stream",
          "text": "hello (not copied)\n"
        }
      ],
      "execution_count": 9
    },
    {
      "cell_type": "code",
      "source": "\n# \"\"\"\"\n# . **Text Analysis Tool**\n#    Create a set of lambda functions for analyzing text data from customer reviews:\n#    - Count words of specific lengths\n#    - Extract all words starting with a specific letter\n#    - Transform text to create hashtags (capitalize first letter of each word and join)\n   \n#    Example data:\n#    python\n#    reviews = [\n#        \"Great product, highly recommend!\",\n#        \"The quality could be better\",\n#        \"Amazing customer service experience\",\n#        \"Will definitely buy again\"\n#    ]\n   \n#Code\n# Sample reviews\nreviews = [\n    \"Great product, highly recommend!\",\n    \"The quality could be better\",\n    \"Amazing customer service experience\",\n    \"Will definitely buy again\"\n]\n\n# Lambda to count words of a specific length\ncount_words_by_length = lambda text, length: len([word.strip(\".,!\") for word in text.split() if len(word.strip(\".,!\")) == length])\n\n# Lambda to extract words starting with a specific letter\nwords_starting_with = lambda text, letter: [word.strip(\".,!\") for word in text.split() if word.lower().startswith(letter.lower())]\n\n# Lambda to transform text into hashtags\ncreate_hashtag = lambda text: \"#\" + \"\".join(word.capitalize() for word in text.split())\n\n# Testing the functions\nprint(count_words_by_length(reviews[0], 6))  # Example: Count words with length 6 in first review\nprint(words_starting_with(reviews[1], 'q'))  # Example: Words starting with 'q' in second review\nprint(create_hashtag(reviews[2]))            # Example: Hashtag from third review\n\n#Output\n#1\n#['quality']\n#AmazingCustomerServiceExperience\n",
      "metadata": {
        "id": "7mqniqtUwh_O"
      },
      "outputs": [
        {
          "name": "stdout",
          "output_type": "stream",
          "text": "1\n,['quality']\n,#AmazingCustomerServiceExperience\n"
        }
      ],
      "execution_count": 20
    },
    {
      "cell_type": "code",
      "source": "\"\"\"\n Smart Product Sorting\n   You're building an e-commerce platform that needs to sort products based on different criteria.\n   Create a system that uses lambda functions to:\n   - Sort products by price (both ascending and descending)\n   - Filter products by rating (above a given threshold)\n   - Calculate discounted prices based on different discount rules\n   \n   Example data:\n   products = [\n       {'name': 'Laptop', 'price': 1200, 'rating': 4.5, 'category': 'Electronics'},\n       {'name': 'Headphones', 'price': 100, 'rating': 4.0, 'category': 'Electronics'},\n       {'name': 'Book', 'price': 20, 'rating': 4.8, 'category': 'Books'},\n       {'name': 'Smart Watch', 'price': 300, 'rating': 4.2, 'category': 'Electronics'}\n   ]\n   ```\n\"\"\"\n#Here’s the complete Smart Product Sorting System using lambda functions in Python\n#Code\n# Sorting products by price (ascending & descending)\nsort_by_price_asc = lambda products: sorted(products, key=lambda x: x['price'])\nsort_by_price_desc = lambda products: sorted(products, key=lambda x: x['price'], reverse=True)\n\n# Filtering products by rating threshold\nfilter_by_rating = lambda products, min_rating: list(filter(lambda x: x['rating'] >= min_rating, products))\n\n# Calculating discounted price\ncalculate_discount = lambda price, discount_percent: price * (1 - discount_percent / 100)\n\n# Applying bulk discounts to a specific category\nbulk_discount = lambda products, category, discount: list(map(\n    lambda x: {**x, 'discounted_price': calculate_discount(x['price'], discount) if x['category'] == category else x['price']},\n    products\n))\n\n# Sample product data\nproducts = [\n    {'name': 'Laptop', 'price': 1200, 'rating': 4.5, 'category': 'Electronics'},\n    {'name': 'Headphones', 'price': 100, 'rating': 4.0, 'category': 'Electronics'},\n    {'name': 'Book', 'price': 20, 'rating': 4.8, 'category': 'Books'},\n    {'name': 'Smart Watch', 'price': 300, 'rating': 4.2, 'category': 'Electronics'}\n]\n#1. Sorting products by price (ascending)\nsorted_products_asc = sort_by_price_asc(products)\nprint(\"Sorted by Price (Ascending):\", sorted_products_asc)\n\n# 2. Sorting products by price (descending)\nsorted_products_desc = sort_by_price_desc(products)\nprint(\"Sorted by Price (Descending):\", sorted_products_desc)\n\n# 3. Filtering products with rating >= 4.5\nhigh_rated_products = filter_by_rating(products, 4.5)\nprint(\"Products with rating >= 4.5:\", high_rated_products)\n\n# 4. Applying 20% discount to all Electronics category products\ndiscounted_products = bulk_discount(products, 'Electronics', 20)\nprint(\"Discounted Electronics Products:\", discounted_products)\n\n# How It Works:\n# Sorting Functions\n#  sort_by_price_asc(products): Sorts products by price (low to high).\n#  sort_by_price_desc(products): Sorts products by price (high to low).\n\n# Filtering by Rating\n#   filter_by_rating(products, min_rating): Filters products with a rating above min_rating.\n\n# Applying Discounts\n#   calculate_discount(price, discount_percent): Computes the discounted price.\n#   bulk_discount(products, category, discount): Applies a percentage discount to a specific category.\n",
      "metadata": {},
      "outputs": [
        {
          "name": "stdout",
          "output_type": "stream",
          "text": "Sorted by Price (Ascending): [{'name': 'Book', 'price': 20, 'rating': 4.8, 'category': 'Books'}, {'name': 'Headphones', 'price': 100, 'rating': 4.0, 'category': 'Electronics'}, {'name': 'Smart Watch', 'price': 300, 'rating': 4.2, 'category': 'Electronics'}, {'name': 'Laptop', 'price': 1200, 'rating': 4.5, 'category': 'Electronics'}]\n,Sorted by Price (Descending): [{'name': 'Laptop', 'price': 1200, 'rating': 4.5, 'category': 'Electronics'}, {'name': 'Smart Watch', 'price': 300, 'rating': 4.2, 'category': 'Electronics'}, {'name': 'Headphones', 'price': 100, 'rating': 4.0, 'category': 'Electronics'}, {'name': 'Book', 'price': 20, 'rating': 4.8, 'category': 'Books'}]\n,Products with rating >= 4.5: [{'name': 'Laptop', 'price': 1200, 'rating': 4.5, 'category': 'Electronics'}, {'name': 'Book', 'price': 20, 'rating': 4.8, 'category': 'Books'}]\n,Discounted Electronics Products: [{'name': 'Laptop', 'price': 1200, 'rating': 4.5, 'category': 'Electronics', 'discounted_price': 960.0}, {'name': 'Headphones', 'price': 100, 'rating': 4.0, 'category': 'Electronics', 'discounted_price': 80.0}, {'name': 'Book', 'price': 20, 'rating': 4.8, 'category': 'Books', 'discounted_price': 20}, {'name': 'Smart Watch', 'price': 300, 'rating': 4.2, 'category': 'Electronics', 'discounted_price': 240.0}]\n"
        }
      ],
      "execution_count": 22
    },
    {
      "cell_type": "code",
      "source": "# E-commerce Order Processing System\n\"\"\"\nProblem: You're building a flexible order processing system for an e-commerce platform.\nThe system needs to:\n1. Apply different types of discounts based on business rules\n2. Validate orders before processing\n3. Calculate final prices\n4. Generate order summaries\n\nEach order has: items, quantities, and customer type (regular/premium)\nDifferent discount rules can be applied based on:\n- Season (summer sale, winter sale)\n- Customer type (premium customers get extra discount)\n- Order total (bulk discounts)\n\"\"\"\n# E-commerce Order Processing System\n# 🎯 Discount rules\ndef summer_discount(order):\n    \"\"\"Apply 20% off during the summer sale.\"\"\"\n    discount = 0.20\n    discounted_total = order['total'] * (1 - discount)\n    return {\n        **order,\n        'discount_applied': 'Summer Sale',\n        'discount_amount': order['total'] - discounted_total,\n        'final_total': discounted_total\n    }\n\ndef premium_discount(order):\n    \"\"\"Premium customers get 15% off.\"\"\"\n    discount = 0.15 if order['customer_type'] == 'premium' else 0\n    discounted_total = order['total'] * (1 - discount)\n    return {\n        **order,\n        'discount_applied': 'Premium Member',\n        'discount_amount': order['total'] - discounted_total,\n        'final_total': discounted_total\n    }\n\ndef bulk_discount(order):\n    \"\"\"Orders over $200 get 10% off.\"\"\"\n    discount = 0.10 if order['total'] > 200 else 0\n    discounted_total = order['total'] * (1 - discount)\n    return {\n        **order,\n        'discount_applied': 'Bulk Order',\n        'discount_amount': order['total'] - discounted_total,\n        'final_total': discounted_total\n    }\n\ndef first_time_customer_discount(order):\n    \"\"\"First-time customers get 25% off.\"\"\"\n    discount = 0.25 if order.get('first_time_customer', False) else 0\n    discounted_total = order['total'] * (1 - discount)\n    return {\n        **order,\n        'discount_applied': 'First-Time Customer',\n        'discount_amount': order['total'] - discounted_total,\n        'final_total': discounted_total\n    }\n\n# 🎯 Validation rules\ndef check_stock_available(order):\n    \"\"\"Ensure all items are in stock (Max 10 per item).\"\"\"\n    return all(item['quantity'] <= 10 for item in order['items'])\n\ndef check_valid_address(order):\n    \"\"\"Check if the shipping address is valid (at least 10 characters).\"\"\"\n    return len(order.get('address', '')) > 10\n\ndef check_payment_verified(order):\n    \"\"\"Ensure payment is verified before processing.\"\"\"\n    return order.get('payment_verified', False)\n\ndef check_max_order_value(order):\n    \"\"\"Reject orders above $5000.\"\"\"\n    return order['total'] <= 5000\n\n# 🎯 Best discount selection\ndef apply_best_discount(order, discount_functions):\n    \"\"\"Find the best discount by applying all available discounts and selecting the lowest price.\"\"\"\n    discounted_orders = [func(order) for func in discount_functions]\n    return min(discounted_orders, key=lambda x: x['final_total'])\n\n# 🎯 Order processing function\ndef process_order(order, discount_functions, validation_functions):\n    \"\"\"Process an order by validating and applying the best discount.\"\"\"\n    validation_results = {f\"validation_{i+1}\": func(order) for i, func in enumerate(validation_functions)}\n\n    if all(validation_results.values()):  # If all validations pass\n        processed_order = apply_best_discount(order, discount_functions)\n        processed_order['validation_status'] = 'PASSED'\n    else:\n        processed_order = {**order, 'validation_status': 'FAILED'}\n\n    processed_order['validation_details'] = validation_results\n    return processed_order\n\n# 🎯 Order summary functions\ndef detailed_summary(order):\n    \"\"\"Generate a detailed order summary.\"\"\"\n    item_list = \"\\n\".join(\n        [f\" - {item['name']} (x{item['quantity']}): ${item['price'] * item['quantity']:.2f}\" for item in order['items']]\n    )\n    return f\"\"\"\n📦 Order Summary\n----------------\nOrder ID: {order['order_id']}\nCustomer Type: {order['customer_type']}\nItems Ordered:\n{item_list}\nOriginal Total: ${order['total']:.2f}\nDiscount Applied: {order.get('discount_applied', 'None')}\nDiscount Amount: ${order.get('discount_amount', 0):.2f}\nFinal Total: ${order.get('final_total', order['total']):.2f}\nValidation Status: {order['validation_status']}\nValidation Details: {order['validation_details']}\n\"\"\"\n\n# 🎯 Example usage\nif __name__ == \"__main__\":\n    # Sample Order Data\n    order = {\n        'order_id': '12345',\n        'customer_type': 'premium',\n        'first_time_customer': True,  # First-time purchase\n        'items': [\n            {'name': 'Laptop', 'price': 1200, 'quantity': 1},\n            {'name': 'Mouse', 'price': 25, 'quantity': 2}\n        ],\n        'total': 1250,\n        'address': '123 Tech Street, Silicon Valley, CA 94025',\n        'payment_verified': True\n    }\n\n    # List of validation rules\n    validations = [\n        check_stock_available,\n        check_valid_address,\n        check_payment_verified,\n        check_max_order_value\n    ]\n\n    # List of available discounts\n    discount_functions = [\n        summer_discount,\n        premium_discount,\n        bulk_discount,\n        first_time_customer_discount\n    ]\n\n    # Process the order\n    processed_order = process_order(order, discount_functions, validations)\n\n    # Print the order summary\n    print(detailed_summary(processed_order))\n\n# Output:\n# 📦 Order Summary\n# ----------------\n# Order ID: 12345\n# Customer Type: premium\n# Items Ordered:\n#  - Laptop (x1): $1200.00\n#  - Mouse (x2): $50.00\n# Original Total: $1250.00\n# Discount Applied: First-Time Customer\n# Discount Amount: $312.50\n# Final Total: $937.50\n# Validation Status: PASSED\n# Validation Details: {'validation_1': True, 'validation_2': True, 'validation_3': True, 'validation_4': True}",
      "metadata": {},
      "outputs": [
        {
          "name": "stdout",
          "output_type": "stream",
          "text": "\n,📦 Order Summary\n,----------------\n,Order ID: 12345\n,Customer Type: premium\n,Items Ordered:\n, - Laptop (x1): $1200.00\n, - Mouse (x2): $50.00\n,Original Total: $1250.00\n,Discount Applied: First-Time Customer\n,Discount Amount: $312.50\n,Final Total: $937.50\n,Validation Status: PASSED\n,Validation Details: {'validation_1': True, 'validation_2': True, 'validation_3': True, 'validation_4': True}\n,\n"
        }
      ],
      "execution_count": 25
    },
    {
      "cell_type": "code",
      "source": "#Exercise:\n#Question-1.Add a new discount rule for first-time customers\n#Step 1:Define the Discount Rule\n#We will create a function called first_time_customer_discount that:\n #-->Checks if the customer is ordering for the first time using the first_time_customer flag in the order.\n #-->Applies a 25% discount if the customer is a first-time buyer.\n #-->Returns the updated order with the discount details.\n#Code\ndef first_time_customer_discount(order):\n    \"\"\"Applies a 25% discount for first-time customers.\"\"\"\n    discount = 0.25 if order.get('first_time_customer', False) else 0  # Apply discount only if first-time\n    discounted_total = order['total'] * (1 - discount)  # Calculate new total\n\n    return {\n        **order,\n        'discount_applied': 'First-Time Customer',\n        'discount_amount': order['total'] - discounted_total,\n        'final_total': discounted_total\n    }\n#Step 2: Using the Discount Rule\n#Now,let's apply the discount to a sample order.\n# Sample order from a first-time customer\norder = {\n    'order_id': '12345',\n    'customer_type': 'regular',\n    'first_time_customer': True,  # Customer is ordering for the first time\n    'items': [\n        {'name': 'Wireless Earbuds', 'price': 80, 'quantity': 1},\n        {'name': 'Phone Case', 'price': 20, 'quantity': 2}\n    ],\n    'total': 120,\n    'address': '789 Main Street, Los Angeles, CA 90001',\n    'payment_verified': True\n}\n# Apply First-Time Customer Discount\ndiscounted_order = first_time_customer_discount(order)\n\n# Print the updated order summary\nprint(f\"Original Total: ${order['total']}\")\nprint(f\"Discount Applied: {discounted_order['discount_applied']}\")\nprint(f\"Discount Amount: ${discounted_order['discount_amount']:.2f}\")\nprint(f\"Final Total: ${discounted_order['final_total']:.2f}\")\n\n#Output\n#Original Total: $120\n#Discount Applied: First-Time Customer\n#Discount Amount: $30.00\n#Final Total: $90.00\n\n# Step 3:Explanation\n# 1.Check if the customer is a first-time buyer\n#   We use order.get('first_time_customer', False).\n#   If the key first_time_customer exists and is True, apply the discount.\n# 2.Apply a 25% discount\n#   The formula discounted_total = order['total'] * (1 - discount) calculates the new total after the discount.\n# 3.Return the updated order\n#    The function adds new keys (discount_applied, discount_amount, and final_total) to the order.\n\n",
      "metadata": {},
      "outputs": [
        {
          "name": "stdout",
          "output_type": "stream",
          "text": "Original Total: $120\n,Discount Applied: First-Time Customer\n,Discount Amount: $30.00\n,Final Total: $90.00\n"
        }
      ],
      "execution_count": 24
    },
    {
      "cell_type": "code",
      "source": "\n#Question-2.Add a validation rule for maximum order value\n#Step 1: Define the Validation Rule\n#We will create a function check_max_order_value that:\n#-->Checks if the order total exceeds a set maximum limit (e.g., $5000).\n#-->Returns True if the order is within the limit.\n#-->Returns False if the order exceeds the limit.\n\n#Code \ndef check_max_order_value(order, max_limit=5000):\n    \"\"\"Validates that the order total does not exceed the maximum allowed value.\"\"\"\n    return order['total'] <= max_limit\n\n#Step 2: Using the Validation Rule\n#Now,let's test the validation with different orders.\n# Sample orders\norder1 = {'order_id': '12345', 'total': 4500}  # Within limit\norder2 = {'order_id': '67890', 'total': 5200}  # Exceeds limit\n\n# Validate both orders\nprint(f\"Order 1 valid: {check_max_order_value(order1)}\")  # Expected Output: True\nprint(f\"Order 2 valid: {check_max_order_value(order2)}\")  # Expected Output: False\n\n#Output\n#Order 1 valid: True\n#Order 2 valid: False\n\n#Step 3: Explanation\n#Define the Maximum Order Value\n#-->We set max_limit=5000 (this can be changed if needed).\n#Check if the Order Total Exceeds the Limit\n#-->If order['total'] > max_limit, return False (invalid order).\n#Otherwise, return True (valid order).\n#-->Use the Function in Order Validation",
      "metadata": {},
      "outputs": [
        {
          "name": "stdout",
          "output_type": "stream",
          "text": "Order 1 valid: True\n,Order 2 valid: False\n"
        }
      ],
      "execution_count": 26
    },
    {
      "cell_type": "code",
      "source": "#Question-3.Create a detailed summary format function\n#Creating a Detailed Order Summary Format Function\n#Step 1: What Should the Summary Include?\n\n# The detailed summary should include:\n# -->Order ID\n# -->Customer Type (Regular/Premium/First-time)\n# -->List of Items with Prices & Quantities\n# -->Original Total Price\n# -->Discount Applied (if any) & Discount Amount\n# -->Final Total After Discount\n# -->Validation Status (PASSED/FAILED)\n# -->Validation Details (Stock, Address, Payment, etc.)\n\n\n#Code\ndef detailed_summary(order):\n    \"\"\"Generates a detailed order summary with itemized details and validation status.\"\"\"\n    \n    # Create a formatted list of items\n    items_list = \"\\n\".join([\n        f\"  - {item['name']}: ${item['price']} x {item['quantity']} = ${item['price'] * item['quantity']}\"\n        for item in order['items']\n    ])\n    \n    # Format validation results\n    validation_details = \"\\n\".join([\n        f\"  ✅ {key}: {('PASSED' if value else 'FAILED')}\"\n        for key, value in order.get('validation_details', {}).items()\n    ])\n    \n    # Build the summary string\n    summary = f\"\"\"\n    📦 ORDER SUMMARY\n    -------------------------------\n    🆔 Order ID: {order['order_id']}\n    👤 Customer Type: {order['customer_type']}\n    \n    🛒 Items Ordered:\n    {items_list}\n\n    💰 Original Total: ${order['total']:.2f}\n    🎁 Discount Applied: {order.get('discount_applied', 'None')}\n    🔻 Discount Amount: ${order.get('discount_amount', 0):.2f}\n    🏷️ Final Total: ${order.get('final_total', order['total']):.2f}\n\n    ✅ Validation Status: {order['validation_status']}\n    🔍 Validation Details:\n    {validation_details if validation_details else '  - No validations performed'}\n\n    🛍️ Thank you for shopping with us!\n    \"\"\"\n    \n    return summary\n\n#Step 2: Example Usage\n# Sample processed order\nprocessed_order = {\n    'order_id': '12345',\n    'customer_type': 'premium',\n    'items': [\n        {'name': 'Laptop', 'price': 1200, 'quantity': 1},\n        {'name': 'Mouse', 'price': 25, 'quantity': 2}\n    ],\n    'total': 1250,\n    'discount_applied': 'Summer Sale',\n    'discount_amount': 250,\n    'final_total': 1000,\n    'validation_status': 'PASSED',\n    'validation_details': {\n        'Stock Check': True,\n        'Address Valid': True,\n        'Payment Verified': True\n    }\n}\n\n# Generate and print the detailed summary\nprint(detailed_summary(processed_order))\n\n#Output\n   \n#     📦 ORDER SUMMARY\n#     -------------------------------\n#     🆔 Order ID: 12345\n#     👤 Customer Type: premium\n    \n#     🛒 Items Ordered:\n#       - Laptop: $1200 x 1 = $1200\n#       - Mouse: $25 x 2 = $50\n\n#     💰 Original Total: $1250.00\n#     🎁 Discount Applied: Summer Sale\n#     🔻 Discount Amount: $250.00\n#     🏷️ Final Total: $1000.00\n\n#     ✅ Validation Status: PASSED\n#     🔍 Validation Details:\n#       ✅ Stock Check: PASSED\n#       ✅ Address Valid: PASSED\n#       ✅ Payment Verified: PASSED\n\n#     🛍️ Thank you for shopping with us!\n\n#Step 3:Explanation\n #Itemized List\n #-->Uses a loop to format each item, showing its price and total cost (price * quantity).\n\n #Validation Details\n #-->Displays validation checks like Stock Availability, Address Validity, and Payment Verification.\n\n #Discount Details\n #-->Shows if a discount was applied, how much was saved, and the final total.\n\n#Formatted Output\n#-->Uses emoji icons 🆔, 💰, 🎁, ✅ to improve readability.",
      "metadata": {},
      "outputs": [
        {
          "name": "stdout",
          "output_type": "stream",
          "text": "\n,    📦 ORDER SUMMARY\n,    -------------------------------\n,    🆔 Order ID: 12345\n,    👤 Customer Type: premium\n,    \n,    🛒 Items Ordered:\n,      - Laptop: $1200 x 1 = $1200\n,  - Mouse: $25 x 2 = $50\n,\n,    💰 Original Total: $1250.00\n,    🎁 Discount Applied: Summer Sale\n,    🔻 Discount Amount: $250.00\n,    🏷️ Final Total: $1000.00\n,\n,    ✅ Validation Status: PASSED\n,    🔍 Validation Details:\n,      ✅ Stock Check: PASSED\n,  ✅ Address Valid: PASSED\n,  ✅ Payment Verified: PASSED\n,\n,    🛍️ Thank you for shopping with us!\n,    \n"
        }
      ],
      "execution_count": 29
    },
    {
      "cell_type": "code",
      "source": "#Question-5.Add error handling for invalid orders\n#Adding Error Handling for Invalid Orders\n#Step 1: Understanding the Problem\n#We need to handle errors when processing an order, such as:\n    #Missing required fields (e.g., order_id, total).\n    #Invalid data types (e.g., total should be a number).\n    #Negative values (e.g., total cannot be negative).\n    #Empty order items (no products listed).\n    #Validation failures (e.g., unverified payment, invalid address).\n\n#Code\nclass OrderProcessingError(Exception):\n    \"\"\"Custom exception for order processing errors.\"\"\"\n    pass\n\ndef validate_order(order):\n    \"\"\"Checks for missing fields, invalid values, and validation failures.\"\"\"\n    required_fields = ['order_id', 'customer_type', 'items', 'total', 'address', 'payment_verified']\n    \n    # Check for missing fields\n    for field in required_fields:\n        if field not in order:\n            raise OrderProcessingError(f\"Missing required field: {field}\")\n\n    # Check for invalid data types\n    if not isinstance(order['total'], (int, float)) or order['total'] < 0:\n        raise OrderProcessingError(\"Invalid total amount. Must be a positive number.\")\n\n    if not isinstance(order['items'], list) or len(order['items']) == 0:\n        raise OrderProcessingError(\"Order must contain at least one item.\")\n\n    # Check for negative item prices or quantities\n    for item in order['items']:\n        if item['price'] < 0 or item['quantity'] <= 0:\n            raise OrderProcessingError(f\"Invalid item in order: {item}\")\n\n    # Run validation checks\n    validation_checks = {\n        \"Stock Check\": check_stock_available(order),\n        \"Address Valid\": check_valid_address(order),\n        \"Payment Verified\": check_payment_verified(order),\n    }\n\n    # If any validation fails, raise an error\n    failed_validations = [key for key, passed in validation_checks.items() if not passed]\n    if failed_validations:\n        raise OrderProcessingError(f\"Order validation failed: {', '.join(failed_validations)}\")\n\n    return True  # Order is valid\n\ndef process_order_with_error_handling(order, discount_functions):\n    \"\"\"\n    Processes an order with error handling.\n    \n    Args:\n        order (dict): The order details.\n        discount_functions (list): List of discount functions.\n        \n    Returns:\n        dict: Processed order with validation results or an error message.\n    \"\"\"\n    try:\n        # Validate the order\n        validate_order(order)\n\n        # Apply the best discount\n        processed_order = apply_best_discount(order, discount_functions)\n        processed_order['validation_status'] = 'PASSED'\n        return processed_order\n\n    except OrderProcessingError as e:\n        return {\n            'order_id': order.get('order_id', 'N/A'),\n            'error': str(e),\n            'validation_status': 'FAILED'\n        }\n#Step-2:Example order with an error (negative total)\ninvalid_order = {\n    'order_id': '78910',\n    'customer_type': 'regular',\n    'items': [\n        {'name': 'Tablet', 'price': 500, 'quantity': 1},\n        {'name': 'Charger', 'price': -30, 'quantity': 1}  # Invalid price\n    ],\n    'total': 470,\n    'address': '789 Broadway, NY, 10002',\n    'payment_verified': False  # Payment is not verified\n}\n\n# Try processing the invalid order\nprocessed_invalid_order = process_order_with_error_handling(invalid_order, [summer_discount, premium_discount])\n\n# Print result\nprint(processed_invalid_order)\n\n#Output\n# {\n#     'order_id': '78910',\n#     'error': 'Invalid item in order: {name: \"Charger\", price: -30, quantity: 1}',\n#     'validation_status': 'FAILED'\n# }\n \n\n\n# Step 3: Explanation\n#     i.Custom Exception (OrderProcessingError)\n#         Used for raising meaningful errors when the order is invalid.\n#     ii.validate_order() Function\n#         Checks for missing fields.\n#         Ensures correct data types.\n#         Verifies non-negative prices and quantities.\n#         Runs order validation checks (stock, address, payment).\n#         Raises an error if any validation fails.\n#     iii.process_order_with_error_handling() Function\n#         Tries to process the order.\n#         If valid, applies the best discount.\n#         If invalid, catches the error and returns a failure response.\n\n\n\n# This exercise helps practice:\n# - Functions as arguments\n# - Nested functions\n# - Function composition\n# - Dictionary manipulation\n# - List comprehensions with functions",
      "metadata": {},
      "outputs": [
        {
          "name": "stdout",
          "output_type": "stream",
          "text": "{'order_id': '78910', 'error': \"Invalid item in order: {'name': 'Charger', 'price': -30, 'quantity': 1}\", 'validation_status': 'FAILED'}\n"
        }
      ],
      "execution_count": 36
    },
    {
      "cell_type": "markdown",
      "source": "## real world examples",
      "metadata": {}
    },
    {
      "cell_type": "code",
      "source": "#Distance Between Two Places (Geolocation API)\n\nimport requests\n\ndef get_distance(origin, destination, api_key):\n    url = f\"https://maps.googleapis.com/maps/api/distancematrix/json?origins={origin}&destinations={destination}&key={api_key}\"\n    response = requests.get(url).json()\n    \n    if response[\"status\"] == \"OK\":\n        return response[\"rows\"][0][\"elements\"][0][\"distance\"][\"text\"]\n    return \"Error fetching distance.\"\n\n# Example usage (replace with your Google Maps API key)\n# print(get_distance(\"New York, USA\", \"Los Angeles, USA\", \"YOUR_API_KEY\"))  \n",
      "metadata": {
        "trusted": true
      },
      "outputs": [],
      "execution_count": null
    },
    {
      "cell_type": "code",
      "source": "#Password Strength Checker\n\nimport re\n\ndef check_password_strength(password):\n    if len(password) < 8:\n        return \"Weak: Password should be at least 8 characters long.\"\n    \n    if not re.search(r\"[A-Z]\", password):\n        return \"Weak: Add at least one uppercase letter.\"\n    \n    if not re.search(r\"[a-z]\", password):\n        return \"Weak: Add at least one lowercase letter.\"\n    \n    if not re.search(r\"\\d\", password):\n        return \"Weak: Add at least one number.\"\n    \n    if not re.search(r\"[!@#$%^&*(),.?\\\":{}|<>]\", password):\n        return \"Weak: Add at least one special character.\"\n    \n    return \"Strong Password! ✅\"\n\nprint(check_password_strength(\"Hello123\"))  # Output: Weak (No special character)  \n",
      "metadata": {
        "trusted": true
      },
      "outputs": [],
      "execution_count": null
    },
    {
      "cell_type": "code",
      "source": "# Generate a QR Code for Any URL\nimport qrcode\n\ndef generate_qr(url, filename=\"qrcode.png\"):\n    qr = qrcode.make(url)\n    qr.save(filename)\n    print(f\"QR Code saved as {filename}\")\n\ngenerate_qr(\"https://www.google.com\")  \n",
      "metadata": {
        "trusted": true
      },
      "outputs": [],
      "execution_count": null
    },
    {
      "cell_type": "code",
      "source": "# Rock, Paper, Scissors Game\n\nimport random\n\ndef rock_paper_scissors(user_choice):\n    choices = [\"rock\", \"paper\", \"scissors\"]\n    computer_choice = random.choice(choices)\n\n    if user_choice == computer_choice:\n        return f\"Tie! Both chose {user_choice}\"\n    \n    rules = {\n        \"rock\": \"scissors\",\n        \"paper\": \"rock\",\n        \"scissors\": \"paper\"\n    }\n\n    if rules[user_choice] == computer_choice:\n        return f\"You win! {user_choice} beats {computer_choice}\"\n    return f\"You lose! {computer_choice} beats {user_choice}\"\n\nprint(rock_paper_scissors(\"rock\"))  \n",
      "metadata": {
        "trusted": true
      },
      "outputs": [],
      "execution_count": null
    }
  ]
}